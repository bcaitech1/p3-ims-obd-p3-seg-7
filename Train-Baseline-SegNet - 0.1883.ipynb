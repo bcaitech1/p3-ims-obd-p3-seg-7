{
 "cells": [
  {
   "cell_type": "code",
   "execution_count": 1,
   "metadata": {
    "ExecuteTime": {
     "end_time": "2021-04-22T11:06:58.944902Z",
     "start_time": "2021-04-22T11:06:56.623974Z"
    },
    "scrolled": false
   },
   "outputs": [
    {
     "name": "stdout",
     "output_type": "stream",
     "text": [
      "pytorch version: 1.7.1+cu101\n",
      "GPU 사용 가능 여부: True\n",
      "GeForce RTX 2080 SUPER\n",
      "1\n"
     ]
    }
   ],
   "source": [
    "import os\n",
    "import random\n",
    "import time\n",
    "import json\n",
    "import warnings \n",
    "warnings.filterwarnings('ignore')\n",
    "\n",
    "import torch\n",
    "import torch.nn as nn\n",
    "import torch.optim as optim\n",
    "from torch.utils.data import Dataset, DataLoader\n",
    "from utils import label_accuracy_score\n",
    "import cv2\n",
    "\n",
    "import numpy as np\n",
    "import pandas as pd           \n",
    "from tqdm import tqdm\n",
    "\n",
    "# 전처리를 위한 라이브러리\n",
    "from pycocotools.coco import COCO\n",
    "\n",
    "import torchvision\n",
    "from torchvision import models\n",
    "from torchvision.models import vgg16\n",
    "import torchvision.transforms as transforms\n",
    "\n",
    "import albumentations as A\n",
    "from albumentations.pytorch import ToTensorV2\n",
    "\n",
    "# 시각화를 위한 라이브러리\n",
    "import matplotlib.pyplot as plt\n",
    "import seaborn as sns; sns.set()\n",
    "\n",
    "plt.rcParams['axes.grid'] = False\n",
    "\n",
    "print('pytorch version: {}'.format(torch.__version__))\n",
    "print('GPU 사용 가능 여부: {}'.format(torch.cuda.is_available()))\n",
    "\n",
    "print(torch.cuda.get_device_name(0))\n",
    "print(torch.cuda.device_count())\n",
    "\n",
    "device = \"cuda\" if torch.cuda.is_available() else \"cpu\"   # GPU 사용 가능 여부에 따라 device 정보 저장"
   ]
  },
  {
   "cell_type": "markdown",
   "metadata": {},
   "source": [
    "## 하이퍼파라미터 세팅 및 seed 고정"
   ]
  },
  {
   "cell_type": "code",
   "execution_count": 2,
   "metadata": {
    "ExecuteTime": {
     "end_time": "2021-04-22T11:06:59.171980Z",
     "start_time": "2021-04-22T11:06:59.167952Z"
    }
   },
   "outputs": [],
   "source": [
    "batch_size = 2   # Mini-batch size\n",
    "num_epochs = 40\n",
    "learning_rate = 0.0001\n",
    "\n",
    "val_every = 1"
   ]
  },
  {
   "cell_type": "code",
   "execution_count": 3,
   "metadata": {
    "ExecuteTime": {
     "end_time": "2021-04-22T11:06:59.446510Z",
     "start_time": "2021-04-22T11:06:59.443508Z"
    }
   },
   "outputs": [],
   "source": [
    "# seed 고정\n",
    "random_seed = 21\n",
    "torch.manual_seed(random_seed)\n",
    "torch.cuda.manual_seed(random_seed)\n",
    "# torch.cuda.manual_seed_all(random_seed) # if use multi-GPU\n",
    "torch.backends.cudnn.deterministic = True\n",
    "torch.backends.cudnn.benchmark = False\n",
    "np.random.seed(random_seed)\n",
    "random.seed(random_seed)"
   ]
  },
  {
   "cell_type": "markdown",
   "metadata": {},
   "source": [
    "## 모델 이름 및 경로 설정"
   ]
  },
  {
   "cell_type": "code",
   "execution_count": 4,
   "metadata": {},
   "outputs": [],
   "source": [
    "model_name = 'Baseline-SegNet-Normalization'\n",
    "saved_dir = 'saved'\n",
    "model_path = os.path.join(saved_dir, f'{model_name}.pt')\n",
    "\n",
    "dataset_path = 'data'\n",
    "train_path = os.path.join(dataset_path, 'train.json')\n",
    "val_path = os.path.join(dataset_path, 'val.json')\n",
    "test_path = os.path.join(dataset_path, 'test.json')\n",
    "\n",
    "category_names = ['Backgroud', 'UNKNOWN', 'General trash', 'Paper', 'Paper pack', \\\n",
    "                  'Metal', 'Glass', 'Plastic', 'Styrofoam', 'Plastic bag', \\\n",
    "                  'Battery', 'Clothing']"
   ]
  },
  {
   "cell_type": "markdown",
   "metadata": {},
   "source": [
    "## 데이터 전처리"
   ]
  },
  {
   "cell_type": "code",
   "execution_count": 5,
   "metadata": {},
   "outputs": [],
   "source": [
    "train_transform = A.Compose([\n",
    "    A.Normalize((0.4185, 0.4398, 0.461), (0.2466, 0.2345, 0.2382)),\n",
    "    ToTensorV2(),\n",
    "])\n",
    "\n",
    "val_transform = A.Compose([\n",
    "    A.Normalize((0.4185, 0.4398, 0.461), (0.2466, 0.2345, 0.2382)),\n",
    "    ToTensorV2(),\n",
    "])\n",
    "\n",
    "test_transform = A.Compose([\n",
    "    A.Normalize((0.4185, 0.4398, 0.461), (0.2466, 0.2345, 0.2382)),\n",
    "    ToTensorV2(),\n",
    "])"
   ]
  },
  {
   "cell_type": "markdown",
   "metadata": {},
   "source": [
    "## Model"
   ]
  },
  {
   "cell_type": "code",
   "execution_count": 6,
   "metadata": {
    "ExecuteTime": {
     "end_time": "2021-04-22T11:15:29.119807Z",
     "start_time": "2021-04-22T11:15:29.109808Z"
    }
   },
   "outputs": [],
   "source": [
    "class MODEL(nn.Module):\n",
    "    def __init__(self, num_classes=12, init_weights=True):\n",
    "        super(MODEL, self).__init__()\n",
    "        def CBR(in_channels, out_channels, kernel_size=3, stride=1, padding=1):\n",
    "            return nn.Sequential(*[\n",
    "                nn.Conv2d(in_channels=in_channels, \n",
    "                          out_channels=out_channels,\n",
    "                          kernel_size=kernel_size, \n",
    "                          stride=stride, \n",
    "                          padding=padding), \n",
    "                nn.BatchNorm2d(num_features=out_channels), \n",
    "                nn.ReLU()\n",
    "            ])\n",
    "        \n",
    "        # conv1 \n",
    "        self.cbr1_1 = CBR(3, 64, 3, 1, 1)\n",
    "        self.cbr1_2 = CBR(64, 64, 3, 1, 1)\n",
    "        self.pool1 = nn.MaxPool2d(2, stride=2, ceil_mode=True, return_indices=True) \n",
    "\n",
    "        # conv2 \n",
    "        self.cbr2_1 = CBR(64, 128, 3, 1, 1)\n",
    "        self.cbr2_2 = CBR(128, 128, 3, 1, 1)\n",
    "        self.pool2 = nn.MaxPool2d(2, stride=2, ceil_mode=True, return_indices=True) \n",
    "\n",
    "        # conv3\n",
    "        self.cbr3_1 = CBR(128, 256, 3, 1, 1)\n",
    "        self.cbr3_2 = CBR(256, 256, 3, 1, 1)\n",
    "        self.cbr3_3 = CBR(256, 256, 3, 1, 1)\n",
    "        self.pool3 = nn.MaxPool2d(2, stride=2, ceil_mode=True, return_indices=True) \n",
    "\n",
    "        # conv4\n",
    "        self.cbr4_1 = CBR(256, 512, 3, 1, 1)\n",
    "        self.cbr4_2 = CBR(512, 512, 3, 1, 1)\n",
    "        self.cbr4_3 = CBR(512, 512, 3, 1, 1)\n",
    "        self.pool4 = nn.MaxPool2d(2, stride=2, ceil_mode=True, return_indices=True) \n",
    "\n",
    "        # conv5\n",
    "        self.cbr5_1 = CBR(512, 512, 3, 1, 1)\n",
    "        self.cbr5_2 = CBR(512, 512, 3, 1, 1)\n",
    "        self.cbr5_3 = CBR(512, 512, 3, 1, 1)\n",
    "        self.pool5 = nn.MaxPool2d(2, stride=2, ceil_mode=True, return_indices=True) \n",
    "        \n",
    "        # deconv5\n",
    "        self.unpool5 = nn.MaxUnpool2d(2, stride=2)\n",
    "        self.dcbr5_3 = CBR(512, 512, 3, 1, 1)\n",
    "        self.dcbr5_2 = CBR(512, 512, 3, 1, 1)\n",
    "        self.dcbr5_1 = CBR(512, 512, 3, 1, 1)\n",
    "\n",
    "        # deconv4 \n",
    "        self.unpool4 = nn.MaxUnpool2d(2, stride=2)\n",
    "        self.dcbr4_3 = CBR(512, 512, 3, 1, 1)\n",
    "        self.dcbr4_2 = CBR(512, 512, 3, 1, 1)\n",
    "        self.dcbr4_1 = CBR(512, 256, 3, 1, 1)\n",
    "\n",
    "        # deconv3\n",
    "        self.unpool3 = nn.MaxUnpool2d(2, stride=2)\n",
    "        self.dcbr3_3 = CBR(256, 256, 3, 1, 1)\n",
    "        self.dcbr3_2 = CBR(256, 256, 3, 1, 1)\n",
    "        self.dcbr3_1 = CBR(256, 128, 3, 1, 1)\n",
    "\n",
    "        # deconv2\n",
    "        self.unpool2 = nn.MaxUnpool2d(2, stride=2)\n",
    "        self.dcbr2_2 = CBR(128, 128, 3, 1, 1)\n",
    "        self.dcbr2_1 = CBR(128, 64, 3, 1, 1)\n",
    "\n",
    "        # deconv1\n",
    "        self.unpool1 = nn.MaxUnpool2d(2, stride=2)\n",
    "        self.deconv1_1 = CBR(64, 64, 3, 1, 1)\n",
    "        # Score\n",
    "        self.score_fr = nn.Conv2d(64, num_classes, kernel_size = 1)\n",
    "        \n",
    "        if init_weights:\n",
    "            self._initialize_weights()\n",
    "    \n",
    "    def _initialize_weights(self):\n",
    "        for m in self.modules():\n",
    "            if isinstance(m, nn.Conv2d):\n",
    "                torch.nn.init.xavier_uniform_(m.weight)\n",
    "\n",
    "                if m.bias is not None:\n",
    "                    torch.nn.init.zeros_(m.bias)\n",
    "    \n",
    "    def forward(self, x):\n",
    "        h = self.cbr1_1(x)\n",
    "        h = self.cbr1_2(h)\n",
    "        dim1 = h.size()\n",
    "        h, pool1_indices = self.pool1(h)\n",
    "        \n",
    "        h = self.cbr2_1(h)\n",
    "        h = self.cbr2_2(h)\n",
    "        dim2 = h.size()\n",
    "        h, pool2_indices = self.pool2(h)\n",
    "        \n",
    "        h = self.cbr3_1(h)\n",
    "        h = self.cbr3_2(h)\n",
    "        h = self.cbr3_3(h)\n",
    "        dim3 = h.size()\n",
    "        h, pool3_indices = self.pool3(h)\n",
    "        \n",
    "        h = self.cbr4_1(h)\n",
    "        h = self.cbr4_2(h)\n",
    "        h = self.cbr4_3(h)\n",
    "        dim4 = h.size()\n",
    "        h, pool4_indices = self.pool4(h)\n",
    "        \n",
    "        h = self.cbr5_1(h)\n",
    "        h = self.cbr5_2(h)\n",
    "        h = self.cbr5_3(h)\n",
    "        dim5 = h.size()\n",
    "        h, pool5_indices = self.pool5(h)\n",
    "        \n",
    "        h = self.unpool5(h, pool5_indices, output_size = dim5)\n",
    "        h = self.dcbr5_3(h)\n",
    "        h = self.dcbr5_2(h)\n",
    "        h = self.dcbr5_1(h)\n",
    "        \n",
    "        h = self.unpool4(h, pool4_indices, output_size = dim4)\n",
    "        h = self.dcbr4_3(h)\n",
    "        h = self.dcbr4_2(h)\n",
    "        h = self.dcbr4_1(h)\n",
    "        \n",
    "        h = self.unpool3(h, pool3_indices, output_size = dim3)\n",
    "        h = self.dcbr3_3(h)\n",
    "        h = self.dcbr3_2(h)\n",
    "        h = self.dcbr3_1(h)\n",
    "        \n",
    "        h = self.unpool2(h, pool2_indices, output_size = dim2)\n",
    "        h = self.dcbr2_2(h)\n",
    "        h = self.dcbr2_1(h)\n",
    "        \n",
    "        h = self.unpool1(h, pool1_indices, output_size = dim1)\n",
    "        h = self.deconv1_1(h)\n",
    "        out = self.score_fr(h) \n",
    "        \n",
    "        return out"
   ]
  },
  {
   "cell_type": "code",
   "execution_count": 7,
   "metadata": {
    "ExecuteTime": {
     "end_time": "2021-04-22T11:15:34.624277Z",
     "start_time": "2021-04-22T11:15:30.068347Z"
    }
   },
   "outputs": [
    {
     "name": "stdout",
     "output_type": "stream",
     "text": [
      "input shape :  torch.Size([1, 3, 512, 512])\n",
      "output shape :  torch.Size([1, 12, 512, 512])\n"
     ]
    }
   ],
   "source": [
    "# 구현된 model에 임의의 input을 넣어 output이 잘 나오는지 test\n",
    "\n",
    "model = MODEL(num_classes=12)\n",
    "x = torch.randn([1, 3, 512, 512])\n",
    "print(\"input shape : \", x.shape)\n",
    "out = model(x).to(device)\n",
    "print(\"output shape : \", out.size())\n",
    "\n",
    "model = model.to(device)"
   ]
  },
  {
   "cell_type": "markdown",
   "metadata": {},
   "source": [
    "---"
   ]
  },
  {
   "cell_type": "markdown",
   "metadata": {},
   "source": [
    "## 데이터 전처리 함수 정의 (Dataset)"
   ]
  },
  {
   "cell_type": "code",
   "execution_count": 8,
   "metadata": {
    "ExecuteTime": {
     "end_time": "2021-04-22T11:07:04.439837Z",
     "start_time": "2021-04-22T11:07:04.425804Z"
    }
   },
   "outputs": [],
   "source": [
    "def get_classname(classID, cats):\n",
    "    for cat in cats:\n",
    "        if cat['id'] == classID:\n",
    "            return cat['name']\n",
    "    return \"None\"\n",
    "\n",
    "class CustomDataLoader(Dataset):\n",
    "    \"\"\"COCO format\"\"\"\n",
    "    def __init__(self, data_dir, mode = 'train', transform = None):\n",
    "        super().__init__()\n",
    "        self.mode = mode\n",
    "        self.transform = transform\n",
    "        self.coco = COCO(data_dir)\n",
    "        \n",
    "    def __getitem__(self, index: int):\n",
    "        # dataset이 index되어 list처럼 동작\n",
    "        image_id = self.coco.getImgIds(imgIds=index)\n",
    "        image_infos = self.coco.loadImgs(image_id)[0]\n",
    "        \n",
    "        # cv2 를 활용하여 image 불러오기\n",
    "        images = cv2.imread(os.path.join(dataset_path, image_infos['file_name']))\n",
    "        images = cv2.cvtColor(images, cv2.COLOR_BGR2RGB).astype(np.float32)\n",
    "        images /= 255.0\n",
    "        \n",
    "        if (self.mode in ('train', 'val')):\n",
    "            ann_ids = self.coco.getAnnIds(imgIds=image_infos['id'])\n",
    "            anns = self.coco.loadAnns(ann_ids)\n",
    "\n",
    "            # Load the categories in a variable\n",
    "            cat_ids = self.coco.getCatIds()\n",
    "            cats = self.coco.loadCats(cat_ids)\n",
    "\n",
    "            # masks : size가 (height x width)인 2D\n",
    "            # 각각의 pixel 값에는 \"category id + 1\" 할당\n",
    "            # Background = 0\n",
    "            masks = np.zeros((image_infos[\"height\"], image_infos[\"width\"]))\n",
    "            # Unknown = 1, General trash = 2, ... , Cigarette = 11\n",
    "            for i in range(len(anns)):\n",
    "                className = get_classname(anns[i]['category_id'], cats)\n",
    "                pixel_value = category_names.index(className)\n",
    "                masks = np.maximum(self.coco.annToMask(anns[i])*pixel_value, masks)\n",
    "            masks = masks.astype(np.float32)\n",
    "\n",
    "            # transform -> albumentations 라이브러리 활용\n",
    "            if self.transform is not None:\n",
    "                transformed = self.transform(image=images, mask=masks)\n",
    "                images = transformed[\"image\"]\n",
    "                masks = transformed[\"mask\"]\n",
    "            \n",
    "            return images, masks, image_infos\n",
    "        \n",
    "        if self.mode == 'test':\n",
    "            # transform -> albumentations 라이브러리 활용\n",
    "            if self.transform is not None:\n",
    "                transformed = self.transform(image=images)\n",
    "                images = transformed[\"image\"]\n",
    "            \n",
    "            return images, image_infos\n",
    "    \n",
    "    \n",
    "    def __len__(self) -> int:\n",
    "        # 전체 dataset의 size를 return\n",
    "        return len(self.coco.getImgIds())"
   ]
  },
  {
   "cell_type": "markdown",
   "metadata": {},
   "source": [
    "## Dataset 정의 및 DataLoader 할당"
   ]
  },
  {
   "cell_type": "code",
   "execution_count": 9,
   "metadata": {
    "ExecuteTime": {
     "end_time": "2021-04-22T11:07:09.179806Z",
     "start_time": "2021-04-22T11:07:04.440804Z"
    },
    "scrolled": true
   },
   "outputs": [
    {
     "name": "stdout",
     "output_type": "stream",
     "text": [
      "loading annotations into memory...\n",
      "Done (t=5.03s)\n",
      "creating index...\n",
      "index created!\n",
      "loading annotations into memory...\n",
      "Done (t=1.26s)\n",
      "creating index...\n",
      "index created!\n",
      "loading annotations into memory...\n",
      "Done (t=0.01s)\n",
      "creating index...\n",
      "index created!\n"
     ]
    }
   ],
   "source": [
    "# collate_fn needs for batch\n",
    "def collate_fn(batch):\n",
    "    return tuple(zip(*batch))\n",
    "\n",
    "# train dataset\n",
    "train_dataset = CustomDataLoader(data_dir=train_path, mode='train', transform=train_transform)\n",
    "val_dataset = CustomDataLoader(data_dir=val_path, mode='val', transform=val_transform)\n",
    "test_dataset = CustomDataLoader(data_dir=test_path, mode='test', transform=test_transform)\n",
    "\n",
    "# DataLoader\n",
    "train_loader = torch.utils.data.DataLoader(dataset=train_dataset, \n",
    "                                           batch_size=batch_size,\n",
    "                                           shuffle=True,\n",
    "#                                            num_workers=2,\n",
    "                                           collate_fn=collate_fn)\n",
    "\n",
    "val_loader = torch.utils.data.DataLoader(dataset=val_dataset, \n",
    "                                         batch_size=batch_size,\n",
    "                                         shuffle=False,\n",
    "#                                          num_workers=2,\n",
    "                                         collate_fn=collate_fn)\n",
    "\n",
    "test_loader = torch.utils.data.DataLoader(dataset=test_dataset,\n",
    "                                          batch_size=batch_size,\n",
    "#                                           num_workers=2,\n",
    "                                          collate_fn=collate_fn)"
   ]
  },
  {
   "cell_type": "markdown",
   "metadata": {},
   "source": [
    "## train, validation, test 함수 정의"
   ]
  },
  {
   "cell_type": "code",
   "execution_count": 10,
   "metadata": {
    "ExecuteTime": {
     "end_time": "2021-04-22T11:15:38.201874Z",
     "start_time": "2021-04-22T11:15:38.187884Z"
    }
   },
   "outputs": [],
   "source": [
    "def train(num_epochs, model, data_loader, val_loader, criterion, optimizer, saved_dir, val_every, device):\n",
    "    best_loss = 10\n",
    "    best_epoch = 0\n",
    "    \n",
    "    for epoch in range(num_epochs):\n",
    "        model.train()\n",
    "        with tqdm(data_loader, unit=\"batch\") as loader:\n",
    "            loader.set_description(f\"Epoch {epoch}\")\n",
    "            loss_sum, n_batch = 0., 0.\n",
    "            \n",
    "            for images, masks, _ in loader:\n",
    "                images = torch.stack(images)       # (batch, channel, height, width)\n",
    "                masks = torch.stack(masks).long()  # (batch, channel, height, width)\n",
    "\n",
    "                # gpu 연산을 위해 device 할당\n",
    "                images, masks = images.to(device), masks.to(device)\n",
    "\n",
    "                # inference\n",
    "                outputs = model(images)\n",
    "\n",
    "                # loss 계산 (cross entropy loss)\n",
    "                loss = criterion(outputs, masks)\n",
    "                optimizer.zero_grad()\n",
    "                loss.backward()\n",
    "                optimizer.step()\n",
    "\n",
    "                # step 주기에 따른 loss 출력\n",
    "                n_batch += 1\n",
    "                loss_sum += loss.item()\n",
    "                loader.set_postfix(loss=loss_sum / n_batch)\n",
    "        \n",
    "        # validation 주기에 따른 loss 출력 및 best model 저장\n",
    "        if (epoch + 1) % val_every == 0:\n",
    "            avrg_loss = validation(epoch + 1, model, val_loader, criterion, device)\n",
    "            if avrg_loss < best_loss:\n",
    "                best_loss = avrg_loss\n",
    "                best_epoch = epoch\n",
    "                save_model(model)\n",
    "        \n",
    "            print('Best performance at epoch: {}'.format(best_epoch))"
   ]
  },
  {
   "cell_type": "code",
   "execution_count": 11,
   "metadata": {
    "ExecuteTime": {
     "end_time": "2021-04-22T11:15:38.901226Z",
     "start_time": "2021-04-22T11:15:38.888195Z"
    }
   },
   "outputs": [],
   "source": [
    "def validation(epoch, model, data_loader, criterion, device):\n",
    "    model.eval()\n",
    "    with torch.no_grad():\n",
    "        total_loss = 0\n",
    "        cnt = 0\n",
    "        mIoU_list = []\n",
    "        \n",
    "        with tqdm(data_loader, unit=\"batch\") as loader:\n",
    "            loader.set_description(\"Validation\")\n",
    "            loss_sum, n_batch = 0., 0.\n",
    "            \n",
    "            for images, masks, _ in loader:\n",
    "                images = torch.stack(images)       # (batch, channel, height, width)\n",
    "                masks = torch.stack(masks).long()  # (batch, channel, height, width)\n",
    "\n",
    "                images, masks = images.to(device), masks.to(device)            \n",
    "\n",
    "                outputs = model(images)\n",
    "                loss = criterion(outputs, masks)\n",
    "                total_loss += loss.item()\n",
    "                cnt += 1\n",
    "\n",
    "                outputs = torch.argmax(outputs, dim=1).detach().cpu().numpy()\n",
    "\n",
    "                mIoU = label_accuracy_score(masks.detach().cpu().numpy(), outputs, n_class=12)[2]\n",
    "                mIoU_list.append(mIoU)\n",
    "                \n",
    "                loader.set_postfix(loss=total_loss / cnt, mIoU=np.mean(mIoU_list))\n",
    "            \n",
    "        avrg_loss = total_loss / cnt\n",
    "#         print('Validation #{}  Average Loss: {:.4f}, mIoU: {:.4f}'.format(epoch, avrg_loss, np.mean(mIoU_list)))\n",
    "\n",
    "    return avrg_loss"
   ]
  },
  {
   "cell_type": "markdown",
   "metadata": {},
   "source": [
    "## 모델 저장 함수 및 Loss function, Optimizer 정의"
   ]
  },
  {
   "cell_type": "code",
   "execution_count": 12,
   "metadata": {
    "ExecuteTime": {
     "end_time": "2021-04-22T11:15:43.106368Z",
     "start_time": "2021-04-22T11:15:43.096368Z"
    }
   },
   "outputs": [],
   "source": [
    "def save_model(model, output_path=model_path):\n",
    "    check_point = {'net': model.state_dict()}\n",
    "    torch.save(model.state_dict(), output_path)\n",
    "\n",
    "criterion = nn.CrossEntropyLoss()\n",
    "optimizer = torch.optim.Adam(params = model.parameters(), lr = learning_rate, weight_decay=1e-6)"
   ]
  },
  {
   "cell_type": "markdown",
   "metadata": {},
   "source": [
    "## 모델 학습"
   ]
  },
  {
   "cell_type": "code",
   "execution_count": 13,
   "metadata": {
    "ExecuteTime": {
     "start_time": "2021-04-22T11:15:43.700Z"
    },
    "scrolled": false
   },
   "outputs": [
    {
     "name": "stderr",
     "output_type": "stream",
     "text": [
      "Epoch 0:   0%|                                                                          | 0/1309 [00:00<?, ?batch/s]"
     ]
    },
    {
     "name": "stdout",
     "output_type": "stream",
     "text": [
      "Start training..\n"
     ]
    },
    {
     "name": "stderr",
     "output_type": "stream",
     "text": [
      "Epoch 0: 100%|█████████████████████████████████████████████████████| 1309/1309 [07:12<00:00,  3.02batch/s, loss=1.2]\n",
      "Validation: 100%|█████████████████████████████████████████| 328/328 [00:46<00:00,  7.10batch/s, loss=1.06, mIoU=0.2]\n",
      "Epoch 1:   0%|                                                                          | 0/1309 [00:00<?, ?batch/s]"
     ]
    },
    {
     "name": "stdout",
     "output_type": "stream",
     "text": [
      "Best performance at epoch: 0\n"
     ]
    },
    {
     "name": "stderr",
     "output_type": "stream",
     "text": [
      "Epoch 1: 100%|████████████████████████████████████████████████████| 1309/1309 [07:19<00:00,  2.98batch/s, loss=0.91]\n",
      "Validation: 100%|██████████████████████████████████████| 328/328 [00:46<00:00,  7.08batch/s, loss=0.994, mIoU=0.144]\n",
      "Epoch 2:   0%|                                                                          | 0/1309 [00:00<?, ?batch/s]"
     ]
    },
    {
     "name": "stdout",
     "output_type": "stream",
     "text": [
      "Best performance at epoch: 1\n"
     ]
    },
    {
     "name": "stderr",
     "output_type": "stream",
     "text": [
      "Epoch 2: 100%|███████████████████████████████████████████████████| 1309/1309 [07:18<00:00,  2.98batch/s, loss=0.856]\n",
      "Validation: 100%|███████████████████████████████████████| 328/328 [00:44<00:00,  7.31batch/s, loss=1.07, mIoU=0.182]\n",
      "Epoch 3:   0%|                                                                          | 0/1309 [00:00<?, ?batch/s]"
     ]
    },
    {
     "name": "stdout",
     "output_type": "stream",
     "text": [
      "Best performance at epoch: 1\n"
     ]
    },
    {
     "name": "stderr",
     "output_type": "stream",
     "text": [
      "Epoch 3: 100%|███████████████████████████████████████████████████| 1309/1309 [07:15<00:00,  3.00batch/s, loss=0.821]\n",
      "Validation: 100%|████████████████████████████████████████| 328/328 [00:44<00:00,  7.35batch/s, loss=1.02, mIoU=0.18]\n",
      "Epoch 4:   0%|                                                                          | 0/1309 [00:00<?, ?batch/s]"
     ]
    },
    {
     "name": "stdout",
     "output_type": "stream",
     "text": [
      "Best performance at epoch: 1\n"
     ]
    },
    {
     "name": "stderr",
     "output_type": "stream",
     "text": [
      "Epoch 4: 100%|███████████████████████████████████████████████████| 1309/1309 [07:14<00:00,  3.01batch/s, loss=0.797]\n",
      "Validation: 100%|███████████████████████████████████████| 328/328 [00:44<00:00,  7.36batch/s, loss=1.03, mIoU=0.163]\n",
      "Epoch 5:   0%|                                                                          | 0/1309 [00:00<?, ?batch/s]"
     ]
    },
    {
     "name": "stdout",
     "output_type": "stream",
     "text": [
      "Best performance at epoch: 1\n"
     ]
    },
    {
     "name": "stderr",
     "output_type": "stream",
     "text": [
      "Epoch 5: 100%|███████████████████████████████████████████████████| 1309/1309 [07:15<00:00,  3.01batch/s, loss=0.778]\n",
      "Validation: 100%|██████████████████████████████████████████| 328/328 [00:44<00:00,  7.36batch/s, loss=1, mIoU=0.151]\n",
      "Epoch 6:   0%|                                                                          | 0/1309 [00:00<?, ?batch/s]"
     ]
    },
    {
     "name": "stdout",
     "output_type": "stream",
     "text": [
      "Best performance at epoch: 1\n"
     ]
    },
    {
     "name": "stderr",
     "output_type": "stream",
     "text": [
      "Epoch 6: 100%|███████████████████████████████████████████████████| 1309/1309 [07:15<00:00,  3.01batch/s, loss=0.759]\n",
      "Validation: 100%|██████████████████████████████████████| 328/328 [00:44<00:00,  7.37batch/s, loss=0.978, mIoU=0.131]\n",
      "Epoch 7:   0%|                                                                          | 0/1309 [00:00<?, ?batch/s]"
     ]
    },
    {
     "name": "stdout",
     "output_type": "stream",
     "text": [
      "Best performance at epoch: 6\n"
     ]
    },
    {
     "name": "stderr",
     "output_type": "stream",
     "text": [
      "Epoch 7: 100%|███████████████████████████████████████████████████| 1309/1309 [07:15<00:00,  3.01batch/s, loss=0.744]\n",
      "Validation: 100%|██████████████████████████████████████| 328/328 [00:44<00:00,  7.32batch/s, loss=0.994, mIoU=0.139]\n",
      "Epoch 8:   0%|                                                                          | 0/1309 [00:00<?, ?batch/s]"
     ]
    },
    {
     "name": "stdout",
     "output_type": "stream",
     "text": [
      "Best performance at epoch: 6\n"
     ]
    },
    {
     "name": "stderr",
     "output_type": "stream",
     "text": [
      "Epoch 8: 100%|███████████████████████████████████████████████████| 1309/1309 [07:17<00:00,  2.99batch/s, loss=0.725]\n",
      "Validation: 100%|███████████████████████████████████████| 328/328 [00:45<00:00,  7.24batch/s, loss=1.26, mIoU=0.138]\n",
      "Epoch 9:   0%|                                                                          | 0/1309 [00:00<?, ?batch/s]"
     ]
    },
    {
     "name": "stdout",
     "output_type": "stream",
     "text": [
      "Best performance at epoch: 6\n"
     ]
    },
    {
     "name": "stderr",
     "output_type": "stream",
     "text": [
      "Epoch 9: 100%|███████████████████████████████████████████████████| 1309/1309 [07:18<00:00,  2.98batch/s, loss=0.715]\n",
      "Validation: 100%|████████████████████████████████████████| 328/328 [00:45<00:00,  7.17batch/s, loss=1.4, mIoU=0.108]\n",
      "Epoch 10:   0%|                                                                         | 0/1309 [00:00<?, ?batch/s]"
     ]
    },
    {
     "name": "stdout",
     "output_type": "stream",
     "text": [
      "Best performance at epoch: 6\n"
     ]
    },
    {
     "name": "stderr",
     "output_type": "stream",
     "text": [
      "Epoch 10: 100%|██████████████████████████████████████████████████| 1309/1309 [07:24<00:00,  2.95batch/s, loss=0.699]\n",
      "Validation: 100%|██████████████████████████████████████| 328/328 [00:46<00:00,  7.10batch/s, loss=0.967, mIoU=0.148]\n",
      "Epoch 11:   0%|                                                                         | 0/1309 [00:00<?, ?batch/s]"
     ]
    },
    {
     "name": "stdout",
     "output_type": "stream",
     "text": [
      "Best performance at epoch: 10\n"
     ]
    },
    {
     "name": "stderr",
     "output_type": "stream",
     "text": [
      "Epoch 11: 100%|██████████████████████████████████████████████████| 1309/1309 [07:29<00:00,  2.91batch/s, loss=0.684]\n",
      "Validation: 100%|████████████████████████████████████████| 328/328 [00:46<00:00,  7.02batch/s, loss=1.11, mIoU=0.18]\n",
      "Epoch 12:   0%|                                                                         | 0/1309 [00:00<?, ?batch/s]"
     ]
    },
    {
     "name": "stdout",
     "output_type": "stream",
     "text": [
      "Best performance at epoch: 10\n"
     ]
    },
    {
     "name": "stderr",
     "output_type": "stream",
     "text": [
      "Epoch 12: 100%|██████████████████████████████████████████████████| 1309/1309 [07:30<00:00,  2.90batch/s, loss=0.667]\n",
      "Validation: 100%|███████████████████████████████████████| 328/328 [00:47<00:00,  6.95batch/s, loss=1.19, mIoU=0.139]\n",
      "Epoch 13:   0%|                                                                         | 0/1309 [00:00<?, ?batch/s]"
     ]
    },
    {
     "name": "stdout",
     "output_type": "stream",
     "text": [
      "Best performance at epoch: 10\n"
     ]
    },
    {
     "name": "stderr",
     "output_type": "stream",
     "text": [
      "Epoch 13: 100%|██████████████████████████████████████████████████| 1309/1309 [07:27<00:00,  2.92batch/s, loss=0.656]\n",
      "Validation: 100%|███████████████████████████████████████| 328/328 [00:46<00:00,  6.99batch/s, loss=0.984, mIoU=0.14]\n",
      "Epoch 14:   0%|                                                                         | 0/1309 [00:00<?, ?batch/s]"
     ]
    },
    {
     "name": "stdout",
     "output_type": "stream",
     "text": [
      "Best performance at epoch: 10\n"
     ]
    },
    {
     "name": "stderr",
     "output_type": "stream",
     "text": [
      "Epoch 14: 100%|██████████████████████████████████████████████████| 1309/1309 [07:26<00:00,  2.93batch/s, loss=0.641]\n",
      "Validation: 100%|███████████████████████████████████████| 328/328 [00:46<00:00,  7.11batch/s, loss=1.16, mIoU=0.157]\n",
      "Epoch 15:   0%|                                                                         | 0/1309 [00:00<?, ?batch/s]"
     ]
    },
    {
     "name": "stdout",
     "output_type": "stream",
     "text": [
      "Best performance at epoch: 10\n"
     ]
    },
    {
     "name": "stderr",
     "output_type": "stream",
     "text": [
      "Epoch 15: 100%|██████████████████████████████████████████████████| 1309/1309 [07:23<00:00,  2.95batch/s, loss=0.624]\n",
      "Validation: 100%|███████████████████████████████████████| 328/328 [00:46<00:00,  7.11batch/s, loss=1.26, mIoU=0.149]\n",
      "Epoch 16:   0%|                                                                         | 0/1309 [00:00<?, ?batch/s]"
     ]
    },
    {
     "name": "stdout",
     "output_type": "stream",
     "text": [
      "Best performance at epoch: 10\n"
     ]
    },
    {
     "name": "stderr",
     "output_type": "stream",
     "text": [
      "Epoch 16: 100%|██████████████████████████████████████████████████| 1309/1309 [07:24<00:00,  2.95batch/s, loss=0.609]\n",
      "Validation: 100%|███████████████████████████████████████| 328/328 [00:46<00:00,  7.12batch/s, loss=1.26, mIoU=0.126]\n",
      "Epoch 17:   0%|                                                                         | 0/1309 [00:00<?, ?batch/s]"
     ]
    },
    {
     "name": "stdout",
     "output_type": "stream",
     "text": [
      "Best performance at epoch: 10\n"
     ]
    },
    {
     "name": "stderr",
     "output_type": "stream",
     "text": [
      "Epoch 17: 100%|██████████████████████████████████████████████████| 1309/1309 [07:23<00:00,  2.95batch/s, loss=0.596]\n",
      "Validation: 100%|███████████████████████████████████████| 328/328 [00:45<00:00,  7.14batch/s, loss=1.05, mIoU=0.144]\n",
      "Epoch 18:   0%|                                                                         | 0/1309 [00:00<?, ?batch/s]"
     ]
    },
    {
     "name": "stdout",
     "output_type": "stream",
     "text": [
      "Best performance at epoch: 10\n"
     ]
    },
    {
     "name": "stderr",
     "output_type": "stream",
     "text": [
      "Epoch 18: 100%|██████████████████████████████████████████████████| 1309/1309 [07:22<00:00,  2.96batch/s, loss=0.585]\n",
      "Validation: 100%|████████████████████████████████████████| 328/328 [00:45<00:00,  7.15batch/s, loss=1.21, mIoU=0.13]\n",
      "Epoch 19:   0%|                                                                         | 0/1309 [00:00<?, ?batch/s]"
     ]
    },
    {
     "name": "stdout",
     "output_type": "stream",
     "text": [
      "Best performance at epoch: 10\n"
     ]
    },
    {
     "name": "stderr",
     "output_type": "stream",
     "text": [
      "Epoch 19: 100%|██████████████████████████████████████████████████| 1309/1309 [07:27<00:00,  2.93batch/s, loss=0.573]\n",
      "Validation: 100%|██████████████████████████████████████| 328/328 [00:47<00:00,  6.95batch/s, loss=1.81, mIoU=0.0922]\n",
      "Epoch 20:   0%|                                                                         | 0/1309 [00:00<?, ?batch/s]"
     ]
    },
    {
     "name": "stdout",
     "output_type": "stream",
     "text": [
      "Best performance at epoch: 10\n"
     ]
    },
    {
     "name": "stderr",
     "output_type": "stream",
     "text": [
      "Epoch 20: 100%|██████████████████████████████████████████████████| 1309/1309 [07:26<00:00,  2.93batch/s, loss=0.561]\n",
      "Validation: 100%|███████████████████████████████████████| 328/328 [00:47<00:00,  6.89batch/s, loss=1.05, mIoU=0.145]\n",
      "Epoch 21:   0%|                                                                         | 0/1309 [00:00<?, ?batch/s]"
     ]
    },
    {
     "name": "stdout",
     "output_type": "stream",
     "text": [
      "Best performance at epoch: 10\n"
     ]
    },
    {
     "name": "stderr",
     "output_type": "stream",
     "text": [
      "Epoch 21: 100%|██████████████████████████████████████████████████| 1309/1309 [07:35<00:00,  2.88batch/s, loss=0.548]\n",
      "Validation: 100%|███████████████████████████████████████| 328/328 [00:47<00:00,  6.91batch/s, loss=1.26, mIoU=0.149]\n",
      "Epoch 22:   0%|                                                                         | 0/1309 [00:00<?, ?batch/s]"
     ]
    },
    {
     "name": "stdout",
     "output_type": "stream",
     "text": [
      "Best performance at epoch: 10\n"
     ]
    },
    {
     "name": "stderr",
     "output_type": "stream",
     "text": [
      "Epoch 22: 100%|██████████████████████████████████████████████████| 1309/1309 [07:35<00:00,  2.87batch/s, loss=0.542]\n",
      "Validation: 100%|███████████████████████████████████████| 328/328 [00:46<00:00,  7.04batch/s, loss=1.36, mIoU=0.141]\n",
      "Epoch 23:   0%|                                                                         | 0/1309 [00:00<?, ?batch/s]"
     ]
    },
    {
     "name": "stdout",
     "output_type": "stream",
     "text": [
      "Best performance at epoch: 10\n"
     ]
    },
    {
     "name": "stderr",
     "output_type": "stream",
     "text": [
      "Epoch 23: 100%|██████████████████████████████████████████████████| 1309/1309 [07:29<00:00,  2.91batch/s, loss=0.521]\n",
      "Validation: 100%|████████████████████████████████████████| 328/328 [00:46<00:00,  7.08batch/s, loss=1.48, mIoU=0.13]\n",
      "Epoch 24:   0%|                                                                         | 0/1309 [00:00<?, ?batch/s]"
     ]
    },
    {
     "name": "stdout",
     "output_type": "stream",
     "text": [
      "Best performance at epoch: 10\n"
     ]
    },
    {
     "name": "stderr",
     "output_type": "stream",
     "text": [
      "Epoch 24: 100%|██████████████████████████████████████████████████| 1309/1309 [07:26<00:00,  2.93batch/s, loss=0.512]\n",
      "Validation: 100%|███████████████████████████████████████| 328/328 [00:46<00:00,  7.06batch/s, loss=1.09, mIoU=0.139]\n",
      "Epoch 25:   0%|                                                                         | 0/1309 [00:00<?, ?batch/s]"
     ]
    },
    {
     "name": "stdout",
     "output_type": "stream",
     "text": [
      "Best performance at epoch: 10\n"
     ]
    },
    {
     "name": "stderr",
     "output_type": "stream",
     "text": [
      "Epoch 25: 100%|██████████████████████████████████████████████████| 1309/1309 [07:28<00:00,  2.92batch/s, loss=0.498]\n",
      "Validation: 100%|███████████████████████████████████████| 328/328 [00:46<00:00,  7.10batch/s, loss=1.07, mIoU=0.132]\n",
      "Epoch 26:   0%|                                                                         | 0/1309 [00:00<?, ?batch/s]"
     ]
    },
    {
     "name": "stdout",
     "output_type": "stream",
     "text": [
      "Best performance at epoch: 10\n"
     ]
    },
    {
     "name": "stderr",
     "output_type": "stream",
     "text": [
      "Epoch 26: 100%|██████████████████████████████████████████████████| 1309/1309 [07:24<00:00,  2.95batch/s, loss=0.484]\n",
      "Validation: 100%|████████████████████████████████████████| 328/328 [00:46<00:00,  7.06batch/s, loss=1.05, mIoU=0.18]\n",
      "Epoch 27:   0%|                                                                         | 0/1309 [00:00<?, ?batch/s]"
     ]
    },
    {
     "name": "stdout",
     "output_type": "stream",
     "text": [
      "Best performance at epoch: 10\n"
     ]
    },
    {
     "name": "stderr",
     "output_type": "stream",
     "text": [
      "Epoch 27: 100%|██████████████████████████████████████████████████| 1309/1309 [07:33<00:00,  2.88batch/s, loss=0.475]\n",
      "Validation: 100%|███████████████████████████████████████| 328/328 [00:47<00:00,  6.98batch/s, loss=1.38, mIoU=0.115]\n",
      "Epoch 28:   0%|                                                                         | 0/1309 [00:00<?, ?batch/s]"
     ]
    },
    {
     "name": "stdout",
     "output_type": "stream",
     "text": [
      "Best performance at epoch: 10\n"
     ]
    },
    {
     "name": "stderr",
     "output_type": "stream",
     "text": [
      "Epoch 28: 100%|███████████████████████████████████████████████████| 1309/1309 [07:32<00:00,  2.89batch/s, loss=0.46]\n",
      "Validation: 100%|███████████████████████████████████████| 328/328 [00:47<00:00,  6.89batch/s, loss=1.55, mIoU=0.155]\n",
      "Epoch 29:   0%|                                                                         | 0/1309 [00:00<?, ?batch/s]"
     ]
    },
    {
     "name": "stdout",
     "output_type": "stream",
     "text": [
      "Best performance at epoch: 10\n"
     ]
    },
    {
     "name": "stderr",
     "output_type": "stream",
     "text": [
      "Epoch 29: 100%|██████████████████████████████████████████████████| 1309/1309 [07:31<00:00,  2.90batch/s, loss=0.448]\n",
      "Validation: 100%|██████████████████████████████████████| 328/328 [00:47<00:00,  6.94batch/s, loss=1.83, mIoU=0.0965]\n",
      "Epoch 30:   0%|                                                                         | 0/1309 [00:00<?, ?batch/s]"
     ]
    },
    {
     "name": "stdout",
     "output_type": "stream",
     "text": [
      "Best performance at epoch: 10\n"
     ]
    },
    {
     "name": "stderr",
     "output_type": "stream",
     "text": [
      "Epoch 30: 100%|██████████████████████████████████████████████████| 1309/1309 [07:30<00:00,  2.90batch/s, loss=0.432]\n",
      "Validation: 100%|███████████████████████████████████████| 328/328 [00:46<00:00,  7.04batch/s, loss=1.57, mIoU=0.102]\n",
      "Epoch 31:   0%|                                                                         | 0/1309 [00:00<?, ?batch/s]"
     ]
    },
    {
     "name": "stdout",
     "output_type": "stream",
     "text": [
      "Best performance at epoch: 10\n"
     ]
    },
    {
     "name": "stderr",
     "output_type": "stream",
     "text": [
      "Epoch 31: 100%|██████████████████████████████████████████████████| 1309/1309 [07:35<00:00,  2.88batch/s, loss=0.421]\n",
      "Validation: 100%|███████████████████████████████████████| 328/328 [00:49<00:00,  6.64batch/s, loss=1.33, mIoU=0.127]\n",
      "Epoch 32:   0%|                                                                         | 0/1309 [00:00<?, ?batch/s]"
     ]
    },
    {
     "name": "stdout",
     "output_type": "stream",
     "text": [
      "Best performance at epoch: 10\n"
     ]
    },
    {
     "name": "stderr",
     "output_type": "stream",
     "text": [
      "Epoch 32: 100%|████████████████████████████████████████████████████| 1309/1309 [07:45<00:00,  2.81batch/s, loss=0.4]\n",
      "Validation: 100%|███████████████████████████████████████| 328/328 [00:49<00:00,  6.61batch/s, loss=1.44, mIoU=0.104]\n",
      "Epoch 33:   0%|                                                                         | 0/1309 [00:00<?, ?batch/s]"
     ]
    },
    {
     "name": "stdout",
     "output_type": "stream",
     "text": [
      "Best performance at epoch: 10\n"
     ]
    },
    {
     "name": "stderr",
     "output_type": "stream",
     "text": [
      "Epoch 33: 100%|██████████████████████████████████████████████████| 1309/1309 [07:43<00:00,  2.83batch/s, loss=0.391]\n",
      "Validation: 100%|███████████████████████████████████████| 328/328 [00:47<00:00,  6.88batch/s, loss=1.28, mIoU=0.135]\n",
      "Epoch 34:   0%|                                                                         | 0/1309 [00:00<?, ?batch/s]"
     ]
    },
    {
     "name": "stdout",
     "output_type": "stream",
     "text": [
      "Best performance at epoch: 10\n"
     ]
    },
    {
     "name": "stderr",
     "output_type": "stream",
     "text": [
      "Epoch 34: 100%|██████████████████████████████████████████████████| 1309/1309 [07:39<00:00,  2.85batch/s, loss=0.377]\n",
      "Validation: 100%|████████████████████████████████████████| 328/328 [00:48<00:00,  6.76batch/s, loss=1.5, mIoU=0.109]\n",
      "Epoch 35:   0%|                                                                         | 0/1309 [00:00<?, ?batch/s]"
     ]
    },
    {
     "name": "stdout",
     "output_type": "stream",
     "text": [
      "Best performance at epoch: 10\n"
     ]
    },
    {
     "name": "stderr",
     "output_type": "stream",
     "text": [
      "Epoch 35: 100%|██████████████████████████████████████████████████| 1309/1309 [07:43<00:00,  2.83batch/s, loss=0.358]\n",
      "Validation: 100%|███████████████████████████████████████| 328/328 [00:47<00:00,  6.93batch/s, loss=1.81, mIoU=0.101]\n",
      "Epoch 36:   0%|                                                                         | 0/1309 [00:00<?, ?batch/s]"
     ]
    },
    {
     "name": "stdout",
     "output_type": "stream",
     "text": [
      "Best performance at epoch: 10\n"
     ]
    },
    {
     "name": "stderr",
     "output_type": "stream",
     "text": [
      "Epoch 36: 100%|██████████████████████████████████████████████████| 1309/1309 [07:41<00:00,  2.84batch/s, loss=0.349]\n",
      "Validation: 100%|███████████████████████████████████████| 328/328 [00:50<00:00,  6.54batch/s, loss=1.62, mIoU=0.117]\n",
      "Epoch 37:   0%|                                                                         | 0/1309 [00:00<?, ?batch/s]"
     ]
    },
    {
     "name": "stdout",
     "output_type": "stream",
     "text": [
      "Best performance at epoch: 10\n"
     ]
    },
    {
     "name": "stderr",
     "output_type": "stream",
     "text": [
      "Epoch 37: 100%|███████████████████████████████████████████████████| 1309/1309 [07:44<00:00,  2.82batch/s, loss=0.34]\n",
      "Validation: 100%|███████████████████████████████████████| 328/328 [00:49<00:00,  6.65batch/s, loss=1.46, mIoU=0.116]\n",
      "Epoch 38:   0%|                                                                         | 0/1309 [00:00<?, ?batch/s]"
     ]
    },
    {
     "name": "stdout",
     "output_type": "stream",
     "text": [
      "Best performance at epoch: 10\n"
     ]
    },
    {
     "name": "stderr",
     "output_type": "stream",
     "text": [
      "Epoch 38: 100%|██████████████████████████████████████████████████| 1309/1309 [07:40<00:00,  2.84batch/s, loss=0.321]\n",
      "Validation: 100%|███████████████████████████████████████| 328/328 [00:48<00:00,  6.82batch/s, loss=1.61, mIoU=0.126]\n",
      "Epoch 39:   0%|                                                                         | 0/1309 [00:00<?, ?batch/s]"
     ]
    },
    {
     "name": "stdout",
     "output_type": "stream",
     "text": [
      "Best performance at epoch: 10\n"
     ]
    },
    {
     "name": "stderr",
     "output_type": "stream",
     "text": [
      "Epoch 39: 100%|██████████████████████████████████████████████████| 1309/1309 [07:41<00:00,  2.84batch/s, loss=0.315]\n",
      "Validation: 100%|███████████████████████████████████████| 328/328 [00:47<00:00,  6.87batch/s, loss=2.38, mIoU=0.129]"
     ]
    },
    {
     "name": "stdout",
     "output_type": "stream",
     "text": [
      "Best performance at epoch: 10\n"
     ]
    },
    {
     "name": "stderr",
     "output_type": "stream",
     "text": [
      "\n"
     ]
    }
   ],
   "source": [
    "train(num_epochs, model, train_loader, val_loader, criterion, optimizer, saved_dir, val_every, device)"
   ]
  },
  {
   "cell_type": "markdown",
   "metadata": {},
   "source": [
    "## 저장된 model 불러오기 (학습된 이후) "
   ]
  },
  {
   "cell_type": "code",
   "execution_count": 14,
   "metadata": {
    "ExecuteTime": {
     "end_time": "2021-04-16T19:44:21.050200Z",
     "start_time": "2021-04-16T19:44:20.802200Z"
    },
    "scrolled": true
   },
   "outputs": [
    {
     "data": {
      "text/plain": [
       "<All keys matched successfully>"
      ]
     },
     "execution_count": 14,
     "metadata": {},
     "output_type": "execute_result"
    }
   ],
   "source": [
    "checkpoint = torch.load(model_path, map_location=device)\n",
    "model.load_state_dict(checkpoint)"
   ]
  },
  {
   "cell_type": "code",
   "execution_count": 20,
   "metadata": {},
   "outputs": [
    {
     "name": "stderr",
     "output_type": "stream",
     "text": [
      "Clipping input data to the valid range for imshow with RGB data ([0..1] for floats or [0..255] for integers).\n"
     ]
    },
    {
     "name": "stdout",
     "output_type": "stream",
     "text": [
      "Shape of Original Image : [3, 512, 512]\n",
      "Shape of Predicted :  [512, 512]\n",
      "Unique values, category of transformed mask : \n",
      " [{0, 'Backgroud'}, {2, 'General trash'}, {3, 'Paper'}, {'Plastic', 7}, {8, 'Styrofoam'}, {9, 'Plastic bag'}]\n"
     ]
    },
    {
     "data": {
      "image/png": "[encoded data removed]",
      "text/plain": [
       "<Figure size 1152x1152 with 2 Axes>"
      ]
     },
     "metadata": {},
     "output_type": "display_data"
    }
   ],
   "source": [
    "# 첫번째 batch의 추론 결과 확인\n",
    "for imgs, image_infos in test_loader:\n",
    "    image_infos = image_infos\n",
    "    temp_images = imgs\n",
    "    \n",
    "    model.eval()\n",
    "    # inference\n",
    "    outs = model(torch.stack(temp_images).to(device))\n",
    "    oms = torch.argmax(outs.squeeze(), dim=1).detach().cpu().numpy()\n",
    "    \n",
    "    break\n",
    "\n",
    "for i in range(batch_size):\n",
    "    fig, (ax1, ax2) = plt.subplots(nrows=1, ncols=2, figsize=(16, 16))\n",
    "\n",
    "    print('Shape of Original Image :', list(temp_images[i].shape))\n",
    "    print('Shape of Predicted : ', list(oms[i].shape))\n",
    "    print('Unique values, category of transformed mask : \\n', [{int(i),category_names[int(i)]} for i in list(np.unique(oms[i]))])\n",
    "\n",
    "    # Original image\n",
    "    ax1.imshow(temp_images[i].permute([1,2,0]))\n",
    "    ax1.grid(False)\n",
    "    ax1.set_title(\"Original image : {}\".format(image_infos[i]['file_name']), fontsize = 15)\n",
    "\n",
    "    # Predicted\n",
    "    ax2.imshow(oms[i])\n",
    "    ax2.grid(False)\n",
    "    ax2.set_title(\"Predicted : {}\".format(image_infos[i]['file_name']), fontsize = 15)\n",
    "\n",
    "    plt.show()"
   ]
  },
  {
   "cell_type": "markdown",
   "metadata": {},
   "source": [
    "## submission을 위한 test 함수 정의"
   ]
  },
  {
   "cell_type": "code",
   "execution_count": 21,
   "metadata": {
    "ExecuteTime": {
     "end_time": "2021-04-16T19:44:27.469285Z",
     "start_time": "2021-04-16T19:44:27.456021Z"
    }
   },
   "outputs": [],
   "source": [
    "def test(model, data_loader, device):\n",
    "    size = 256\n",
    "    transform = A.Compose([A.Resize(256, 256)])\n",
    "    print('Start prediction.')\n",
    "    model.eval()\n",
    "    \n",
    "    file_name_list = []\n",
    "    preds_array = np.empty((0, size*size), dtype=np.long)\n",
    "    \n",
    "    with torch.no_grad():\n",
    "        for step, (imgs, image_infos) in enumerate(test_loader):\n",
    "\n",
    "            # inference (512 x 512)\n",
    "            outs = model(torch.stack(imgs).to(device))\n",
    "            oms = torch.argmax(outs, dim=1).detach().cpu().numpy()\n",
    "            \n",
    "            # resize (256 x 256)\n",
    "            temp_mask = []\n",
    "            for img, mask in zip(np.stack(temp_images), oms):\n",
    "                transformed = transform(image=img, mask=mask)\n",
    "                mask = transformed['mask']\n",
    "                temp_mask.append(mask)\n",
    "\n",
    "            oms = np.array(temp_mask)\n",
    "            oms = oms.reshape([oms.shape[0], size*size]).astype(int)\n",
    "            preds_array = np.vstack((preds_array, oms))\n",
    "            \n",
    "            file_name_list.append([i['file_name'] for i in image_infos])\n",
    "    print(\"End prediction.\")\n",
    "    file_names = [y for x in file_name_list for y in x]\n",
    "    \n",
    "    return file_names, preds_array"
   ]
  },
  {
   "cell_type": "markdown",
   "metadata": {},
   "source": [
    "## submission.csv 생성"
   ]
  },
  {
   "cell_type": "code",
   "execution_count": 22,
   "metadata": {
    "ExecuteTime": {
     "end_time": "2021-04-16T19:45:42.235310Z",
     "start_time": "2021-04-16T19:44:30.499016Z"
    },
    "scrolled": true
   },
   "outputs": [
    {
     "name": "stdout",
     "output_type": "stream",
     "text": [
      "Start prediction.\n",
      "End prediction.\n"
     ]
    }
   ],
   "source": [
    "# sample_submisson.csv 열기\n",
    "submission = pd.read_csv('./submission/sample_submission.csv', index_col=None)\n",
    "\n",
    "# test set에 대한 prediction\n",
    "file_names, preds = test(model, test_loader, device)\n",
    "\n",
    "# PredictionString 대입\n",
    "for file_name, string in zip(file_names, preds):\n",
    "    submission = submission.append({\"image_id\" : file_name, \"PredictionString\" : ' '.join(str(e) for e in string.tolist())}, \n",
    "                                   ignore_index=True)\n",
    "\n",
    "# submission.csv로 저장\n",
    "submission.to_csv(f\"./submission/{model_name}.csv\", index=False)"
   ]
  },
  {
   "cell_type": "markdown",
   "metadata": {},
   "source": [
    "## Reference\n",
    "\n"
   ]
  }
 ],
 "metadata": {
  "hide_input": false,
  "kernelspec": {
   "display_name": "Python 3",
   "language": "python",
   "name": "python3"
  },
  "language_info": {
   "codemirror_mode": {
    "name": "ipython",
    "version": 3
   },
   "file_extension": ".py",
   "mimetype": "text/x-python",
   "name": "python",
   "nbconvert_exporter": "python",
   "pygments_lexer": "ipython3",
   "version": "3.7.8"
  },
  "toc": {
   "base_numbering": 1,
   "nav_menu": {},
   "number_sections": true,
   "sideBar": true,
   "skip_h1_title": false,
   "title_cell": "Table of Contents",
   "title_sidebar": "Contents",
   "toc_cell": true,
   "toc_position": {
    "height": "calc(100% - 180px)",
    "left": "10px",
    "top": "150px",
    "width": "297.278px"
   },
   "toc_section_display": true,
   "toc_window_display": true
  }
 },
 "nbformat": 4,
 "nbformat_minor": 4
}
