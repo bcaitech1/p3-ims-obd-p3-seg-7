{
 "cells": [
  {
   "cell_type": "code",
   "execution_count": 105,
   "metadata": {
    "pycharm": {
     "name": "#%%\n"
    }
   },
   "outputs": [],
   "source": [
    "from mmcv import Config\n",
    "from mmdet.datasets import build_dataset\n",
    "from mmdet.models import build_detector\n",
    "from mmdet.apis import train_detector\n",
    "from mmdet.datasets import (build_dataloader, build_dataset,\n",
    "                            replace_ImageToTensor)"
   ]
  },
  {
   "cell_type": "code",
   "execution_count": 106,
   "metadata": {
    "pycharm": {
     "name": "#%%\n"
    }
   },
   "outputs": [],
   "source": [
    "classes = (\"UNKNOWN\", \"General trash\", \"Paper\", \"Paper pack\", \"Metal\", \"Glass\", \n",
    "           \"Plastic\", \"Styrofoam\", \"Plastic bag\", \"Battery\", \"Clothing\")\n",
    "# config file 들고오기\n",
    "cfg = Config.fromfile('./configs/swin/cascade_mask_rcnn_swin_tiny_patch4_window7_mstrain_480-800_giou_4conv1f_adamw_1x_coco.py')\n",
    "\n",
    "PREFIX = '../../input/data/'\n",
    "\n",
    "\n",
    "# dataset 바꾸기\n",
    "cfg.data.train.classes = classes\n",
    "cfg.data.train.img_prefix = PREFIX\n",
    "cfg.data.train.ann_file = PREFIX + 'train.json'\n",
    "# cfg.data.train.pipeline[2]['img_scale'] = (512, 512)\n",
    "\n",
    "cfg.data.val.classes = classes\n",
    "cfg.data.val.img_prefix = PREFIX\n",
    "cfg.data.val.ann_file = PREFIX + 'val.json'\n",
    "# cfg.data.val.pipeline[1]['img_scale'] = (512, 512)\n",
    "\n",
    "cfg.data.test.classes = classes\n",
    "cfg.data.test.img_prefix = PREFIX\n",
    "cfg.data.test.ann_file = PREFIX + 'test.json'\n",
    "# cfg.data.test.pipeline[1]['img_scale'] = (512, 512)\n",
    "\n",
    "\n",
    "cfg.model.roi_head.bbox_head[0].num_classes=11\n",
    "cfg.model.roi_head.bbox_head[1].num_classes=11\n",
    "cfg.model.roi_head.bbox_head[2].num_classes=11\n",
    "cfg.model.roi_head.mask_head.num_classes=11\n",
    "\n",
    "cfg.data.samples_per_gpu = 4\n",
    "\n",
    "cfg.seed=2020\n",
    "cfg.gpu_ids = [0]\n",
    "cfg.work_dir = './work_dirs/cascade_mask_rcnn_swin_tiny_patch4_window7_mstrain_480-800_giou_4conv1f_adamw_1x_coco'\n",
    "\n",
    "# cfg.model.roi_head.bbox_head.num_classes = 11\n",
    "\n",
    "cfg.optimizer_config.grad_clip = dict(max_norm=35, norm_type=2)"
   ]
  },
  {
   "cell_type": "code",
   "execution_count": 107,
   "metadata": {
    "pycharm": {
     "name": "#%%\n"
    }
   },
   "outputs": [],
   "source": [
    "model = build_detector(cfg.model)"
   ]
  },
  {
   "cell_type": "code",
   "execution_count": 108,
   "metadata": {
    "pycharm": {
     "name": "#%%\n"
    }
   },
   "outputs": [
    {
     "name": "stdout",
     "output_type": "stream",
     "text": [
      "loading annotations into memory...\n",
      "Done (t=3.63s)\n",
      "creating index...\n",
      "index created!\n"
     ]
    }
   ],
   "source": [
    "datasets = [build_dataset(cfg.data.train)]"
   ]
  },
  {
   "cell_type": "code",
   "execution_count": 109,
   "metadata": {
    "pycharm": {
     "name": "#%%\n"
    }
   },
   "outputs": [
    {
     "name": "stdout",
     "output_type": "stream",
     "text": [
      "loading annotations into memory...\n"
     ]
    },
    {
     "name": "stderr",
     "output_type": "stream",
     "text": [
      "2021-05-19 12:44:17,300 - mmdet - INFO - load checkpoint from /opt/ml/code/Swin-Transformer-Object-Detection/cascade_mask_rcnn_swin_tiny_patch4_window7_1x.pth\n",
      "2021-05-19 12:44:17,301 - mmdet - INFO - Use load_from_local loader\n"
     ]
    },
    {
     "name": "stdout",
     "output_type": "stream",
     "text": [
      "Done (t=1.58s)\n",
      "creating index...\n",
      "index created!\n"
     ]
    },
    {
     "name": "stderr",
     "output_type": "stream",
     "text": [
      "2021-05-19 12:44:17,569 - mmdet - WARNING - The model and loaded state dict do not match exactly\n",
      "\n",
      "size mismatch for roi_head.bbox_head.0.fc_cls.weight: copying a param with shape torch.Size([81, 1024]) from checkpoint, the shape in current model is torch.Size([12, 1024]).\n",
      "size mismatch for roi_head.bbox_head.0.fc_cls.bias: copying a param with shape torch.Size([81]) from checkpoint, the shape in current model is torch.Size([12]).\n",
      "size mismatch for roi_head.bbox_head.0.fc_reg.weight: copying a param with shape torch.Size([320, 1024]) from checkpoint, the shape in current model is torch.Size([44, 1024]).\n",
      "size mismatch for roi_head.bbox_head.0.fc_reg.bias: copying a param with shape torch.Size([320]) from checkpoint, the shape in current model is torch.Size([44]).\n",
      "size mismatch for roi_head.bbox_head.1.fc_cls.weight: copying a param with shape torch.Size([81, 1024]) from checkpoint, the shape in current model is torch.Size([12, 1024]).\n",
      "size mismatch for roi_head.bbox_head.1.fc_cls.bias: copying a param with shape torch.Size([81]) from checkpoint, the shape in current model is torch.Size([12]).\n",
      "size mismatch for roi_head.bbox_head.1.fc_reg.weight: copying a param with shape torch.Size([320, 1024]) from checkpoint, the shape in current model is torch.Size([44, 1024]).\n",
      "size mismatch for roi_head.bbox_head.1.fc_reg.bias: copying a param with shape torch.Size([320]) from checkpoint, the shape in current model is torch.Size([44]).\n",
      "size mismatch for roi_head.bbox_head.2.fc_cls.weight: copying a param with shape torch.Size([81, 1024]) from checkpoint, the shape in current model is torch.Size([12, 1024]).\n",
      "size mismatch for roi_head.bbox_head.2.fc_cls.bias: copying a param with shape torch.Size([81]) from checkpoint, the shape in current model is torch.Size([12]).\n",
      "size mismatch for roi_head.bbox_head.2.fc_reg.weight: copying a param with shape torch.Size([320, 1024]) from checkpoint, the shape in current model is torch.Size([44, 1024]).\n",
      "size mismatch for roi_head.bbox_head.2.fc_reg.bias: copying a param with shape torch.Size([320]) from checkpoint, the shape in current model is torch.Size([44]).\n",
      "size mismatch for roi_head.mask_head.0.conv_logits.weight: copying a param with shape torch.Size([80, 256, 1, 1]) from checkpoint, the shape in current model is torch.Size([11, 256, 1, 1]).\n",
      "size mismatch for roi_head.mask_head.0.conv_logits.bias: copying a param with shape torch.Size([80]) from checkpoint, the shape in current model is torch.Size([11]).\n",
      "size mismatch for roi_head.mask_head.1.conv_logits.weight: copying a param with shape torch.Size([80, 256, 1, 1]) from checkpoint, the shape in current model is torch.Size([11, 256, 1, 1]).\n",
      "size mismatch for roi_head.mask_head.1.conv_logits.bias: copying a param with shape torch.Size([80]) from checkpoint, the shape in current model is torch.Size([11]).\n",
      "size mismatch for roi_head.mask_head.2.conv_logits.weight: copying a param with shape torch.Size([80, 256, 1, 1]) from checkpoint, the shape in current model is torch.Size([11, 256, 1, 1]).\n",
      "size mismatch for roi_head.mask_head.2.conv_logits.bias: copying a param with shape torch.Size([80]) from checkpoint, the shape in current model is torch.Size([11]).\n",
      "2021-05-19 12:44:17,571 - mmdet - INFO - Start running, host: root@fb5c21e8fddd, work_dir: /opt/ml/code/Swin-Transformer-Object-Detection/work_dirs/cascade_mask_rcnn_swin_tiny_patch4_window7_mstrain_480-800_giou_4conv1f_adamw_1x_coco\n",
      "2021-05-19 12:44:17,572 - mmdet - INFO - workflow: [('train', 1)], max: 12 epochs\n",
      "2021-05-19 12:44:54,507 - mmdet - INFO - Epoch [1][50/655]\tlr: 9.890e-06, eta: 1:36:08, time: 0.739, data_time: 0.066, memory: 20741, loss_rpn_cls: 0.2116, loss_rpn_bbox: 0.0339, s0.loss_cls: 2.3087, s0.acc: 17.0557, s0.loss_bbox: 0.4620, s0.loss_mask: 1.8822, s1.loss_cls: 1.2368, s1.acc: 8.9785, s1.loss_bbox: 0.0839, s1.loss_mask: 1.0811, s2.loss_cls: 0.4584, s2.acc: 57.8525, s2.loss_bbox: 0.0108, s2.loss_mask: 0.3044, loss: 8.0738, grad_norm: 40.8433\n",
      "2021-05-19 12:45:29,780 - mmdet - INFO - Epoch [1][100/655]\tlr: 1.988e-05, eta: 1:33:23, time: 0.705, data_time: 0.019, memory: 20741, loss_rpn_cls: 0.1405, loss_rpn_bbox: 0.0414, s0.loss_cls: 1.1454, s0.acc: 80.5947, s0.loss_bbox: 0.5585, s0.loss_mask: 0.9078, s1.loss_cls: 0.4995, s1.acc: 80.8643, s1.loss_bbox: 0.0972, s1.loss_mask: 0.5032, s2.loss_cls: 0.1721, s2.acc: 96.2168, s2.loss_bbox: 0.0122, s2.loss_mask: 0.2082, loss: 4.2860, grad_norm: 19.2933\n",
      "2021-05-19 12:46:04,557 - mmdet - INFO - Epoch [1][150/655]\tlr: 2.987e-05, eta: 1:31:38, time: 0.696, data_time: 0.018, memory: 20741, loss_rpn_cls: 0.0986, loss_rpn_bbox: 0.0369, s0.loss_cls: 0.4837, s0.acc: 86.1982, s0.loss_bbox: 0.5259, s0.loss_mask: 0.6051, s1.loss_cls: 0.1666, s1.acc: 91.9502, s1.loss_bbox: 0.1055, s1.loss_mask: 0.3406, s2.loss_cls: 0.0532, s2.acc: 95.8809, s2.loss_bbox: 0.0158, s2.loss_mask: 0.1273, loss: 2.5591, grad_norm: 4.9571\n",
      "2021-05-19 12:46:40,559 - mmdet - INFO - Epoch [1][200/655]\tlr: 3.986e-05, eta: 1:31:16, time: 0.720, data_time: 0.018, memory: 20741, loss_rpn_cls: 0.0760, loss_rpn_bbox: 0.0316, s0.loss_cls: 0.4162, s0.acc: 88.2266, s0.loss_bbox: 0.4867, s0.loss_mask: 0.5196, s1.loss_cls: 0.1724, s1.acc: 90.4951, s1.loss_bbox: 0.1372, s1.loss_mask: 0.2845, s2.loss_cls: 0.0643, s2.acc: 93.3975, s2.loss_bbox: 0.0304, s2.loss_mask: 0.0952, loss: 2.3141, grad_norm: 4.9316\n",
      "2021-05-19 12:47:18,128 - mmdet - INFO - Epoch [1][250/655]\tlr: 4.985e-05, eta: 1:31:35, time: 0.751, data_time: 0.019, memory: 20741, loss_rpn_cls: 0.0904, loss_rpn_bbox: 0.0370, s0.loss_cls: 0.3756, s0.acc: 89.4463, s0.loss_bbox: 0.3773, s0.loss_mask: 0.4367, s1.loss_cls: 0.1786, s1.acc: 90.1501, s1.loss_bbox: 0.1387, s1.loss_mask: 0.2169, s2.loss_cls: 0.0785, s2.acc: 91.3896, s2.loss_bbox: 0.0437, s2.loss_mask: 0.0750, loss: 2.0484, grad_norm: 6.7787\n",
      "2021-05-19 12:47:55,632 - mmdet - INFO - Epoch [1][300/655]\tlr: 5.984e-05, eta: 1:31:34, time: 0.750, data_time: 0.018, memory: 20741, loss_rpn_cls: 0.0714, loss_rpn_bbox: 0.0320, s0.loss_cls: 0.3400, s0.acc: 90.1094, s0.loss_bbox: 0.3134, s0.loss_mask: 0.3574, s1.loss_cls: 0.1699, s1.acc: 90.1524, s1.loss_bbox: 0.1205, s1.loss_mask: 0.1694, s2.loss_cls: 0.0793, s2.acc: 90.8503, s2.loss_bbox: 0.0404, s2.loss_mask: 0.0651, loss: 1.7587, grad_norm: 7.2214\n",
      "2021-05-19 12:48:33,516 - mmdet - INFO - Epoch [1][350/655]\tlr: 6.983e-05, eta: 1:31:31, time: 0.758, data_time: 0.017, memory: 20741, loss_rpn_cls: 0.0789, loss_rpn_bbox: 0.0321, s0.loss_cls: 0.3369, s0.acc: 90.3203, s0.loss_bbox: 0.2985, s0.loss_mask: 0.3635, s1.loss_cls: 0.1677, s1.acc: 90.3261, s1.loss_bbox: 0.1161, s1.loss_mask: 0.1696, s2.loss_cls: 0.0790, s2.acc: 90.8072, s2.loss_bbox: 0.0409, s2.loss_mask: 0.0670, loss: 1.7503, grad_norm: 7.5552\n",
      "2021-05-19 12:49:12,775 - mmdet - INFO - Epoch [1][400/655]\tlr: 7.982e-05, eta: 1:31:45, time: 0.785, data_time: 0.019, memory: 20741, loss_rpn_cls: 0.0844, loss_rpn_bbox: 0.0358, s0.loss_cls: 0.3658, s0.acc: 89.2686, s0.loss_bbox: 0.3422, s0.loss_mask: 0.3413, s1.loss_cls: 0.1811, s1.acc: 89.3530, s1.loss_bbox: 0.1350, s1.loss_mask: 0.1554, s2.loss_cls: 0.0862, s2.acc: 89.8384, s2.loss_bbox: 0.0466, s2.loss_mask: 0.0671, loss: 1.8408, grad_norm: 7.9943\n",
      "2021-05-19 12:49:51,600 - mmdet - INFO - Epoch [1][450/655]\tlr: 8.981e-05, eta: 1:31:40, time: 0.777, data_time: 0.020, memory: 20741, loss_rpn_cls: 0.0787, loss_rpn_bbox: 0.0344, s0.loss_cls: 0.3748, s0.acc: 89.0732, s0.loss_bbox: 0.3196, s0.loss_mask: 0.3309, s1.loss_cls: 0.1862, s1.acc: 89.1428, s1.loss_bbox: 0.1280, s1.loss_mask: 0.1529, s2.loss_cls: 0.0904, s2.acc: 89.5185, s2.loss_bbox: 0.0459, s2.loss_mask: 0.0662, loss: 1.8080, grad_norm: 7.5776\n",
      "2021-05-19 12:50:31,411 - mmdet - INFO - Epoch [1][500/655]\tlr: 9.980e-05, eta: 1:31:42, time: 0.796, data_time: 0.021, memory: 20741, loss_rpn_cls: 0.1001, loss_rpn_bbox: 0.0444, s0.loss_cls: 0.3678, s0.acc: 89.1660, s0.loss_bbox: 0.3536, s0.loss_mask: 0.3123, s1.loss_cls: 0.1820, s1.acc: 89.2746, s1.loss_bbox: 0.1350, s1.loss_mask: 0.1405, s2.loss_cls: 0.0839, s2.acc: 90.0115, s2.loss_bbox: 0.0467, s2.loss_mask: 0.0602, loss: 1.8265, grad_norm: 7.9304\n",
      "2021-05-19 12:51:09,826 - mmdet - INFO - Epoch [1][550/655]\tlr: 1.000e-04, eta: 1:31:19, time: 0.768, data_time: 0.019, memory: 20741, loss_rpn_cls: 0.0747, loss_rpn_bbox: 0.0312, s0.loss_cls: 0.3125, s0.acc: 90.6211, s0.loss_bbox: 0.3045, s0.loss_mask: 0.3024, s1.loss_cls: 0.1527, s1.acc: 90.4808, s1.loss_bbox: 0.1205, s1.loss_mask: 0.1347, s2.loss_cls: 0.0735, s2.acc: 90.7753, s2.loss_bbox: 0.0430, s2.loss_mask: 0.0580, loss: 1.6077, grad_norm: 7.1846\n",
      "2021-05-19 12:51:47,977 - mmdet - INFO - Epoch [1][600/655]\tlr: 1.000e-04, eta: 1:30:49, time: 0.763, data_time: 0.018, memory: 20741, loss_rpn_cls: 0.0703, loss_rpn_bbox: 0.0288, s0.loss_cls: 0.3082, s0.acc: 90.7227, s0.loss_bbox: 0.2913, s0.loss_mask: 0.3012, s1.loss_cls: 0.1556, s1.acc: 90.5864, s1.loss_bbox: 0.1170, s1.loss_mask: 0.1403, s2.loss_cls: 0.0740, s2.acc: 90.8110, s2.loss_bbox: 0.0427, s2.loss_mask: 0.0605, loss: 1.5899, grad_norm: 7.6567\n",
      "2021-05-19 12:52:25,424 - mmdet - INFO - Epoch [1][650/655]\tlr: 1.000e-04, eta: 1:30:11, time: 0.749, data_time: 0.017, memory: 20741, loss_rpn_cls: 0.0649, loss_rpn_bbox: 0.0277, s0.loss_cls: 0.3001, s0.acc: 91.1689, s0.loss_bbox: 0.2652, s0.loss_mask: 0.3033, s1.loss_cls: 0.1494, s1.acc: 91.1739, s1.loss_bbox: 0.1052, s1.loss_mask: 0.1366, s2.loss_cls: 0.0712, s2.acc: 91.5729, s2.loss_bbox: 0.0380, s2.loss_mask: 0.0607, loss: 1.5224, grad_norm: 6.7861\n",
      "2021-05-19 12:52:29,234 - mmdet - INFO - Saving checkpoint at 1 epochs\n"
     ]
    },
    {
     "name": "stdout",
     "output_type": "stream",
     "text": [
      "[>>>>>>>>>>>>>>>>>>>>>>>>>>>>>>] 655/655, 8.0 task/s, elapsed: 82s, ETA:     0s"
     ]
    },
    {
     "name": "stderr",
     "output_type": "stream",
     "text": [
      "2021-05-19 12:53:55,441 - mmdet - INFO - Evaluating bbox...\n"
     ]
    },
    {
     "name": "stdout",
     "output_type": "stream",
     "text": [
      "Loading and preparing results...\n",
      "DONE (t=0.84s)\n",
      "creating index...\n",
      "index created!\n",
      "Running per image evaluation...\n",
      "Evaluate annotation type *bbox*\n",
      "DONE (t=5.00s).\n",
      "Accumulating evaluation results...\n"
     ]
    },
    {
     "name": "stderr",
     "output_type": "stream",
     "text": [
      "2021-05-19 12:54:02,139 - mmdet - INFO - Evaluating segm...\n"
     ]
    },
    {
     "name": "stdout",
     "output_type": "stream",
     "text": [
      "DONE (t=0.84s).\n",
      "Average Precision  (AP) @[ IoU=0.50:0.95 | area=   all | maxDets=100 ] = 0.198\n",
      "Average Precision  (AP) @[ IoU=0.50      | area=   all | maxDets=1000 ] = 0.287\n",
      "Average Precision  (AP) @[ IoU=0.75      | area=   all | maxDets=1000 ] = 0.204\n",
      "Average Precision  (AP) @[ IoU=0.50:0.95 | area= small | maxDets=1000 ] = 0.044\n",
      "Average Precision  (AP) @[ IoU=0.50:0.95 | area=medium | maxDets=1000 ] = 0.192\n",
      "Average Precision  (AP) @[ IoU=0.50:0.95 | area= large | maxDets=1000 ] = 0.315\n",
      "Average Recall     (AR) @[ IoU=0.50:0.95 | area=   all | maxDets=100 ] = 0.361\n",
      "Average Recall     (AR) @[ IoU=0.50:0.95 | area=   all | maxDets=300 ] = 0.361\n",
      "Average Recall     (AR) @[ IoU=0.50:0.95 | area=   all | maxDets=1000 ] = 0.361\n",
      "Average Recall     (AR) @[ IoU=0.50:0.95 | area= small | maxDets=1000 ] = 0.134\n",
      "Average Recall     (AR) @[ IoU=0.50:0.95 | area=medium | maxDets=1000 ] = 0.346\n",
      "Average Recall     (AR) @[ IoU=0.50:0.95 | area= large | maxDets=1000 ] = 0.560\n",
      "Loading and preparing results...\n",
      "DONE (t=0.99s)\n",
      "creating index...\n",
      "index created!\n",
      "Running per image evaluation...\n",
      "Evaluate annotation type *segm*\n",
      "DONE (t=6.06s).\n",
      "Accumulating evaluation results...\n"
     ]
    },
    {
     "name": "stderr",
     "output_type": "stream",
     "text": [
      "2021-05-19 12:54:10,189 - mmdet - INFO - Epoch(val) [1][655]\tbbox_mAP: 0.1980, bbox_mAP_50: 0.2870, bbox_mAP_75: 0.2040, bbox_mAP_s: 0.0440, bbox_mAP_m: 0.1920, bbox_mAP_l: 0.3150, bbox_mAP_copypaste: 0.198 0.287 0.204 0.044 0.192 0.315, segm_mAP: 0.1780, segm_mAP_50: 0.2760, segm_mAP_75: 0.1850, segm_mAP_s: 0.0300, segm_mAP_m: 0.1670, segm_mAP_l: 0.2850, segm_mAP_copypaste: 0.178 0.276 0.185 0.030 0.167 0.285\n"
     ]
    },
    {
     "name": "stdout",
     "output_type": "stream",
     "text": [
      "DONE (t=0.84s).\n",
      "Average Precision  (AP) @[ IoU=0.50:0.95 | area=   all | maxDets=100 ] = 0.178\n",
      "Average Precision  (AP) @[ IoU=0.50      | area=   all | maxDets=1000 ] = 0.276\n",
      "Average Precision  (AP) @[ IoU=0.75      | area=   all | maxDets=1000 ] = 0.185\n",
      "Average Precision  (AP) @[ IoU=0.50:0.95 | area= small | maxDets=1000 ] = 0.030\n",
      "Average Precision  (AP) @[ IoU=0.50:0.95 | area=medium | maxDets=1000 ] = 0.167\n",
      "Average Precision  (AP) @[ IoU=0.50:0.95 | area= large | maxDets=1000 ] = 0.285\n",
      "Average Recall     (AR) @[ IoU=0.50:0.95 | area=   all | maxDets=100 ] = 0.328\n",
      "Average Recall     (AR) @[ IoU=0.50:0.95 | area=   all | maxDets=300 ] = 0.328\n",
      "Average Recall     (AR) @[ IoU=0.50:0.95 | area=   all | maxDets=1000 ] = 0.328\n",
      "Average Recall     (AR) @[ IoU=0.50:0.95 | area= small | maxDets=1000 ] = 0.098\n",
      "Average Recall     (AR) @[ IoU=0.50:0.95 | area=medium | maxDets=1000 ] = 0.302\n",
      "Average Recall     (AR) @[ IoU=0.50:0.95 | area= large | maxDets=1000 ] = 0.538\n"
     ]
    },
    {
     "name": "stderr",
     "output_type": "stream",
     "text": [
      "2021-05-19 12:54:51,621 - mmdet - INFO - Epoch [2][50/655]\tlr: 1.000e-04, eta: 1:29:31, time: 0.828, data_time: 0.067, memory: 20741, loss_rpn_cls: 0.0567, loss_rpn_bbox: 0.0295, s0.loss_cls: 0.3004, s0.acc: 90.8193, s0.loss_bbox: 0.2960, s0.loss_mask: 0.2775, s1.loss_cls: 0.1492, s1.acc: 90.6369, s1.loss_bbox: 0.1194, s1.loss_mask: 0.1233, s2.loss_cls: 0.0728, s2.acc: 90.8271, s2.loss_bbox: 0.0436, s2.loss_mask: 0.0534, loss: 1.5220, grad_norm: 6.9830\n",
      "2021-05-19 12:55:30,012 - mmdet - INFO - Epoch [2][100/655]\tlr: 1.000e-04, eta: 1:29:02, time: 0.768, data_time: 0.019, memory: 20741, loss_rpn_cls: 0.0598, loss_rpn_bbox: 0.0257, s0.loss_cls: 0.2587, s0.acc: 92.0518, s0.loss_bbox: 0.2696, s0.loss_mask: 0.2739, s1.loss_cls: 0.1288, s1.acc: 92.1058, s1.loss_bbox: 0.1093, s1.loss_mask: 0.1247, s2.loss_cls: 0.0637, s2.acc: 92.0273, s2.loss_bbox: 0.0409, s2.loss_mask: 0.0552, loss: 1.4104, grad_norm: 7.1681\n",
      "2021-05-19 12:56:08,708 - mmdet - INFO - Epoch [2][150/655]\tlr: 1.000e-04, eta: 1:28:34, time: 0.774, data_time: 0.019, memory: 20741, loss_rpn_cls: 0.0745, loss_rpn_bbox: 0.0368, s0.loss_cls: 0.3019, s0.acc: 90.7920, s0.loss_bbox: 0.2934, s0.loss_mask: 0.2716, s1.loss_cls: 0.1524, s1.acc: 90.5127, s1.loss_bbox: 0.1187, s1.loss_mask: 0.1234, s2.loss_cls: 0.0729, s2.acc: 90.9533, s2.loss_bbox: 0.0437, s2.loss_mask: 0.0533, loss: 1.5426, grad_norm: 7.3938\n",
      "2021-05-19 12:56:48,074 - mmdet - INFO - Epoch [2][200/655]\tlr: 1.000e-04, eta: 1:28:10, time: 0.787, data_time: 0.021, memory: 20741, loss_rpn_cls: 0.0695, loss_rpn_bbox: 0.0343, s0.loss_cls: 0.3005, s0.acc: 90.7676, s0.loss_bbox: 0.2938, s0.loss_mask: 0.2648, s1.loss_cls: 0.1491, s1.acc: 90.8330, s1.loss_bbox: 0.1183, s1.loss_mask: 0.1174, s2.loss_cls: 0.0726, s2.acc: 90.8954, s2.loss_bbox: 0.0432, s2.loss_mask: 0.0516, loss: 1.5151, grad_norm: 7.3205\n",
      "2021-05-19 12:57:26,796 - mmdet - INFO - Epoch [2][250/655]\tlr: 1.000e-04, eta: 1:27:39, time: 0.774, data_time: 0.018, memory: 20741, loss_rpn_cls: 0.0702, loss_rpn_bbox: 0.0325, s0.loss_cls: 0.2932, s0.acc: 91.2119, s0.loss_bbox: 0.2916, s0.loss_mask: 0.2941, s1.loss_cls: 0.1459, s1.acc: 91.1663, s1.loss_bbox: 0.1164, s1.loss_mask: 0.1269, s2.loss_cls: 0.0716, s2.acc: 91.2282, s2.loss_bbox: 0.0429, s2.loss_mask: 0.0559, loss: 1.5412, grad_norm: 6.9390\n",
      "2021-05-19 12:58:05,810 - mmdet - INFO - Epoch [2][300/655]\tlr: 1.000e-04, eta: 1:27:10, time: 0.780, data_time: 0.019, memory: 20741, loss_rpn_cls: 0.0696, loss_rpn_bbox: 0.0333, s0.loss_cls: 0.3051, s0.acc: 90.7793, s0.loss_bbox: 0.2962, s0.loss_mask: 0.2836, s1.loss_cls: 0.1527, s1.acc: 90.4980, s1.loss_bbox: 0.1206, s1.loss_mask: 0.1249, s2.loss_cls: 0.0746, s2.acc: 90.6704, s2.loss_bbox: 0.0456, s2.loss_mask: 0.0561, loss: 1.5624, grad_norm: 7.2018\n",
      "2021-05-19 12:58:44,501 - mmdet - INFO - Epoch [2][350/655]\tlr: 1.000e-04, eta: 1:26:38, time: 0.774, data_time: 0.018, memory: 20741, loss_rpn_cls: 0.0702, loss_rpn_bbox: 0.0291, s0.loss_cls: 0.2889, s0.acc: 90.9551, s0.loss_bbox: 0.2809, s0.loss_mask: 0.2598, s1.loss_cls: 0.1416, s1.acc: 91.1057, s1.loss_bbox: 0.1126, s1.loss_mask: 0.1167, s2.loss_cls: 0.0685, s2.acc: 91.2052, s2.loss_bbox: 0.0426, s2.loss_mask: 0.0527, loss: 1.4636, grad_norm: 7.2714\n",
      "2021-05-19 12:59:23,386 - mmdet - INFO - Epoch [2][400/655]\tlr: 1.000e-04, eta: 1:26:06, time: 0.778, data_time: 0.019, memory: 20741, loss_rpn_cls: 0.0710, loss_rpn_bbox: 0.0329, s0.loss_cls: 0.3124, s0.acc: 90.3965, s0.loss_bbox: 0.2975, s0.loss_mask: 0.2772, s1.loss_cls: 0.1556, s1.acc: 90.3789, s1.loss_bbox: 0.1180, s1.loss_mask: 0.1265, s2.loss_cls: 0.0755, s2.acc: 90.4364, s2.loss_bbox: 0.0434, s2.loss_mask: 0.0555, loss: 1.5654, grad_norm: 6.9894\n",
      "2021-05-19 13:00:01,780 - mmdet - INFO - Epoch [2][450/655]\tlr: 1.000e-04, eta: 1:25:31, time: 0.768, data_time: 0.018, memory: 20741, loss_rpn_cls: 0.0682, loss_rpn_bbox: 0.0324, s0.loss_cls: 0.2998, s0.acc: 91.2207, s0.loss_bbox: 0.2953, s0.loss_mask: 0.2740, s1.loss_cls: 0.1463, s1.acc: 91.4542, s1.loss_bbox: 0.1156, s1.loss_mask: 0.1200, s2.loss_cls: 0.0696, s2.acc: 91.4060, s2.loss_bbox: 0.0427, s2.loss_mask: 0.0531, loss: 1.5172, grad_norm: 7.1081\n",
      "2021-05-19 13:00:41,676 - mmdet - INFO - Epoch [2][500/655]\tlr: 1.000e-04, eta: 1:25:04, time: 0.798, data_time: 0.022, memory: 20741, loss_rpn_cls: 0.0729, loss_rpn_bbox: 0.0389, s0.loss_cls: 0.3227, s0.acc: 90.3057, s0.loss_bbox: 0.3157, s0.loss_mask: 0.2789, s1.loss_cls: 0.1565, s1.acc: 90.4353, s1.loss_bbox: 0.1231, s1.loss_mask: 0.1225, s2.loss_cls: 0.0752, s2.acc: 90.7880, s2.loss_bbox: 0.0462, s2.loss_mask: 0.0545, loss: 1.6071, grad_norm: 7.0686\n",
      "2021-05-19 13:01:19,635 - mmdet - INFO - Epoch [2][550/655]\tlr: 1.000e-04, eta: 1:24:25, time: 0.759, data_time: 0.018, memory: 20741, loss_rpn_cls: 0.0698, loss_rpn_bbox: 0.0307, s0.loss_cls: 0.2772, s0.acc: 91.2861, s0.loss_bbox: 0.2691, s0.loss_mask: 0.2853, s1.loss_cls: 0.1385, s1.acc: 91.3699, s1.loss_bbox: 0.1081, s1.loss_mask: 0.1347, s2.loss_cls: 0.0672, s2.acc: 91.5700, s2.loss_bbox: 0.0401, s2.loss_mask: 0.0616, loss: 1.4823, grad_norm: 6.9547\n",
      "2021-05-19 13:01:57,625 - mmdet - INFO - Epoch [2][600/655]\tlr: 1.000e-04, eta: 1:23:47, time: 0.760, data_time: 0.017, memory: 20741, loss_rpn_cls: 0.0696, loss_rpn_bbox: 0.0301, s0.loss_cls: 0.2700, s0.acc: 91.8467, s0.loss_bbox: 0.2732, s0.loss_mask: 0.2736, s1.loss_cls: 0.1329, s1.acc: 91.9559, s1.loss_bbox: 0.1082, s1.loss_mask: 0.1224, s2.loss_cls: 0.0637, s2.acc: 92.1241, s2.loss_bbox: 0.0392, s2.loss_mask: 0.0534, loss: 1.4364, grad_norm: 6.8238\n",
      "2021-05-19 13:02:37,153 - mmdet - INFO - Epoch [2][650/655]\tlr: 1.000e-04, eta: 1:23:16, time: 0.791, data_time: 0.020, memory: 20741, loss_rpn_cls: 0.0784, loss_rpn_bbox: 0.0365, s0.loss_cls: 0.3037, s0.acc: 90.6787, s0.loss_bbox: 0.3101, s0.loss_mask: 0.2881, s1.loss_cls: 0.1499, s1.acc: 90.8695, s1.loss_bbox: 0.1232, s1.loss_mask: 0.1252, s2.loss_cls: 0.0722, s2.acc: 90.9326, s2.loss_bbox: 0.0445, s2.loss_mask: 0.0555, loss: 1.5874, grad_norm: 6.8178\n",
      "2021-05-19 13:02:41,121 - mmdet - INFO - Saving checkpoint at 2 epochs\n"
     ]
    },
    {
     "name": "stdout",
     "output_type": "stream",
     "text": [
      "[>>>>>>>>>>>>>>>>>>>>>>>>>>>>>>] 655/655, 7.5 task/s, elapsed: 87s, ETA:     0s"
     ]
    },
    {
     "name": "stderr",
     "output_type": "stream",
     "text": [
      "2021-05-19 13:04:12,728 - mmdet - INFO - Evaluating bbox...\n"
     ]
    },
    {
     "name": "stdout",
     "output_type": "stream",
     "text": [
      "Loading and preparing results...\n",
      "DONE (t=0.86s)\n",
      "creating index...\n",
      "index created!\n",
      "Running per image evaluation...\n",
      "Evaluate annotation type *bbox*\n",
      "DONE (t=5.81s).\n",
      "Accumulating evaluation results...\n"
     ]
    },
    {
     "name": "stderr",
     "output_type": "stream",
     "text": [
      "2021-05-19 13:04:20,402 - mmdet - INFO - Evaluating segm...\n"
     ]
    },
    {
     "name": "stdout",
     "output_type": "stream",
     "text": [
      "DONE (t=0.97s).\n",
      "Average Precision  (AP) @[ IoU=0.50:0.95 | area=   all | maxDets=100 ] = 0.259\n",
      "Average Precision  (AP) @[ IoU=0.50      | area=   all | maxDets=1000 ] = 0.361\n",
      "Average Precision  (AP) @[ IoU=0.75      | area=   all | maxDets=1000 ] = 0.264\n",
      "Average Precision  (AP) @[ IoU=0.50:0.95 | area= small | maxDets=1000 ] = 0.056\n",
      "Average Precision  (AP) @[ IoU=0.50:0.95 | area=medium | maxDets=1000 ] = 0.240\n",
      "Average Precision  (AP) @[ IoU=0.50:0.95 | area= large | maxDets=1000 ] = 0.471\n",
      "Average Recall     (AR) @[ IoU=0.50:0.95 | area=   all | maxDets=100 ] = 0.426\n",
      "Average Recall     (AR) @[ IoU=0.50:0.95 | area=   all | maxDets=300 ] = 0.426\n",
      "Average Recall     (AR) @[ IoU=0.50:0.95 | area=   all | maxDets=1000 ] = 0.426\n",
      "Average Recall     (AR) @[ IoU=0.50:0.95 | area= small | maxDets=1000 ] = 0.138\n",
      "Average Recall     (AR) @[ IoU=0.50:0.95 | area=medium | maxDets=1000 ] = 0.393\n",
      "Average Recall     (AR) @[ IoU=0.50:0.95 | area= large | maxDets=1000 ] = 0.694\n",
      "Loading and preparing results...\n",
      "DONE (t=1.02s)\n",
      "creating index...\n",
      "index created!\n",
      "Running per image evaluation...\n",
      "Evaluate annotation type *segm*\n",
      "DONE (t=6.30s).\n",
      "Accumulating evaluation results...\n"
     ]
    },
    {
     "name": "stderr",
     "output_type": "stream",
     "text": [
      "2021-05-19 13:04:28,825 - mmdet - INFO - Epoch(val) [2][655]\tbbox_mAP: 0.2590, bbox_mAP_50: 0.3610, bbox_mAP_75: 0.2640, bbox_mAP_s: 0.0560, bbox_mAP_m: 0.2400, bbox_mAP_l: 0.4710, bbox_mAP_copypaste: 0.259 0.361 0.264 0.056 0.240 0.471, segm_mAP: 0.2380, segm_mAP_50: 0.3480, segm_mAP_75: 0.2380, segm_mAP_s: 0.0380, segm_mAP_m: 0.2130, segm_mAP_l: 0.4450, segm_mAP_copypaste: 0.238 0.348 0.238 0.038 0.213 0.445\n"
     ]
    },
    {
     "name": "stdout",
     "output_type": "stream",
     "text": [
      "DONE (t=0.94s).\n",
      "Average Precision  (AP) @[ IoU=0.50:0.95 | area=   all | maxDets=100 ] = 0.238\n",
      "Average Precision  (AP) @[ IoU=0.50      | area=   all | maxDets=1000 ] = 0.348\n",
      "Average Precision  (AP) @[ IoU=0.75      | area=   all | maxDets=1000 ] = 0.238\n",
      "Average Precision  (AP) @[ IoU=0.50:0.95 | area= small | maxDets=1000 ] = 0.038\n",
      "Average Precision  (AP) @[ IoU=0.50:0.95 | area=medium | maxDets=1000 ] = 0.213\n",
      "Average Precision  (AP) @[ IoU=0.50:0.95 | area= large | maxDets=1000 ] = 0.445\n",
      "Average Recall     (AR) @[ IoU=0.50:0.95 | area=   all | maxDets=100 ] = 0.391\n",
      "Average Recall     (AR) @[ IoU=0.50:0.95 | area=   all | maxDets=300 ] = 0.391\n",
      "Average Recall     (AR) @[ IoU=0.50:0.95 | area=   all | maxDets=1000 ] = 0.391\n",
      "Average Recall     (AR) @[ IoU=0.50:0.95 | area= small | maxDets=1000 ] = 0.103\n",
      "Average Recall     (AR) @[ IoU=0.50:0.95 | area=medium | maxDets=1000 ] = 0.343\n",
      "Average Recall     (AR) @[ IoU=0.50:0.95 | area= large | maxDets=1000 ] = 0.672\n"
     ]
    },
    {
     "name": "stderr",
     "output_type": "stream",
     "text": [
      "2021-05-19 13:05:10,777 - mmdet - INFO - Epoch [3][50/655]\tlr: 1.000e-04, eta: 1:22:34, time: 0.839, data_time: 0.068, memory: 20741, loss_rpn_cls: 0.0521, loss_rpn_bbox: 0.0290, s0.loss_cls: 0.2542, s0.acc: 91.9160, s0.loss_bbox: 0.2783, s0.loss_mask: 0.2574, s1.loss_cls: 0.1253, s1.acc: 92.0981, s1.loss_bbox: 0.1100, s1.loss_mask: 0.1119, s2.loss_cls: 0.0592, s2.acc: 92.2659, s2.loss_bbox: 0.0412, s2.loss_mask: 0.0498, loss: 1.3684, grad_norm: 6.6620\n",
      "2021-05-19 13:05:50,292 - mmdet - INFO - Epoch [3][100/655]\tlr: 1.000e-04, eta: 1:22:03, time: 0.790, data_time: 0.020, memory: 20741, loss_rpn_cls: 0.0630, loss_rpn_bbox: 0.0297, s0.loss_cls: 0.2743, s0.acc: 91.3535, s0.loss_bbox: 0.2938, s0.loss_mask: 0.2570, s1.loss_cls: 0.1349, s1.acc: 91.3235, s1.loss_bbox: 0.1188, s1.loss_mask: 0.1135, s2.loss_cls: 0.0654, s2.acc: 91.5340, s2.loss_bbox: 0.0439, s2.loss_mask: 0.0489, loss: 1.4433, grad_norm: 7.0768\n",
      "2021-05-19 13:06:29,379 - mmdet - INFO - Epoch [3][150/655]\tlr: 1.000e-04, eta: 1:21:29, time: 0.782, data_time: 0.019, memory: 20741, loss_rpn_cls: 0.0621, loss_rpn_bbox: 0.0305, s0.loss_cls: 0.2765, s0.acc: 91.4219, s0.loss_bbox: 0.2824, s0.loss_mask: 0.2547, s1.loss_cls: 0.1327, s1.acc: 91.7636, s1.loss_bbox: 0.1120, s1.loss_mask: 0.1117, s2.loss_cls: 0.0640, s2.acc: 92.0938, s2.loss_bbox: 0.0432, s2.loss_mask: 0.0502, loss: 1.4199, grad_norm: 6.7279\n",
      "2021-05-19 13:07:07,829 - mmdet - INFO - Epoch [3][200/655]\tlr: 1.000e-04, eta: 1:20:52, time: 0.769, data_time: 0.019, memory: 20741, loss_rpn_cls: 0.0557, loss_rpn_bbox: 0.0321, s0.loss_cls: 0.2420, s0.acc: 92.1748, s0.loss_bbox: 0.2698, s0.loss_mask: 0.2498, s1.loss_cls: 0.1171, s1.acc: 92.3627, s1.loss_bbox: 0.1086, s1.loss_mask: 0.1088, s2.loss_cls: 0.0575, s2.acc: 92.6101, s2.loss_bbox: 0.0410, s2.loss_mask: 0.0490, loss: 1.3314, grad_norm: 6.9685\n",
      "2021-05-19 13:07:46,550 - mmdet - INFO - Epoch [3][250/655]\tlr: 1.000e-04, eta: 1:20:15, time: 0.774, data_time: 0.019, memory: 20741, loss_rpn_cls: 0.0626, loss_rpn_bbox: 0.0327, s0.loss_cls: 0.2757, s0.acc: 91.3916, s0.loss_bbox: 0.2978, s0.loss_mask: 0.2735, s1.loss_cls: 0.1357, s1.acc: 91.4951, s1.loss_bbox: 0.1201, s1.loss_mask: 0.1233, s2.loss_cls: 0.0656, s2.acc: 91.5426, s2.loss_bbox: 0.0452, s2.loss_mask: 0.0551, loss: 1.4872, grad_norm: 6.7570\n",
      "2021-05-19 13:08:25,300 - mmdet - INFO - Epoch [3][300/655]\tlr: 1.000e-04, eta: 1:19:39, time: 0.775, data_time: 0.019, memory: 20741, loss_rpn_cls: 0.0613, loss_rpn_bbox: 0.0350, s0.loss_cls: 0.2643, s0.acc: 91.5801, s0.loss_bbox: 0.2826, s0.loss_mask: 0.2729, s1.loss_cls: 0.1334, s1.acc: 91.4075, s1.loss_bbox: 0.1152, s1.loss_mask: 0.1202, s2.loss_cls: 0.0651, s2.acc: 91.5358, s2.loss_bbox: 0.0427, s2.loss_mask: 0.0532, loss: 1.4459, grad_norm: 6.8267\n",
      "2021-05-19 13:09:04,511 - mmdet - INFO - Epoch [3][350/655]\tlr: 1.000e-04, eta: 1:19:05, time: 0.784, data_time: 0.019, memory: 20741, loss_rpn_cls: 0.0580, loss_rpn_bbox: 0.0288, s0.loss_cls: 0.2587, s0.acc: 91.9336, s0.loss_bbox: 0.2681, s0.loss_mask: 0.2572, s1.loss_cls: 0.1287, s1.acc: 91.7174, s1.loss_bbox: 0.1071, s1.loss_mask: 0.1119, s2.loss_cls: 0.0618, s2.acc: 91.8867, s2.loss_bbox: 0.0406, s2.loss_mask: 0.0493, loss: 1.3703, grad_norm: 6.7633\n",
      "2021-05-19 13:09:43,658 - mmdet - INFO - Epoch [3][400/655]\tlr: 1.000e-04, eta: 1:18:30, time: 0.783, data_time: 0.018, memory: 20741, loss_rpn_cls: 0.0635, loss_rpn_bbox: 0.0271, s0.loss_cls: 0.2653, s0.acc: 91.7109, s0.loss_bbox: 0.2844, s0.loss_mask: 0.2554, s1.loss_cls: 0.1287, s1.acc: 91.8973, s1.loss_bbox: 0.1147, s1.loss_mask: 0.1121, s2.loss_cls: 0.0623, s2.acc: 91.9236, s2.loss_bbox: 0.0434, s2.loss_mask: 0.0499, loss: 1.4067, grad_norm: 7.2022\n",
      "2021-05-19 13:10:22,334 - mmdet - INFO - Epoch [3][450/655]\tlr: 1.000e-04, eta: 1:17:53, time: 0.774, data_time: 0.017, memory: 20741, loss_rpn_cls: 0.0584, loss_rpn_bbox: 0.0324, s0.loss_cls: 0.2607, s0.acc: 91.8398, s0.loss_bbox: 0.2774, s0.loss_mask: 0.2581, s1.loss_cls: 0.1277, s1.acc: 92.0654, s1.loss_bbox: 0.1127, s1.loss_mask: 0.1177, s2.loss_cls: 0.0614, s2.acc: 92.3655, s2.loss_bbox: 0.0425, s2.loss_mask: 0.0530, loss: 1.4020, grad_norm: 7.2571\n",
      "2021-05-19 13:11:01,218 - mmdet - INFO - Epoch [3][500/655]\tlr: 1.000e-04, eta: 1:17:16, time: 0.778, data_time: 0.019, memory: 20741, loss_rpn_cls: 0.0619, loss_rpn_bbox: 0.0301, s0.loss_cls: 0.2565, s0.acc: 91.8584, s0.loss_bbox: 0.2660, s0.loss_mask: 0.2561, s1.loss_cls: 0.1232, s1.acc: 92.1628, s1.loss_bbox: 0.1084, s1.loss_mask: 0.1147, s2.loss_cls: 0.0608, s2.acc: 92.2090, s2.loss_bbox: 0.0416, s2.loss_mask: 0.0516, loss: 1.3708, grad_norm: 6.7598\n",
      "2021-05-19 13:11:39,706 - mmdet - INFO - Epoch [3][550/655]\tlr: 1.000e-04, eta: 1:16:38, time: 0.770, data_time: 0.019, memory: 20741, loss_rpn_cls: 0.0572, loss_rpn_bbox: 0.0301, s0.loss_cls: 0.2619, s0.acc: 91.9062, s0.loss_bbox: 0.2728, s0.loss_mask: 0.2786, s1.loss_cls: 0.1304, s1.acc: 91.9406, s1.loss_bbox: 0.1092, s1.loss_mask: 0.1244, s2.loss_cls: 0.0634, s2.acc: 91.9209, s2.loss_bbox: 0.0403, s2.loss_mask: 0.0558, loss: 1.4241, grad_norm: 6.4235\n",
      "2021-05-19 13:12:18,846 - mmdet - INFO - Epoch [3][600/655]\tlr: 1.000e-04, eta: 1:16:03, time: 0.783, data_time: 0.020, memory: 20741, loss_rpn_cls: 0.0718, loss_rpn_bbox: 0.0368, s0.loss_cls: 0.2882, s0.acc: 90.7783, s0.loss_bbox: 0.3035, s0.loss_mask: 0.2670, s1.loss_cls: 0.1402, s1.acc: 91.1221, s1.loss_bbox: 0.1195, s1.loss_mask: 0.1196, s2.loss_cls: 0.0687, s2.acc: 91.2134, s2.loss_bbox: 0.0453, s2.loss_mask: 0.0537, loss: 1.5142, grad_norm: 7.1397\n",
      "2021-05-19 13:12:57,113 - mmdet - INFO - Epoch [3][650/655]\tlr: 1.000e-04, eta: 1:15:24, time: 0.765, data_time: 0.018, memory: 20741, loss_rpn_cls: 0.0568, loss_rpn_bbox: 0.0272, s0.loss_cls: 0.2423, s0.acc: 92.3789, s0.loss_bbox: 0.2694, s0.loss_mask: 0.2515, s1.loss_cls: 0.1191, s1.acc: 92.3465, s1.loss_bbox: 0.1074, s1.loss_mask: 0.1116, s2.loss_cls: 0.0578, s2.acc: 92.4892, s2.loss_bbox: 0.0402, s2.loss_mask: 0.0499, loss: 1.3332, grad_norm: 6.5725\n",
      "2021-05-19 13:13:00,807 - mmdet - INFO - Saving checkpoint at 3 epochs\n"
     ]
    },
    {
     "name": "stdout",
     "output_type": "stream",
     "text": [
      "[>>>>>>>>>>>>>>>>>>>>>>>>>>>>>>] 655/655, 8.3 task/s, elapsed: 79s, ETA:     0s"
     ]
    },
    {
     "name": "stderr",
     "output_type": "stream",
     "text": [
      "2021-05-19 13:14:23,673 - mmdet - INFO - Evaluating bbox...\n"
     ]
    },
    {
     "name": "stdout",
     "output_type": "stream",
     "text": [
      "Loading and preparing results...\n",
      "DONE (t=0.78s)\n",
      "creating index...\n",
      "index created!\n",
      "Running per image evaluation...\n",
      "Evaluate annotation type *bbox*\n",
      "DONE (t=4.80s).\n",
      "Accumulating evaluation results...\n"
     ]
    },
    {
     "name": "stderr",
     "output_type": "stream",
     "text": [
      "2021-05-19 13:14:30,024 - mmdet - INFO - Evaluating segm...\n"
     ]
    },
    {
     "name": "stdout",
     "output_type": "stream",
     "text": [
      "DONE (t=0.76s).\n",
      "Average Precision  (AP) @[ IoU=0.50:0.95 | area=   all | maxDets=100 ] = 0.271\n",
      "Average Precision  (AP) @[ IoU=0.50      | area=   all | maxDets=1000 ] = 0.379\n",
      "Average Precision  (AP) @[ IoU=0.75      | area=   all | maxDets=1000 ] = 0.280\n",
      "Average Precision  (AP) @[ IoU=0.50:0.95 | area= small | maxDets=1000 ] = 0.057\n",
      "Average Precision  (AP) @[ IoU=0.50:0.95 | area=medium | maxDets=1000 ] = 0.232\n",
      "Average Precision  (AP) @[ IoU=0.50:0.95 | area= large | maxDets=1000 ] = 0.505\n",
      "Average Recall     (AR) @[ IoU=0.50:0.95 | area=   all | maxDets=100 ] = 0.400\n",
      "Average Recall     (AR) @[ IoU=0.50:0.95 | area=   all | maxDets=300 ] = 0.400\n",
      "Average Recall     (AR) @[ IoU=0.50:0.95 | area=   all | maxDets=1000 ] = 0.400\n",
      "Average Recall     (AR) @[ IoU=0.50:0.95 | area= small | maxDets=1000 ] = 0.148\n",
      "Average Recall     (AR) @[ IoU=0.50:0.95 | area=medium | maxDets=1000 ] = 0.359\n",
      "Average Recall     (AR) @[ IoU=0.50:0.95 | area= large | maxDets=1000 ] = 0.674\n",
      "Loading and preparing results...\n",
      "DONE (t=0.90s)\n",
      "creating index...\n",
      "index created!\n",
      "Running per image evaluation...\n",
      "Evaluate annotation type *segm*\n",
      "DONE (t=5.16s).\n",
      "Accumulating evaluation results...\n"
     ]
    },
    {
     "name": "stderr",
     "output_type": "stream",
     "text": [
      "2021-05-19 13:14:36,973 - mmdet - INFO - Epoch(val) [3][655]\tbbox_mAP: 0.2710, bbox_mAP_50: 0.3790, bbox_mAP_75: 0.2800, bbox_mAP_s: 0.0570, bbox_mAP_m: 0.2320, bbox_mAP_l: 0.5050, bbox_mAP_copypaste: 0.271 0.379 0.280 0.057 0.232 0.505, segm_mAP: 0.2470, segm_mAP_50: 0.3630, segm_mAP_75: 0.2480, segm_mAP_s: 0.0360, segm_mAP_m: 0.2050, segm_mAP_l: 0.4710, segm_mAP_copypaste: 0.247 0.363 0.248 0.036 0.205 0.471\n"
     ]
    },
    {
     "name": "stdout",
     "output_type": "stream",
     "text": [
      "DONE (t=0.75s).\n",
      "Average Precision  (AP) @[ IoU=0.50:0.95 | area=   all | maxDets=100 ] = 0.247\n",
      "Average Precision  (AP) @[ IoU=0.50      | area=   all | maxDets=1000 ] = 0.363\n",
      "Average Precision  (AP) @[ IoU=0.75      | area=   all | maxDets=1000 ] = 0.248\n",
      "Average Precision  (AP) @[ IoU=0.50:0.95 | area= small | maxDets=1000 ] = 0.036\n",
      "Average Precision  (AP) @[ IoU=0.50:0.95 | area=medium | maxDets=1000 ] = 0.205\n",
      "Average Precision  (AP) @[ IoU=0.50:0.95 | area= large | maxDets=1000 ] = 0.471\n",
      "Average Recall     (AR) @[ IoU=0.50:0.95 | area=   all | maxDets=100 ] = 0.366\n",
      "Average Recall     (AR) @[ IoU=0.50:0.95 | area=   all | maxDets=300 ] = 0.366\n",
      "Average Recall     (AR) @[ IoU=0.50:0.95 | area=   all | maxDets=1000 ] = 0.366\n",
      "Average Recall     (AR) @[ IoU=0.50:0.95 | area= small | maxDets=1000 ] = 0.107\n",
      "Average Recall     (AR) @[ IoU=0.50:0.95 | area=medium | maxDets=1000 ] = 0.319\n",
      "Average Recall     (AR) @[ IoU=0.50:0.95 | area= large | maxDets=1000 ] = 0.649\n"
     ]
    },
    {
     "name": "stderr",
     "output_type": "stream",
     "text": [
      "2021-05-19 13:15:16,684 - mmdet - INFO - Epoch [4][50/655]\tlr: 1.000e-04, eta: 1:14:35, time: 0.794, data_time: 0.064, memory: 20741, loss_rpn_cls: 0.0455, loss_rpn_bbox: 0.0248, s0.loss_cls: 0.1979, s0.acc: 93.4258, s0.loss_bbox: 0.2332, s0.loss_mask: 0.2352, s1.loss_cls: 0.0968, s1.acc: 93.6011, s1.loss_bbox: 0.0964, s1.loss_mask: 0.1032, s2.loss_cls: 0.0487, s2.acc: 93.4601, s2.loss_bbox: 0.0373, s2.loss_mask: 0.0462, loss: 1.1651, grad_norm: 6.4197\n",
      "2021-05-19 13:15:54,668 - mmdet - INFO - Epoch [4][100/655]\tlr: 1.000e-04, eta: 1:13:56, time: 0.760, data_time: 0.018, memory: 20741, loss_rpn_cls: 0.0479, loss_rpn_bbox: 0.0287, s0.loss_cls: 0.2359, s0.acc: 92.6016, s0.loss_bbox: 0.2518, s0.loss_mask: 0.2377, s1.loss_cls: 0.1102, s1.acc: 93.0388, s1.loss_bbox: 0.1018, s1.loss_mask: 0.1042, s2.loss_cls: 0.0538, s2.acc: 93.1557, s2.loss_bbox: 0.0401, s2.loss_mask: 0.0465, loss: 1.2586, grad_norm: 6.4125\n",
      "2021-05-19 13:16:34,036 - mmdet - INFO - Epoch [4][150/655]\tlr: 1.000e-04, eta: 1:13:20, time: 0.787, data_time: 0.021, memory: 20741, loss_rpn_cls: 0.0667, loss_rpn_bbox: 0.0380, s0.loss_cls: 0.2579, s0.acc: 91.6680, s0.loss_bbox: 0.2955, s0.loss_mask: 0.2410, s1.loss_cls: 0.1230, s1.acc: 92.1199, s1.loss_bbox: 0.1189, s1.loss_mask: 0.1090, s2.loss_cls: 0.0592, s2.acc: 92.3735, s2.loss_bbox: 0.0452, s2.loss_mask: 0.0498, loss: 1.4043, grad_norm: 7.3496\n",
      "2021-05-19 13:17:12,091 - mmdet - INFO - Epoch [4][200/655]\tlr: 1.000e-04, eta: 1:12:41, time: 0.761, data_time: 0.019, memory: 20741, loss_rpn_cls: 0.0508, loss_rpn_bbox: 0.0282, s0.loss_cls: 0.2239, s0.acc: 92.7090, s0.loss_bbox: 0.2502, s0.loss_mask: 0.2530, s1.loss_cls: 0.1079, s1.acc: 92.9918, s1.loss_bbox: 0.1029, s1.loss_mask: 0.1132, s2.loss_cls: 0.0532, s2.acc: 92.9973, s2.loss_bbox: 0.0390, s2.loss_mask: 0.0506, loss: 1.2729, grad_norm: 6.9507\n",
      "2021-05-19 13:17:50,733 - mmdet - INFO - Epoch [4][250/655]\tlr: 1.000e-04, eta: 1:12:04, time: 0.773, data_time: 0.018, memory: 20741, loss_rpn_cls: 0.0659, loss_rpn_bbox: 0.0328, s0.loss_cls: 0.2630, s0.acc: 91.6260, s0.loss_bbox: 0.2928, s0.loss_mask: 0.2483, s1.loss_cls: 0.1256, s1.acc: 91.9095, s1.loss_bbox: 0.1196, s1.loss_mask: 0.1109, s2.loss_cls: 0.0617, s2.acc: 91.9944, s2.loss_bbox: 0.0457, s2.loss_mask: 0.0499, loss: 1.4162, grad_norm: 7.1152\n",
      "2021-05-19 13:18:29,444 - mmdet - INFO - Epoch [4][300/655]\tlr: 1.000e-04, eta: 1:11:27, time: 0.774, data_time: 0.019, memory: 20741, loss_rpn_cls: 0.0565, loss_rpn_bbox: 0.0337, s0.loss_cls: 0.2373, s0.acc: 92.4375, s0.loss_bbox: 0.2691, s0.loss_mask: 0.2454, s1.loss_cls: 0.1150, s1.acc: 92.5751, s1.loss_bbox: 0.1074, s1.loss_mask: 0.1094, s2.loss_cls: 0.0561, s2.acc: 92.8767, s2.loss_bbox: 0.0408, s2.loss_mask: 0.0494, loss: 1.3200, grad_norm: 6.3612\n",
      "2021-05-19 13:19:08,416 - mmdet - INFO - Epoch [4][350/655]\tlr: 1.000e-04, eta: 1:10:50, time: 0.779, data_time: 0.019, memory: 20741, loss_rpn_cls: 0.0554, loss_rpn_bbox: 0.0314, s0.loss_cls: 0.2481, s0.acc: 92.0869, s0.loss_bbox: 0.2908, s0.loss_mask: 0.2617, s1.loss_cls: 0.1210, s1.acc: 92.2185, s1.loss_bbox: 0.1184, s1.loss_mask: 0.1152, s2.loss_cls: 0.0602, s2.acc: 92.2824, s2.loss_bbox: 0.0444, s2.loss_mask: 0.0506, loss: 1.3972, grad_norm: 6.8255\n",
      "2021-05-19 13:19:47,269 - mmdet - INFO - Epoch [4][400/655]\tlr: 1.000e-04, eta: 1:10:13, time: 0.777, data_time: 0.019, memory: 20741, loss_rpn_cls: 0.0578, loss_rpn_bbox: 0.0349, s0.loss_cls: 0.2516, s0.acc: 91.9736, s0.loss_bbox: 0.2703, s0.loss_mask: 0.2407, s1.loss_cls: 0.1227, s1.acc: 92.0893, s1.loss_bbox: 0.1080, s1.loss_mask: 0.1080, s2.loss_cls: 0.0593, s2.acc: 92.3134, s2.loss_bbox: 0.0414, s2.loss_mask: 0.0489, loss: 1.3436, grad_norm: 6.6381\n",
      "2021-05-19 13:20:26,323 - mmdet - INFO - Epoch [4][450/655]\tlr: 1.000e-04, eta: 1:09:36, time: 0.781, data_time: 0.018, memory: 20741, loss_rpn_cls: 0.0479, loss_rpn_bbox: 0.0257, s0.loss_cls: 0.2422, s0.acc: 92.3096, s0.loss_bbox: 0.2756, s0.loss_mask: 0.2439, s1.loss_cls: 0.1171, s1.acc: 92.5131, s1.loss_bbox: 0.1113, s1.loss_mask: 0.1070, s2.loss_cls: 0.0562, s2.acc: 92.7679, s2.loss_bbox: 0.0427, s2.loss_mask: 0.0476, loss: 1.3172, grad_norm: 7.0015\n",
      "2021-05-19 13:21:04,960 - mmdet - INFO - Epoch [4][500/655]\tlr: 1.000e-04, eta: 1:08:58, time: 0.773, data_time: 0.019, memory: 20741, loss_rpn_cls: 0.0491, loss_rpn_bbox: 0.0337, s0.loss_cls: 0.2421, s0.acc: 92.2939, s0.loss_bbox: 0.2597, s0.loss_mask: 0.2473, s1.loss_cls: 0.1162, s1.acc: 92.5594, s1.loss_bbox: 0.1026, s1.loss_mask: 0.1088, s2.loss_cls: 0.0566, s2.acc: 92.6379, s2.loss_bbox: 0.0393, s2.loss_mask: 0.0486, loss: 1.3038, grad_norm: 7.1772\n",
      "2021-05-19 13:21:43,989 - mmdet - INFO - Epoch [4][550/655]\tlr: 1.000e-04, eta: 1:08:21, time: 0.781, data_time: 0.019, memory: 20741, loss_rpn_cls: 0.0571, loss_rpn_bbox: 0.0308, s0.loss_cls: 0.2700, s0.acc: 91.6738, s0.loss_bbox: 0.2854, s0.loss_mask: 0.2677, s1.loss_cls: 0.1319, s1.acc: 91.8244, s1.loss_bbox: 0.1157, s1.loss_mask: 0.1154, s2.loss_cls: 0.0651, s2.acc: 91.9912, s2.loss_bbox: 0.0440, s2.loss_mask: 0.0514, loss: 1.4345, grad_norm: 6.9638\n",
      "2021-05-19 13:22:22,315 - mmdet - INFO - Epoch [4][600/655]\tlr: 1.000e-04, eta: 1:07:43, time: 0.767, data_time: 0.018, memory: 20741, loss_rpn_cls: 0.0537, loss_rpn_bbox: 0.0289, s0.loss_cls: 0.2502, s0.acc: 92.0762, s0.loss_bbox: 0.2748, s0.loss_mask: 0.2526, s1.loss_cls: 0.1216, s1.acc: 92.1847, s1.loss_bbox: 0.1096, s1.loss_mask: 0.1100, s2.loss_cls: 0.0589, s2.acc: 92.2858, s2.loss_bbox: 0.0415, s2.loss_mask: 0.0493, loss: 1.3511, grad_norm: 6.7059\n",
      "2021-05-19 13:23:01,079 - mmdet - INFO - Epoch [4][650/655]\tlr: 1.000e-04, eta: 1:07:05, time: 0.775, data_time: 0.019, memory: 20741, loss_rpn_cls: 0.0569, loss_rpn_bbox: 0.0322, s0.loss_cls: 0.2530, s0.acc: 91.9219, s0.loss_bbox: 0.2835, s0.loss_mask: 0.2596, s1.loss_cls: 0.1204, s1.acc: 92.1107, s1.loss_bbox: 0.1159, s1.loss_mask: 0.1139, s2.loss_cls: 0.0586, s2.acc: 92.2808, s2.loss_bbox: 0.0440, s2.loss_mask: 0.0502, loss: 1.3882, grad_norm: 6.9370\n",
      "2021-05-19 13:23:05,093 - mmdet - INFO - Saving checkpoint at 4 epochs\n"
     ]
    },
    {
     "name": "stdout",
     "output_type": "stream",
     "text": [
      "[>>>>>>>>>>>>>>>>>>>>>>>>>>>>>>] 655/655, 8.1 task/s, elapsed: 81s, ETA:     0s"
     ]
    },
    {
     "name": "stderr",
     "output_type": "stream",
     "text": [
      "2021-05-19 13:24:29,679 - mmdet - INFO - Evaluating bbox...\n"
     ]
    },
    {
     "name": "stdout",
     "output_type": "stream",
     "text": [
      "Loading and preparing results...\n",
      "DONE (t=0.83s)\n",
      "creating index...\n",
      "index created!\n",
      "Running per image evaluation...\n",
      "Evaluate annotation type *bbox*\n",
      "DONE (t=4.89s).\n",
      "Accumulating evaluation results...\n"
     ]
    },
    {
     "name": "stderr",
     "output_type": "stream",
     "text": [
      "2021-05-19 13:24:36,203 - mmdet - INFO - Evaluating segm...\n"
     ]
    },
    {
     "name": "stdout",
     "output_type": "stream",
     "text": [
      "DONE (t=0.79s).\n",
      "Average Precision  (AP) @[ IoU=0.50:0.95 | area=   all | maxDets=100 ] = 0.276\n",
      "Average Precision  (AP) @[ IoU=0.50      | area=   all | maxDets=1000 ] = 0.395\n",
      "Average Precision  (AP) @[ IoU=0.75      | area=   all | maxDets=1000 ] = 0.291\n",
      "Average Precision  (AP) @[ IoU=0.50:0.95 | area= small | maxDets=1000 ] = 0.054\n",
      "Average Precision  (AP) @[ IoU=0.50:0.95 | area=medium | maxDets=1000 ] = 0.250\n",
      "Average Precision  (AP) @[ IoU=0.50:0.95 | area= large | maxDets=1000 ] = 0.486\n",
      "Average Recall     (AR) @[ IoU=0.50:0.95 | area=   all | maxDets=100 ] = 0.434\n",
      "Average Recall     (AR) @[ IoU=0.50:0.95 | area=   all | maxDets=300 ] = 0.434\n",
      "Average Recall     (AR) @[ IoU=0.50:0.95 | area=   all | maxDets=1000 ] = 0.434\n",
      "Average Recall     (AR) @[ IoU=0.50:0.95 | area= small | maxDets=1000 ] = 0.148\n",
      "Average Recall     (AR) @[ IoU=0.50:0.95 | area=medium | maxDets=1000 ] = 0.407\n",
      "Average Recall     (AR) @[ IoU=0.50:0.95 | area= large | maxDets=1000 ] = 0.686\n",
      "Loading and preparing results...\n",
      "DONE (t=0.90s)\n",
      "creating index...\n",
      "index created!\n",
      "Running per image evaluation...\n",
      "Evaluate annotation type *segm*\n",
      "DONE (t=5.20s).\n",
      "Accumulating evaluation results...\n"
     ]
    },
    {
     "name": "stderr",
     "output_type": "stream",
     "text": [
      "2021-05-19 13:24:43,219 - mmdet - INFO - Epoch(val) [4][655]\tbbox_mAP: 0.2760, bbox_mAP_50: 0.3950, bbox_mAP_75: 0.2910, bbox_mAP_s: 0.0540, bbox_mAP_m: 0.2500, bbox_mAP_l: 0.4860, bbox_mAP_copypaste: 0.276 0.395 0.291 0.054 0.250 0.486, segm_mAP: 0.2590, segm_mAP_50: 0.3850, segm_mAP_75: 0.2730, segm_mAP_s: 0.0370, segm_mAP_m: 0.2260, segm_mAP_l: 0.4740, segm_mAP_copypaste: 0.259 0.385 0.273 0.037 0.226 0.474\n"
     ]
    },
    {
     "name": "stdout",
     "output_type": "stream",
     "text": [
      "DONE (t=0.78s).\n",
      "Average Precision  (AP) @[ IoU=0.50:0.95 | area=   all | maxDets=100 ] = 0.259\n",
      "Average Precision  (AP) @[ IoU=0.50      | area=   all | maxDets=1000 ] = 0.385\n",
      "Average Precision  (AP) @[ IoU=0.75      | area=   all | maxDets=1000 ] = 0.273\n",
      "Average Precision  (AP) @[ IoU=0.50:0.95 | area= small | maxDets=1000 ] = 0.037\n",
      "Average Precision  (AP) @[ IoU=0.50:0.95 | area=medium | maxDets=1000 ] = 0.226\n",
      "Average Precision  (AP) @[ IoU=0.50:0.95 | area= large | maxDets=1000 ] = 0.474\n",
      "Average Recall     (AR) @[ IoU=0.50:0.95 | area=   all | maxDets=100 ] = 0.407\n",
      "Average Recall     (AR) @[ IoU=0.50:0.95 | area=   all | maxDets=300 ] = 0.407\n",
      "Average Recall     (AR) @[ IoU=0.50:0.95 | area=   all | maxDets=1000 ] = 0.407\n",
      "Average Recall     (AR) @[ IoU=0.50:0.95 | area= small | maxDets=1000 ] = 0.110\n",
      "Average Recall     (AR) @[ IoU=0.50:0.95 | area=medium | maxDets=1000 ] = 0.363\n",
      "Average Recall     (AR) @[ IoU=0.50:0.95 | area= large | maxDets=1000 ] = 0.680\n"
     ]
    },
    {
     "name": "stderr",
     "output_type": "stream",
     "text": [
      "2021-05-19 13:25:24,231 - mmdet - INFO - Epoch [5][50/655]\tlr: 1.000e-04, eta: 1:06:21, time: 0.820, data_time: 0.068, memory: 20741, loss_rpn_cls: 0.0560, loss_rpn_bbox: 0.0284, s0.loss_cls: 0.2283, s0.acc: 92.7734, s0.loss_bbox: 0.2666, s0.loss_mask: 0.2256, s1.loss_cls: 0.1071, s1.acc: 93.2411, s1.loss_bbox: 0.1053, s1.loss_mask: 0.0995, s2.loss_cls: 0.0513, s2.acc: 93.3966, s2.loss_bbox: 0.0402, s2.loss_mask: 0.0451, loss: 1.2534, grad_norm: 6.6829\n",
      "2021-05-19 13:26:02,390 - mmdet - INFO - Epoch [5][100/655]\tlr: 1.000e-04, eta: 1:05:42, time: 0.763, data_time: 0.018, memory: 20741, loss_rpn_cls: 0.0454, loss_rpn_bbox: 0.0284, s0.loss_cls: 0.2142, s0.acc: 93.0752, s0.loss_bbox: 0.2537, s0.loss_mask: 0.2251, s1.loss_cls: 0.1026, s1.acc: 93.3089, s1.loss_bbox: 0.1027, s1.loss_mask: 0.0980, s2.loss_cls: 0.0497, s2.acc: 93.6837, s2.loss_bbox: 0.0407, s2.loss_mask: 0.0441, loss: 1.2046, grad_norm: 6.4848\n",
      "2021-05-19 13:26:41,920 - mmdet - INFO - Epoch [5][150/655]\tlr: 1.000e-04, eta: 1:05:06, time: 0.791, data_time: 0.021, memory: 20741, loss_rpn_cls: 0.0589, loss_rpn_bbox: 0.0352, s0.loss_cls: 0.2643, s0.acc: 91.8945, s0.loss_bbox: 0.3037, s0.loss_mask: 0.2416, s1.loss_cls: 0.1225, s1.acc: 92.4748, s1.loss_bbox: 0.1208, s1.loss_mask: 0.1049, s2.loss_cls: 0.0584, s2.acc: 92.8117, s2.loss_bbox: 0.0463, s2.loss_mask: 0.0466, loss: 1.4031, grad_norm: 6.8663\n",
      "2021-05-19 13:27:20,713 - mmdet - INFO - Epoch [5][200/655]\tlr: 1.000e-04, eta: 1:04:28, time: 0.776, data_time: 0.018, memory: 20741, loss_rpn_cls: 0.0522, loss_rpn_bbox: 0.0303, s0.loss_cls: 0.2281, s0.acc: 92.6006, s0.loss_bbox: 0.2739, s0.loss_mask: 0.2461, s1.loss_cls: 0.1071, s1.acc: 93.0346, s1.loss_bbox: 0.1115, s1.loss_mask: 0.1101, s2.loss_cls: 0.0513, s2.acc: 93.3494, s2.loss_bbox: 0.0423, s2.loss_mask: 0.0499, loss: 1.3029, grad_norm: 6.6460\n",
      "2021-05-19 13:27:59,370 - mmdet - INFO - Epoch [5][250/655]\tlr: 1.000e-04, eta: 1:03:50, time: 0.773, data_time: 0.018, memory: 20741, loss_rpn_cls: 0.0509, loss_rpn_bbox: 0.0291, s0.loss_cls: 0.2174, s0.acc: 92.8750, s0.loss_bbox: 0.2557, s0.loss_mask: 0.2255, s1.loss_cls: 0.1058, s1.acc: 92.9298, s1.loss_bbox: 0.1062, s1.loss_mask: 0.0996, s2.loss_cls: 0.0520, s2.acc: 92.9100, s2.loss_bbox: 0.0412, s2.loss_mask: 0.0448, loss: 1.2282, grad_norm: 6.7154\n",
      "2021-05-19 13:28:38,266 - mmdet - INFO - Epoch [5][300/655]\tlr: 1.000e-04, eta: 1:03:13, time: 0.778, data_time: 0.019, memory: 20741, loss_rpn_cls: 0.0542, loss_rpn_bbox: 0.0329, s0.loss_cls: 0.2497, s0.acc: 91.9990, s0.loss_bbox: 0.2869, s0.loss_mask: 0.2458, s1.loss_cls: 0.1199, s1.acc: 92.3234, s1.loss_bbox: 0.1163, s1.loss_mask: 0.1108, s2.loss_cls: 0.0587, s2.acc: 92.3996, s2.loss_bbox: 0.0431, s2.loss_mask: 0.0494, loss: 1.3677, grad_norm: 6.8112\n",
      "2021-05-19 13:29:16,685 - mmdet - INFO - Epoch [5][350/655]\tlr: 1.000e-04, eta: 1:02:34, time: 0.768, data_time: 0.017, memory: 20741, loss_rpn_cls: 0.0468, loss_rpn_bbox: 0.0279, s0.loss_cls: 0.2116, s0.acc: 93.2061, s0.loss_bbox: 0.2544, s0.loss_mask: 0.2332, s1.loss_cls: 0.1000, s1.acc: 93.5103, s1.loss_bbox: 0.1032, s1.loss_mask: 0.1048, s2.loss_cls: 0.0493, s2.acc: 93.5708, s2.loss_bbox: 0.0405, s2.loss_mask: 0.0473, loss: 1.2191, grad_norm: 6.7025\n",
      "2021-05-19 13:29:55,698 - mmdet - INFO - Epoch [5][400/655]\tlr: 1.000e-04, eta: 1:01:57, time: 0.780, data_time: 0.020, memory: 20741, loss_rpn_cls: 0.0492, loss_rpn_bbox: 0.0301, s0.loss_cls: 0.2469, s0.acc: 91.7949, s0.loss_bbox: 0.2827, s0.loss_mask: 0.2409, s1.loss_cls: 0.1206, s1.acc: 91.8930, s1.loss_bbox: 0.1125, s1.loss_mask: 0.1044, s2.loss_cls: 0.0589, s2.acc: 92.0863, s2.loss_bbox: 0.0437, s2.loss_mask: 0.0473, loss: 1.3371, grad_norm: 6.9896\n",
      "2021-05-19 13:30:34,220 - mmdet - INFO - Epoch [5][450/655]\tlr: 1.000e-04, eta: 1:01:19, time: 0.770, data_time: 0.018, memory: 20741, loss_rpn_cls: 0.0527, loss_rpn_bbox: 0.0292, s0.loss_cls: 0.2213, s0.acc: 92.8340, s0.loss_bbox: 0.2587, s0.loss_mask: 0.2421, s1.loss_cls: 0.1071, s1.acc: 92.9864, s1.loss_bbox: 0.1040, s1.loss_mask: 0.1033, s2.loss_cls: 0.0516, s2.acc: 93.4167, s2.loss_bbox: 0.0400, s2.loss_mask: 0.0459, loss: 1.2559, grad_norm: 6.5109\n",
      "2021-05-19 13:31:13,540 - mmdet - INFO - Epoch [5][500/655]\tlr: 1.000e-04, eta: 1:00:42, time: 0.786, data_time: 0.019, memory: 20741, loss_rpn_cls: 0.0488, loss_rpn_bbox: 0.0272, s0.loss_cls: 0.2335, s0.acc: 92.6514, s0.loss_bbox: 0.2648, s0.loss_mask: 0.2364, s1.loss_cls: 0.1111, s1.acc: 92.8554, s1.loss_bbox: 0.1097, s1.loss_mask: 0.1024, s2.loss_cls: 0.0554, s2.acc: 92.7436, s2.loss_bbox: 0.0434, s2.loss_mask: 0.0457, loss: 1.2785, grad_norm: 7.0977\n",
      "2021-05-19 13:31:52,234 - mmdet - INFO - Epoch [5][550/655]\tlr: 1.000e-04, eta: 1:00:04, time: 0.774, data_time: 0.018, memory: 20741, loss_rpn_cls: 0.0530, loss_rpn_bbox: 0.0285, s0.loss_cls: 0.2324, s0.acc: 92.5898, s0.loss_bbox: 0.2666, s0.loss_mask: 0.2498, s1.loss_cls: 0.1123, s1.acc: 92.7094, s1.loss_bbox: 0.1074, s1.loss_mask: 0.1084, s2.loss_cls: 0.0545, s2.acc: 92.7147, s2.loss_bbox: 0.0409, s2.loss_mask: 0.0480, loss: 1.3017, grad_norm: 7.2235\n",
      "2021-05-19 13:32:31,383 - mmdet - INFO - Epoch [5][600/655]\tlr: 1.000e-04, eta: 0:59:26, time: 0.783, data_time: 0.020, memory: 20741, loss_rpn_cls: 0.0505, loss_rpn_bbox: 0.0305, s0.loss_cls: 0.2400, s0.acc: 92.3135, s0.loss_bbox: 0.2817, s0.loss_mask: 0.2449, s1.loss_cls: 0.1155, s1.acc: 92.5287, s1.loss_bbox: 0.1140, s1.loss_mask: 0.1080, s2.loss_cls: 0.0558, s2.acc: 92.9353, s2.loss_bbox: 0.0446, s2.loss_mask: 0.0485, loss: 1.3338, grad_norm: 7.1554\n",
      "2021-05-19 13:33:10,233 - mmdet - INFO - Epoch [5][650/655]\tlr: 1.000e-04, eta: 0:58:49, time: 0.777, data_time: 0.018, memory: 20741, loss_rpn_cls: 0.0508, loss_rpn_bbox: 0.0278, s0.loss_cls: 0.2248, s0.acc: 92.9297, s0.loss_bbox: 0.2583, s0.loss_mask: 0.2359, s1.loss_cls: 0.1067, s1.acc: 93.2002, s1.loss_bbox: 0.1042, s1.loss_mask: 0.1076, s2.loss_cls: 0.0519, s2.acc: 93.3444, s2.loss_bbox: 0.0407, s2.loss_mask: 0.0496, loss: 1.2582, grad_norm: 6.7338\n",
      "2021-05-19 13:33:14,000 - mmdet - INFO - Saving checkpoint at 5 epochs\n"
     ]
    },
    {
     "name": "stdout",
     "output_type": "stream",
     "text": [
      "[>>>>>>>>>>>>>>>>>>>>>>>>>>>>>>] 655/655, 8.3 task/s, elapsed: 78s, ETA:     0s"
     ]
    },
    {
     "name": "stderr",
     "output_type": "stream",
     "text": [
      "2021-05-19 13:34:36,070 - mmdet - INFO - Evaluating bbox...\n"
     ]
    },
    {
     "name": "stdout",
     "output_type": "stream",
     "text": [
      "Loading and preparing results...\n",
      "DONE (t=0.82s)\n",
      "creating index...\n",
      "index created!\n",
      "Running per image evaluation...\n",
      "Evaluate annotation type *bbox*\n",
      "DONE (t=4.30s).\n",
      "Accumulating evaluation results...\n"
     ]
    },
    {
     "name": "stderr",
     "output_type": "stream",
     "text": [
      "2021-05-19 13:34:41,922 - mmdet - INFO - Evaluating segm...\n"
     ]
    },
    {
     "name": "stdout",
     "output_type": "stream",
     "text": [
      "DONE (t=0.71s).\n",
      "Average Precision  (AP) @[ IoU=0.50:0.95 | area=   all | maxDets=100 ] = 0.271\n",
      "Average Precision  (AP) @[ IoU=0.50      | area=   all | maxDets=1000 ] = 0.382\n",
      "Average Precision  (AP) @[ IoU=0.75      | area=   all | maxDets=1000 ] = 0.283\n",
      "Average Precision  (AP) @[ IoU=0.50:0.95 | area= small | maxDets=1000 ] = 0.053\n",
      "Average Precision  (AP) @[ IoU=0.50:0.95 | area=medium | maxDets=1000 ] = 0.246\n",
      "Average Precision  (AP) @[ IoU=0.50:0.95 | area= large | maxDets=1000 ] = 0.468\n",
      "Average Recall     (AR) @[ IoU=0.50:0.95 | area=   all | maxDets=100 ] = 0.425\n",
      "Average Recall     (AR) @[ IoU=0.50:0.95 | area=   all | maxDets=300 ] = 0.425\n",
      "Average Recall     (AR) @[ IoU=0.50:0.95 | area=   all | maxDets=1000 ] = 0.425\n",
      "Average Recall     (AR) @[ IoU=0.50:0.95 | area= small | maxDets=1000 ] = 0.128\n",
      "Average Recall     (AR) @[ IoU=0.50:0.95 | area=medium | maxDets=1000 ] = 0.417\n",
      "Average Recall     (AR) @[ IoU=0.50:0.95 | area= large | maxDets=1000 ] = 0.663\n",
      "Loading and preparing results...\n",
      "DONE (t=0.89s)\n",
      "creating index...\n",
      "index created!\n",
      "Running per image evaluation...\n",
      "Evaluate annotation type *segm*\n",
      "DONE (t=4.58s).\n",
      "Accumulating evaluation results...\n"
     ]
    },
    {
     "name": "stderr",
     "output_type": "stream",
     "text": [
      "2021-05-19 13:34:48,238 - mmdet - INFO - Epoch(val) [5][655]\tbbox_mAP: 0.2710, bbox_mAP_50: 0.3820, bbox_mAP_75: 0.2830, bbox_mAP_s: 0.0530, bbox_mAP_m: 0.2460, bbox_mAP_l: 0.4680, bbox_mAP_copypaste: 0.271 0.382 0.283 0.053 0.246 0.468, segm_mAP: 0.2520, segm_mAP_50: 0.3700, segm_mAP_75: 0.2580, segm_mAP_s: 0.0390, segm_mAP_m: 0.2230, segm_mAP_l: 0.4350, segm_mAP_copypaste: 0.252 0.370 0.258 0.039 0.223 0.435\n"
     ]
    },
    {
     "name": "stdout",
     "output_type": "stream",
     "text": [
      "DONE (t=0.71s).\n",
      "Average Precision  (AP) @[ IoU=0.50:0.95 | area=   all | maxDets=100 ] = 0.252\n",
      "Average Precision  (AP) @[ IoU=0.50      | area=   all | maxDets=1000 ] = 0.370\n",
      "Average Precision  (AP) @[ IoU=0.75      | area=   all | maxDets=1000 ] = 0.258\n",
      "Average Precision  (AP) @[ IoU=0.50:0.95 | area= small | maxDets=1000 ] = 0.039\n",
      "Average Precision  (AP) @[ IoU=0.50:0.95 | area=medium | maxDets=1000 ] = 0.223\n",
      "Average Precision  (AP) @[ IoU=0.50:0.95 | area= large | maxDets=1000 ] = 0.435\n",
      "Average Recall     (AR) @[ IoU=0.50:0.95 | area=   all | maxDets=100 ] = 0.391\n",
      "Average Recall     (AR) @[ IoU=0.50:0.95 | area=   all | maxDets=300 ] = 0.391\n",
      "Average Recall     (AR) @[ IoU=0.50:0.95 | area=   all | maxDets=1000 ] = 0.391\n",
      "Average Recall     (AR) @[ IoU=0.50:0.95 | area= small | maxDets=1000 ] = 0.097\n",
      "Average Recall     (AR) @[ IoU=0.50:0.95 | area=medium | maxDets=1000 ] = 0.369\n",
      "Average Recall     (AR) @[ IoU=0.50:0.95 | area= large | maxDets=1000 ] = 0.653\n"
     ]
    },
    {
     "name": "stderr",
     "output_type": "stream",
     "text": [
      "2021-05-19 13:35:29,527 - mmdet - INFO - Epoch [6][50/655]\tlr: 1.000e-04, eta: 0:58:05, time: 0.826, data_time: 0.067, memory: 20741, loss_rpn_cls: 0.0463, loss_rpn_bbox: 0.0270, s0.loss_cls: 0.2231, s0.acc: 92.7617, s0.loss_bbox: 0.2669, s0.loss_mask: 0.2293, s1.loss_cls: 0.1045, s1.acc: 93.1417, s1.loss_bbox: 0.1103, s1.loss_mask: 0.1005, s2.loss_cls: 0.0501, s2.acc: 93.3682, s2.loss_bbox: 0.0434, s2.loss_mask: 0.0453, loss: 1.2467, grad_norm: 6.9966\n",
      "2021-05-19 13:36:08,648 - mmdet - INFO - Epoch [6][100/655]\tlr: 1.000e-04, eta: 0:57:27, time: 0.782, data_time: 0.020, memory: 20741, loss_rpn_cls: 0.0467, loss_rpn_bbox: 0.0286, s0.loss_cls: 0.2202, s0.acc: 92.8672, s0.loss_bbox: 0.2629, s0.loss_mask: 0.2243, s1.loss_cls: 0.1052, s1.acc: 93.0407, s1.loss_bbox: 0.1081, s1.loss_mask: 0.0996, s2.loss_cls: 0.0511, s2.acc: 93.2716, s2.loss_bbox: 0.0420, s2.loss_mask: 0.0449, loss: 1.2337, grad_norm: 6.6079\n",
      "2021-05-19 13:36:47,477 - mmdet - INFO - Epoch [6][150/655]\tlr: 1.000e-04, eta: 0:56:49, time: 0.777, data_time: 0.019, memory: 20741, loss_rpn_cls: 0.0506, loss_rpn_bbox: 0.0340, s0.loss_cls: 0.2272, s0.acc: 92.5547, s0.loss_bbox: 0.2683, s0.loss_mask: 0.2348, s1.loss_cls: 0.1073, s1.acc: 92.9820, s1.loss_bbox: 0.1086, s1.loss_mask: 0.1033, s2.loss_cls: 0.0519, s2.acc: 93.0103, s2.loss_bbox: 0.0417, s2.loss_mask: 0.0465, loss: 1.2743, grad_norm: 6.4208\n",
      "2021-05-19 13:37:27,049 - mmdet - INFO - Epoch [6][200/655]\tlr: 1.000e-04, eta: 0:56:12, time: 0.791, data_time: 0.019, memory: 20741, loss_rpn_cls: 0.0521, loss_rpn_bbox: 0.0336, s0.loss_cls: 0.2265, s0.acc: 92.6377, s0.loss_bbox: 0.2937, s0.loss_mask: 0.2496, s1.loss_cls: 0.1052, s1.acc: 93.1706, s1.loss_bbox: 0.1187, s1.loss_mask: 0.1112, s2.loss_cls: 0.0508, s2.acc: 93.3164, s2.loss_bbox: 0.0455, s2.loss_mask: 0.0499, loss: 1.3367, grad_norm: 6.7779\n",
      "2021-05-19 13:38:05,282 - mmdet - INFO - Epoch [6][250/655]\tlr: 1.000e-04, eta: 0:55:34, time: 0.765, data_time: 0.018, memory: 20741, loss_rpn_cls: 0.0534, loss_rpn_bbox: 0.0298, s0.loss_cls: 0.2170, s0.acc: 93.0137, s0.loss_bbox: 0.2483, s0.loss_mask: 0.2142, s1.loss_cls: 0.1000, s1.acc: 93.6338, s1.loss_bbox: 0.1017, s1.loss_mask: 0.0962, s2.loss_cls: 0.0496, s2.acc: 93.7755, s2.loss_bbox: 0.0403, s2.loss_mask: 0.0439, loss: 1.1944, grad_norm: 6.5930\n",
      "2021-05-19 13:38:43,824 - mmdet - INFO - Epoch [6][300/655]\tlr: 1.000e-04, eta: 0:54:55, time: 0.771, data_time: 0.018, memory: 20741, loss_rpn_cls: 0.0461, loss_rpn_bbox: 0.0292, s0.loss_cls: 0.2076, s0.acc: 93.2471, s0.loss_bbox: 0.2477, s0.loss_mask: 0.2256, s1.loss_cls: 0.1000, s1.acc: 93.5947, s1.loss_bbox: 0.1021, s1.loss_mask: 0.0998, s2.loss_cls: 0.0491, s2.acc: 93.6245, s2.loss_bbox: 0.0399, s2.loss_mask: 0.0446, loss: 1.1916, grad_norm: 6.4937\n",
      "2021-05-19 13:39:23,052 - mmdet - INFO - Epoch [6][350/655]\tlr: 1.000e-04, eta: 0:54:18, time: 0.785, data_time: 0.019, memory: 20741, loss_rpn_cls: 0.0487, loss_rpn_bbox: 0.0314, s0.loss_cls: 0.2332, s0.acc: 92.3633, s0.loss_bbox: 0.2891, s0.loss_mask: 0.2413, s1.loss_cls: 0.1095, s1.acc: 92.8893, s1.loss_bbox: 0.1157, s1.loss_mask: 0.1056, s2.loss_cls: 0.0544, s2.acc: 92.7057, s2.loss_bbox: 0.0448, s2.loss_mask: 0.0472, loss: 1.3209, grad_norm: 6.8266\n",
      "2021-05-19 13:40:01,852 - mmdet - INFO - Epoch [6][400/655]\tlr: 1.000e-04, eta: 0:53:40, time: 0.776, data_time: 0.018, memory: 20741, loss_rpn_cls: 0.0451, loss_rpn_bbox: 0.0277, s0.loss_cls: 0.2059, s0.acc: 93.5303, s0.loss_bbox: 0.2474, s0.loss_mask: 0.2389, s1.loss_cls: 0.0983, s1.acc: 93.7151, s1.loss_bbox: 0.1032, s1.loss_mask: 0.1043, s2.loss_cls: 0.0483, s2.acc: 93.6953, s2.loss_bbox: 0.0408, s2.loss_mask: 0.0470, loss: 1.2069, grad_norm: 6.4551\n",
      "2021-05-19 13:40:40,905 - mmdet - INFO - Epoch [6][450/655]\tlr: 1.000e-04, eta: 0:53:02, time: 0.781, data_time: 0.019, memory: 20741, loss_rpn_cls: 0.0541, loss_rpn_bbox: 0.0323, s0.loss_cls: 0.2275, s0.acc: 92.6445, s0.loss_bbox: 0.2660, s0.loss_mask: 0.2340, s1.loss_cls: 0.1097, s1.acc: 93.0249, s1.loss_bbox: 0.1108, s1.loss_mask: 0.1055, s2.loss_cls: 0.0538, s2.acc: 92.8705, s2.loss_bbox: 0.0423, s2.loss_mask: 0.0479, loss: 1.2838, grad_norm: 7.0156\n",
      "2021-05-19 13:41:20,392 - mmdet - INFO - Epoch [6][500/655]\tlr: 1.000e-04, eta: 0:52:24, time: 0.790, data_time: 0.021, memory: 20741, loss_rpn_cls: 0.0500, loss_rpn_bbox: 0.0340, s0.loss_cls: 0.2341, s0.acc: 92.3418, s0.loss_bbox: 0.2802, s0.loss_mask: 0.2259, s1.loss_cls: 0.1099, s1.acc: 92.8463, s1.loss_bbox: 0.1163, s1.loss_mask: 0.1013, s2.loss_cls: 0.0530, s2.acc: 92.9446, s2.loss_bbox: 0.0450, s2.loss_mask: 0.0454, loss: 1.2952, grad_norm: 6.9070\n",
      "2021-05-19 13:41:59,202 - mmdet - INFO - Epoch [6][550/655]\tlr: 1.000e-04, eta: 0:51:46, time: 0.776, data_time: 0.017, memory: 20741, loss_rpn_cls: 0.0474, loss_rpn_bbox: 0.0252, s0.loss_cls: 0.2158, s0.acc: 92.9541, s0.loss_bbox: 0.2567, s0.loss_mask: 0.2323, s1.loss_cls: 0.1030, s1.acc: 93.3287, s1.loss_bbox: 0.1050, s1.loss_mask: 0.1029, s2.loss_cls: 0.0494, s2.acc: 93.4698, s2.loss_bbox: 0.0408, s2.loss_mask: 0.0465, loss: 1.2249, grad_norm: 6.9091\n",
      "2021-05-19 13:42:38,338 - mmdet - INFO - Epoch [6][600/655]\tlr: 1.000e-04, eta: 0:51:08, time: 0.783, data_time: 0.019, memory: 20741, loss_rpn_cls: 0.0555, loss_rpn_bbox: 0.0312, s0.loss_cls: 0.2263, s0.acc: 92.7471, s0.loss_bbox: 0.2629, s0.loss_mask: 0.2312, s1.loss_cls: 0.1077, s1.acc: 93.0765, s1.loss_bbox: 0.1059, s1.loss_mask: 0.1017, s2.loss_cls: 0.0527, s2.acc: 93.1871, s2.loss_bbox: 0.0421, s2.loss_mask: 0.0457, loss: 1.2629, grad_norm: 6.5933\n",
      "2021-05-19 13:43:16,376 - mmdet - INFO - Epoch [6][650/655]\tlr: 1.000e-04, eta: 0:50:29, time: 0.761, data_time: 0.017, memory: 20741, loss_rpn_cls: 0.0466, loss_rpn_bbox: 0.0286, s0.loss_cls: 0.1994, s0.acc: 93.4893, s0.loss_bbox: 0.2452, s0.loss_mask: 0.2235, s1.loss_cls: 0.0951, s1.acc: 93.8235, s1.loss_bbox: 0.1022, s1.loss_mask: 0.0989, s2.loss_cls: 0.0467, s2.acc: 93.8065, s2.loss_bbox: 0.0404, s2.loss_mask: 0.0449, loss: 1.1715, grad_norm: 6.3360\n",
      "2021-05-19 13:43:20,194 - mmdet - INFO - Saving checkpoint at 6 epochs\n"
     ]
    },
    {
     "name": "stdout",
     "output_type": "stream",
     "text": [
      "[>>>>>>>>>>>>>>>>>>>>>>>>>>>>>>] 655/655, 8.8 task/s, elapsed: 74s, ETA:     0s"
     ]
    },
    {
     "name": "stderr",
     "output_type": "stream",
     "text": [
      "2021-05-19 13:44:38,646 - mmdet - INFO - Evaluating bbox...\n"
     ]
    },
    {
     "name": "stdout",
     "output_type": "stream",
     "text": [
      "Loading and preparing results...\n",
      "DONE (t=0.08s)\n",
      "creating index...\n",
      "index created!\n",
      "Running per image evaluation...\n",
      "Evaluate annotation type *bbox*\n",
      "DONE (t=4.70s).\n",
      "Accumulating evaluation results...\n"
     ]
    },
    {
     "name": "stderr",
     "output_type": "stream",
     "text": [
      "2021-05-19 13:44:44,090 - mmdet - INFO - Evaluating segm...\n"
     ]
    },
    {
     "name": "stdout",
     "output_type": "stream",
     "text": [
      "DONE (t=0.65s).\n",
      "Average Precision  (AP) @[ IoU=0.50:0.95 | area=   all | maxDets=100 ] = 0.282\n",
      "Average Precision  (AP) @[ IoU=0.50      | area=   all | maxDets=1000 ] = 0.395\n",
      "Average Precision  (AP) @[ IoU=0.75      | area=   all | maxDets=1000 ] = 0.302\n",
      "Average Precision  (AP) @[ IoU=0.50:0.95 | area= small | maxDets=1000 ] = 0.057\n",
      "Average Precision  (AP) @[ IoU=0.50:0.95 | area=medium | maxDets=1000 ] = 0.267\n",
      "Average Precision  (AP) @[ IoU=0.50:0.95 | area= large | maxDets=1000 ] = 0.425\n",
      "Average Recall     (AR) @[ IoU=0.50:0.95 | area=   all | maxDets=100 ] = 0.420\n",
      "Average Recall     (AR) @[ IoU=0.50:0.95 | area=   all | maxDets=300 ] = 0.420\n",
      "Average Recall     (AR) @[ IoU=0.50:0.95 | area=   all | maxDets=1000 ] = 0.420\n",
      "Average Recall     (AR) @[ IoU=0.50:0.95 | area= small | maxDets=1000 ] = 0.141\n",
      "Average Recall     (AR) @[ IoU=0.50:0.95 | area=medium | maxDets=1000 ] = 0.407\n",
      "Average Recall     (AR) @[ IoU=0.50:0.95 | area= large | maxDets=1000 ] = 0.589\n",
      "Loading and preparing results...\n",
      "DONE (t=0.13s)\n",
      "creating index...\n",
      "index created!\n",
      "Running per image evaluation...\n",
      "Evaluate annotation type *segm*\n",
      "DONE (t=4.20s).\n",
      "Accumulating evaluation results...\n"
     ]
    },
    {
     "name": "stderr",
     "output_type": "stream",
     "text": [
      "2021-05-19 13:44:49,169 - mmdet - INFO - Epoch(val) [6][655]\tbbox_mAP: 0.2820, bbox_mAP_50: 0.3950, bbox_mAP_75: 0.3020, bbox_mAP_s: 0.0570, bbox_mAP_m: 0.2670, bbox_mAP_l: 0.4250, bbox_mAP_copypaste: 0.282 0.395 0.302 0.057 0.267 0.425, segm_mAP: 0.2590, segm_mAP_50: 0.3820, segm_mAP_75: 0.2740, segm_mAP_s: 0.0380, segm_mAP_m: 0.2350, segm_mAP_l: 0.4000, segm_mAP_copypaste: 0.259 0.382 0.274 0.038 0.235 0.400\n"
     ]
    },
    {
     "name": "stdout",
     "output_type": "stream",
     "text": [
      "DONE (t=0.63s).\n",
      "Average Precision  (AP) @[ IoU=0.50:0.95 | area=   all | maxDets=100 ] = 0.259\n",
      "Average Precision  (AP) @[ IoU=0.50      | area=   all | maxDets=1000 ] = 0.382\n",
      "Average Precision  (AP) @[ IoU=0.75      | area=   all | maxDets=1000 ] = 0.274\n",
      "Average Precision  (AP) @[ IoU=0.50:0.95 | area= small | maxDets=1000 ] = 0.038\n",
      "Average Precision  (AP) @[ IoU=0.50:0.95 | area=medium | maxDets=1000 ] = 0.235\n",
      "Average Precision  (AP) @[ IoU=0.50:0.95 | area= large | maxDets=1000 ] = 0.400\n",
      "Average Recall     (AR) @[ IoU=0.50:0.95 | area=   all | maxDets=100 ] = 0.383\n",
      "Average Recall     (AR) @[ IoU=0.50:0.95 | area=   all | maxDets=300 ] = 0.383\n",
      "Average Recall     (AR) @[ IoU=0.50:0.95 | area=   all | maxDets=1000 ] = 0.383\n",
      "Average Recall     (AR) @[ IoU=0.50:0.95 | area= small | maxDets=1000 ] = 0.100\n",
      "Average Recall     (AR) @[ IoU=0.50:0.95 | area=medium | maxDets=1000 ] = 0.357\n",
      "Average Recall     (AR) @[ IoU=0.50:0.95 | area= large | maxDets=1000 ] = 0.572\n"
     ]
    },
    {
     "name": "stderr",
     "output_type": "stream",
     "text": [
      "2021-05-19 13:45:30,614 - mmdet - INFO - Epoch [7][50/655]\tlr: 1.000e-04, eta: 0:49:46, time: 0.829, data_time: 0.066, memory: 20741, loss_rpn_cls: 0.0393, loss_rpn_bbox: 0.0274, s0.loss_cls: 0.1822, s0.acc: 94.0791, s0.loss_bbox: 0.2370, s0.loss_mask: 0.2093, s1.loss_cls: 0.0826, s1.acc: 94.6376, s1.loss_bbox: 0.0989, s1.loss_mask: 0.0924, s2.loss_cls: 0.0405, s2.acc: 94.5904, s2.loss_bbox: 0.0398, s2.loss_mask: 0.0422, loss: 1.0917, grad_norm: 6.2497\n",
      "2021-05-19 13:46:09,882 - mmdet - INFO - Epoch [7][100/655]\tlr: 1.000e-04, eta: 0:49:08, time: 0.785, data_time: 0.021, memory: 20741, loss_rpn_cls: 0.0463, loss_rpn_bbox: 0.0319, s0.loss_cls: 0.2058, s0.acc: 93.1846, s0.loss_bbox: 0.2652, s0.loss_mask: 0.2311, s1.loss_cls: 0.0946, s1.acc: 93.8723, s1.loss_bbox: 0.1060, s1.loss_mask: 0.1007, s2.loss_cls: 0.0452, s2.acc: 94.1643, s2.loss_bbox: 0.0408, s2.loss_mask: 0.0447, loss: 1.2123, grad_norm: 6.8782\n",
      "2021-05-19 13:46:49,125 - mmdet - INFO - Epoch [7][150/655]\tlr: 1.000e-04, eta: 0:48:31, time: 0.785, data_time: 0.020, memory: 20741, loss_rpn_cls: 0.0517, loss_rpn_bbox: 0.0305, s0.loss_cls: 0.2060, s0.acc: 93.1016, s0.loss_bbox: 0.2696, s0.loss_mask: 0.2333, s1.loss_cls: 0.0946, s1.acc: 93.7098, s1.loss_bbox: 0.1099, s1.loss_mask: 0.1039, s2.loss_cls: 0.0461, s2.acc: 93.8182, s2.loss_bbox: 0.0437, s2.loss_mask: 0.0474, loss: 1.2366, grad_norm: 6.5653\n",
      "2021-05-19 13:47:27,283 - mmdet - INFO - Epoch [7][200/655]\tlr: 1.000e-04, eta: 0:47:52, time: 0.763, data_time: 0.017, memory: 20741, loss_rpn_cls: 0.0378, loss_rpn_bbox: 0.0261, s0.loss_cls: 0.1811, s0.acc: 94.0195, s0.loss_bbox: 0.2381, s0.loss_mask: 0.2148, s1.loss_cls: 0.0844, s1.acc: 94.4542, s1.loss_bbox: 0.0984, s1.loss_mask: 0.0942, s2.loss_cls: 0.0417, s2.acc: 94.4038, s2.loss_bbox: 0.0389, s2.loss_mask: 0.0418, loss: 1.0972, grad_norm: 6.5670\n",
      "2021-05-19 13:48:05,898 - mmdet - INFO - Epoch [7][250/655]\tlr: 1.000e-04, eta: 0:47:13, time: 0.772, data_time: 0.019, memory: 20741, loss_rpn_cls: 0.0432, loss_rpn_bbox: 0.0284, s0.loss_cls: 0.1883, s0.acc: 93.7256, s0.loss_bbox: 0.2533, s0.loss_mask: 0.2226, s1.loss_cls: 0.0860, s1.acc: 94.2806, s1.loss_bbox: 0.1052, s1.loss_mask: 0.0965, s2.loss_cls: 0.0424, s2.acc: 94.3371, s2.loss_bbox: 0.0412, s2.loss_mask: 0.0440, loss: 1.1510, grad_norm: 6.4461\n",
      "2021-05-19 13:48:44,988 - mmdet - INFO - Epoch [7][300/655]\tlr: 1.000e-04, eta: 0:46:35, time: 0.782, data_time: 0.019, memory: 20741, loss_rpn_cls: 0.0491, loss_rpn_bbox: 0.0313, s0.loss_cls: 0.2235, s0.acc: 92.7568, s0.loss_bbox: 0.2649, s0.loss_mask: 0.2329, s1.loss_cls: 0.1066, s1.acc: 93.0480, s1.loss_bbox: 0.1091, s1.loss_mask: 0.1023, s2.loss_cls: 0.0515, s2.acc: 93.2375, s2.loss_bbox: 0.0429, s2.loss_mask: 0.0460, loss: 1.2600, grad_norm: 6.9955\n",
      "2021-05-19 13:49:24,536 - mmdet - INFO - Epoch [7][350/655]\tlr: 1.000e-04, eta: 0:45:58, time: 0.791, data_time: 0.016, memory: 20741, loss_rpn_cls: 0.0336, loss_rpn_bbox: 0.0225, s0.loss_cls: 0.1748, s0.acc: 94.1855, s0.loss_bbox: 0.2299, s0.loss_mask: 0.2072, s1.loss_cls: 0.0809, s1.acc: 94.5662, s1.loss_bbox: 0.0978, s1.loss_mask: 0.0912, s2.loss_cls: 0.0404, s2.acc: 94.3928, s2.loss_bbox: 0.0394, s2.loss_mask: 0.0413, loss: 1.0592, grad_norm: 6.3448\n",
      "2021-05-19 13:50:03,356 - mmdet - INFO - Epoch [7][400/655]\tlr: 1.000e-04, eta: 0:45:20, time: 0.776, data_time: 0.019, memory: 20741, loss_rpn_cls: 0.0448, loss_rpn_bbox: 0.0292, s0.loss_cls: 0.1968, s0.acc: 93.5049, s0.loss_bbox: 0.2386, s0.loss_mask: 0.2124, s1.loss_cls: 0.0918, s1.acc: 94.0915, s1.loss_bbox: 0.0964, s1.loss_mask: 0.0922, s2.loss_cls: 0.0441, s2.acc: 94.0908, s2.loss_bbox: 0.0381, s2.loss_mask: 0.0420, loss: 1.1264, grad_norm: 6.2976\n",
      "2021-05-19 13:50:42,231 - mmdet - INFO - Epoch [7][450/655]\tlr: 1.000e-04, eta: 0:44:41, time: 0.778, data_time: 0.018, memory: 20741, loss_rpn_cls: 0.0428, loss_rpn_bbox: 0.0298, s0.loss_cls: 0.2095, s0.acc: 93.1924, s0.loss_bbox: 0.2485, s0.loss_mask: 0.2254, s1.loss_cls: 0.0990, s1.acc: 93.5761, s1.loss_bbox: 0.0998, s1.loss_mask: 0.0950, s2.loss_cls: 0.0490, s2.acc: 93.5331, s2.loss_bbox: 0.0396, s2.loss_mask: 0.0428, loss: 1.1813, grad_norm: 6.5242\n",
      "2021-05-19 13:51:22,430 - mmdet - INFO - Epoch [7][500/655]\tlr: 1.000e-04, eta: 0:44:04, time: 0.804, data_time: 0.021, memory: 20741, loss_rpn_cls: 0.0519, loss_rpn_bbox: 0.0319, s0.loss_cls: 0.2184, s0.acc: 92.6387, s0.loss_bbox: 0.2694, s0.loss_mask: 0.2254, s1.loss_cls: 0.1030, s1.acc: 93.0965, s1.loss_bbox: 0.1105, s1.loss_mask: 0.0984, s2.loss_cls: 0.0507, s2.acc: 93.1257, s2.loss_bbox: 0.0437, s2.loss_mask: 0.0449, loss: 1.2483, grad_norm: 6.7147\n",
      "2021-05-19 13:52:01,954 - mmdet - INFO - Epoch [7][550/655]\tlr: 1.000e-04, eta: 0:43:26, time: 0.790, data_time: 0.020, memory: 20741, loss_rpn_cls: 0.0466, loss_rpn_bbox: 0.0323, s0.loss_cls: 0.2267, s0.acc: 92.6074, s0.loss_bbox: 0.2872, s0.loss_mask: 0.2428, s1.loss_cls: 0.1050, s1.acc: 93.0418, s1.loss_bbox: 0.1126, s1.loss_mask: 0.1063, s2.loss_cls: 0.0508, s2.acc: 93.0652, s2.loss_bbox: 0.0430, s2.loss_mask: 0.0474, loss: 1.3008, grad_norm: 6.8250\n",
      "2021-05-19 13:52:40,805 - mmdet - INFO - Epoch [7][600/655]\tlr: 1.000e-04, eta: 0:42:48, time: 0.777, data_time: 0.019, memory: 20741, loss_rpn_cls: 0.0442, loss_rpn_bbox: 0.0300, s0.loss_cls: 0.2036, s0.acc: 93.3037, s0.loss_bbox: 0.2636, s0.loss_mask: 0.2350, s1.loss_cls: 0.0931, s1.acc: 93.7759, s1.loss_bbox: 0.1068, s1.loss_mask: 0.1066, s2.loss_cls: 0.0451, s2.acc: 93.9706, s2.loss_bbox: 0.0408, s2.loss_mask: 0.0478, loss: 1.2166, grad_norm: 6.4594\n",
      "2021-05-19 13:53:19,731 - mmdet - INFO - Epoch [7][650/655]\tlr: 1.000e-04, eta: 0:42:10, time: 0.779, data_time: 0.019, memory: 20741, loss_rpn_cls: 0.0436, loss_rpn_bbox: 0.0295, s0.loss_cls: 0.2062, s0.acc: 93.1641, s0.loss_bbox: 0.2619, s0.loss_mask: 0.2287, s1.loss_cls: 0.0968, s1.acc: 93.5965, s1.loss_bbox: 0.1087, s1.loss_mask: 0.1013, s2.loss_cls: 0.0477, s2.acc: 93.5047, s2.loss_bbox: 0.0436, s2.loss_mask: 0.0458, loss: 1.2139, grad_norm: 6.5124\n",
      "2021-05-19 13:53:23,618 - mmdet - INFO - Saving checkpoint at 7 epochs\n"
     ]
    },
    {
     "name": "stdout",
     "output_type": "stream",
     "text": [
      "[>>>>>>>>>>>>>>>>>>>>>>>>>>>>>>] 655/655, 8.3 task/s, elapsed: 79s, ETA:     0s"
     ]
    },
    {
     "name": "stderr",
     "output_type": "stream",
     "text": [
      "2021-05-19 13:54:47,212 - mmdet - INFO - Evaluating bbox...\n"
     ]
    },
    {
     "name": "stdout",
     "output_type": "stream",
     "text": [
      "Loading and preparing results...\n",
      "DONE (t=0.11s)\n",
      "creating index...\n",
      "index created!\n",
      "Running per image evaluation...\n",
      "Evaluate annotation type *bbox*\n",
      "DONE (t=4.92s).\n",
      "Accumulating evaluation results...\n"
     ]
    },
    {
     "name": "stderr",
     "output_type": "stream",
     "text": [
      "2021-05-19 13:54:53,013 - mmdet - INFO - Evaluating segm...\n"
     ]
    },
    {
     "name": "stdout",
     "output_type": "stream",
     "text": [
      "DONE (t=0.75s).\n",
      "Average Precision  (AP) @[ IoU=0.50:0.95 | area=   all | maxDets=100 ] = 0.274\n",
      "Average Precision  (AP) @[ IoU=0.50      | area=   all | maxDets=1000 ] = 0.393\n",
      "Average Precision  (AP) @[ IoU=0.75      | area=   all | maxDets=1000 ] = 0.291\n",
      "Average Precision  (AP) @[ IoU=0.50:0.95 | area= small | maxDets=1000 ] = 0.046\n",
      "Average Precision  (AP) @[ IoU=0.50:0.95 | area=medium | maxDets=1000 ] = 0.245\n",
      "Average Precision  (AP) @[ IoU=0.50:0.95 | area= large | maxDets=1000 ] = 0.495\n",
      "Average Recall     (AR) @[ IoU=0.50:0.95 | area=   all | maxDets=100 ] = 0.412\n",
      "Average Recall     (AR) @[ IoU=0.50:0.95 | area=   all | maxDets=300 ] = 0.412\n",
      "Average Recall     (AR) @[ IoU=0.50:0.95 | area=   all | maxDets=1000 ] = 0.412\n",
      "Average Recall     (AR) @[ IoU=0.50:0.95 | area= small | maxDets=1000 ] = 0.139\n",
      "Average Recall     (AR) @[ IoU=0.50:0.95 | area=medium | maxDets=1000 ] = 0.382\n",
      "Average Recall     (AR) @[ IoU=0.50:0.95 | area= large | maxDets=1000 ] = 0.654\n",
      "Loading and preparing results...\n",
      "DONE (t=0.16s)\n",
      "creating index...\n",
      "index created!\n",
      "Running per image evaluation...\n",
      "Evaluate annotation type *segm*\n",
      "DONE (t=4.49s).\n",
      "Accumulating evaluation results...\n"
     ]
    },
    {
     "name": "stderr",
     "output_type": "stream",
     "text": [
      "2021-05-19 13:54:58,530 - mmdet - INFO - Epoch(val) [7][655]\tbbox_mAP: 0.2740, bbox_mAP_50: 0.3930, bbox_mAP_75: 0.2910, bbox_mAP_s: 0.0460, bbox_mAP_m: 0.2450, bbox_mAP_l: 0.4950, bbox_mAP_copypaste: 0.274 0.393 0.291 0.046 0.245 0.495, segm_mAP: 0.2590, segm_mAP_50: 0.3800, segm_mAP_75: 0.2750, segm_mAP_s: 0.0310, segm_mAP_m: 0.2200, segm_mAP_l: 0.4700, segm_mAP_copypaste: 0.259 0.380 0.275 0.031 0.220 0.470\n"
     ]
    },
    {
     "name": "stdout",
     "output_type": "stream",
     "text": [
      "DONE (t=0.74s).\n",
      "Average Precision  (AP) @[ IoU=0.50:0.95 | area=   all | maxDets=100 ] = 0.259\n",
      "Average Precision  (AP) @[ IoU=0.50      | area=   all | maxDets=1000 ] = 0.380\n",
      "Average Precision  (AP) @[ IoU=0.75      | area=   all | maxDets=1000 ] = 0.275\n",
      "Average Precision  (AP) @[ IoU=0.50:0.95 | area= small | maxDets=1000 ] = 0.031\n",
      "Average Precision  (AP) @[ IoU=0.50:0.95 | area=medium | maxDets=1000 ] = 0.220\n",
      "Average Precision  (AP) @[ IoU=0.50:0.95 | area= large | maxDets=1000 ] = 0.470\n",
      "Average Recall     (AR) @[ IoU=0.50:0.95 | area=   all | maxDets=100 ] = 0.376\n",
      "Average Recall     (AR) @[ IoU=0.50:0.95 | area=   all | maxDets=300 ] = 0.376\n",
      "Average Recall     (AR) @[ IoU=0.50:0.95 | area=   all | maxDets=1000 ] = 0.376\n",
      "Average Recall     (AR) @[ IoU=0.50:0.95 | area= small | maxDets=1000 ] = 0.104\n",
      "Average Recall     (AR) @[ IoU=0.50:0.95 | area=medium | maxDets=1000 ] = 0.335\n",
      "Average Recall     (AR) @[ IoU=0.50:0.95 | area= large | maxDets=1000 ] = 0.629\n"
     ]
    },
    {
     "name": "stderr",
     "output_type": "stream",
     "text": [
      "2021-05-19 13:55:39,737 - mmdet - INFO - Epoch [8][50/655]\tlr: 1.000e-04, eta: 0:41:26, time: 0.824, data_time: 0.065, memory: 20741, loss_rpn_cls: 0.0391, loss_rpn_bbox: 0.0245, s0.loss_cls: 0.1738, s0.acc: 94.3857, s0.loss_bbox: 0.2337, s0.loss_mask: 0.2040, s1.loss_cls: 0.0785, s1.acc: 95.0038, s1.loss_bbox: 0.0943, s1.loss_mask: 0.0903, s2.loss_cls: 0.0373, s2.acc: 95.2338, s2.loss_bbox: 0.0382, s2.loss_mask: 0.0416, loss: 1.0552, grad_norm: 6.3265\n",
      "2021-05-19 13:56:18,541 - mmdet - INFO - Epoch [8][100/655]\tlr: 1.000e-04, eta: 0:40:48, time: 0.776, data_time: 0.018, memory: 20741, loss_rpn_cls: 0.0395, loss_rpn_bbox: 0.0238, s0.loss_cls: 0.1849, s0.acc: 93.8750, s0.loss_bbox: 0.2511, s0.loss_mask: 0.2165, s1.loss_cls: 0.0816, s1.acc: 94.5718, s1.loss_bbox: 0.1027, s1.loss_mask: 0.0948, s2.loss_cls: 0.0389, s2.acc: 94.6906, s2.loss_bbox: 0.0411, s2.loss_mask: 0.0414, loss: 1.1166, grad_norm: 6.4747\n",
      "2021-05-19 13:56:57,508 - mmdet - INFO - Epoch [8][150/655]\tlr: 1.000e-04, eta: 0:40:10, time: 0.779, data_time: 0.020, memory: 20741, loss_rpn_cls: 0.0483, loss_rpn_bbox: 0.0292, s0.loss_cls: 0.2016, s0.acc: 93.3477, s0.loss_bbox: 0.2629, s0.loss_mask: 0.2274, s1.loss_cls: 0.0921, s1.acc: 94.0277, s1.loss_bbox: 0.1075, s1.loss_mask: 0.1001, s2.loss_cls: 0.0452, s2.acc: 94.1187, s2.loss_bbox: 0.0427, s2.loss_mask: 0.0455, loss: 1.2022, grad_norm: 6.5979\n",
      "2021-05-19 13:57:36,248 - mmdet - INFO - Epoch [8][200/655]\tlr: 1.000e-04, eta: 0:39:31, time: 0.775, data_time: 0.019, memory: 20741, loss_rpn_cls: 0.0384, loss_rpn_bbox: 0.0284, s0.loss_cls: 0.2007, s0.acc: 93.5117, s0.loss_bbox: 0.2434, s0.loss_mask: 0.2123, s1.loss_cls: 0.0955, s1.acc: 93.7290, s1.loss_bbox: 0.1003, s1.loss_mask: 0.0941, s2.loss_cls: 0.0462, s2.acc: 93.8379, s2.loss_bbox: 0.0402, s2.loss_mask: 0.0428, loss: 1.1423, grad_norm: 6.9464\n",
      "2021-05-19 13:58:14,757 - mmdet - INFO - Epoch [8][250/655]\tlr: 1.000e-04, eta: 0:38:53, time: 0.770, data_time: 0.019, memory: 20741, loss_rpn_cls: 0.0380, loss_rpn_bbox: 0.0259, s0.loss_cls: 0.1935, s0.acc: 93.6621, s0.loss_bbox: 0.2543, s0.loss_mask: 0.2183, s1.loss_cls: 0.0890, s1.acc: 94.2468, s1.loss_bbox: 0.1031, s1.loss_mask: 0.0964, s2.loss_cls: 0.0439, s2.acc: 94.1926, s2.loss_bbox: 0.0411, s2.loss_mask: 0.0437, loss: 1.1472, grad_norm: 6.8156\n",
      "2021-05-19 13:58:53,952 - mmdet - INFO - Epoch [8][300/655]\tlr: 1.000e-04, eta: 0:38:14, time: 0.784, data_time: 0.018, memory: 20741, loss_rpn_cls: 0.0457, loss_rpn_bbox: 0.0297, s0.loss_cls: 0.2132, s0.acc: 93.0693, s0.loss_bbox: 0.2798, s0.loss_mask: 0.2357, s1.loss_cls: 0.0963, s1.acc: 93.7034, s1.loss_bbox: 0.1147, s1.loss_mask: 0.1028, s2.loss_cls: 0.0464, s2.acc: 93.8469, s2.loss_bbox: 0.0438, s2.loss_mask: 0.0461, loss: 1.2543, grad_norm: 6.3933\n",
      "2021-05-19 13:59:33,126 - mmdet - INFO - Epoch [8][350/655]\tlr: 1.000e-04, eta: 0:37:36, time: 0.783, data_time: 0.022, memory: 20741, loss_rpn_cls: 0.0474, loss_rpn_bbox: 0.0322, s0.loss_cls: 0.1961, s0.acc: 93.3809, s0.loss_bbox: 0.2652, s0.loss_mask: 0.2292, s1.loss_cls: 0.0892, s1.acc: 93.8978, s1.loss_bbox: 0.1083, s1.loss_mask: 0.1002, s2.loss_cls: 0.0439, s2.acc: 94.0520, s2.loss_bbox: 0.0418, s2.loss_mask: 0.0445, loss: 1.1981, grad_norm: 6.9211\n",
      "2021-05-19 14:00:11,374 - mmdet - INFO - Epoch [8][400/655]\tlr: 1.000e-04, eta: 0:36:57, time: 0.765, data_time: 0.018, memory: 20741, loss_rpn_cls: 0.0439, loss_rpn_bbox: 0.0281, s0.loss_cls: 0.1894, s0.acc: 93.6699, s0.loss_bbox: 0.2400, s0.loss_mask: 0.2231, s1.loss_cls: 0.0899, s1.acc: 94.1928, s1.loss_bbox: 0.0997, s1.loss_mask: 0.0994, s2.loss_cls: 0.0439, s2.acc: 94.0080, s2.loss_bbox: 0.0388, s2.loss_mask: 0.0450, loss: 1.1412, grad_norm: 6.7684\n",
      "2021-05-19 14:00:50,559 - mmdet - INFO - Epoch [8][450/655]\tlr: 1.000e-04, eta: 0:36:19, time: 0.784, data_time: 0.019, memory: 20741, loss_rpn_cls: 0.0453, loss_rpn_bbox: 0.0300, s0.loss_cls: 0.1956, s0.acc: 93.4902, s0.loss_bbox: 0.2626, s0.loss_mask: 0.2276, s1.loss_cls: 0.0889, s1.acc: 94.0017, s1.loss_bbox: 0.1085, s1.loss_mask: 0.1008, s2.loss_cls: 0.0434, s2.acc: 94.1699, s2.loss_bbox: 0.0437, s2.loss_mask: 0.0463, loss: 1.1927, grad_norm: 6.4687\n",
      "2021-05-19 14:01:28,922 - mmdet - INFO - Epoch [8][500/655]\tlr: 1.000e-04, eta: 0:35:40, time: 0.767, data_time: 0.019, memory: 20741, loss_rpn_cls: 0.0364, loss_rpn_bbox: 0.0279, s0.loss_cls: 0.1881, s0.acc: 93.9141, s0.loss_bbox: 0.2389, s0.loss_mask: 0.2095, s1.loss_cls: 0.0873, s1.acc: 94.3752, s1.loss_bbox: 0.0964, s1.loss_mask: 0.0918, s2.loss_cls: 0.0426, s2.acc: 94.5234, s2.loss_bbox: 0.0383, s2.loss_mask: 0.0417, loss: 1.0990, grad_norm: 5.8526\n",
      "2021-05-19 14:02:08,314 - mmdet - INFO - Epoch [8][550/655]\tlr: 1.000e-04, eta: 0:35:02, time: 0.788, data_time: 0.021, memory: 20741, loss_rpn_cls: 0.0535, loss_rpn_bbox: 0.0320, s0.loss_cls: 0.2126, s0.acc: 93.0107, s0.loss_bbox: 0.2677, s0.loss_mask: 0.2262, s1.loss_cls: 0.0989, s1.acc: 93.6021, s1.loss_bbox: 0.1100, s1.loss_mask: 0.1001, s2.loss_cls: 0.0480, s2.acc: 93.7192, s2.loss_bbox: 0.0426, s2.loss_mask: 0.0455, loss: 1.2371, grad_norm: 6.1374\n",
      "2021-05-19 14:02:46,948 - mmdet - INFO - Epoch [8][600/655]\tlr: 1.000e-04, eta: 0:34:24, time: 0.773, data_time: 0.019, memory: 20741, loss_rpn_cls: 0.0473, loss_rpn_bbox: 0.0298, s0.loss_cls: 0.2033, s0.acc: 93.2832, s0.loss_bbox: 0.2659, s0.loss_mask: 0.2282, s1.loss_cls: 0.0920, s1.acc: 94.0454, s1.loss_bbox: 0.1060, s1.loss_mask: 0.1000, s2.loss_cls: 0.0455, s2.acc: 93.9654, s2.loss_bbox: 0.0413, s2.loss_mask: 0.0449, loss: 1.2042, grad_norm: 6.9723\n",
      "2021-05-19 14:03:25,614 - mmdet - INFO - Epoch [8][650/655]\tlr: 1.000e-04, eta: 0:33:45, time: 0.773, data_time: 0.018, memory: 20741, loss_rpn_cls: 0.0436, loss_rpn_bbox: 0.0281, s0.loss_cls: 0.1795, s0.acc: 94.0000, s0.loss_bbox: 0.2478, s0.loss_mask: 0.2139, s1.loss_cls: 0.0804, s1.acc: 94.6596, s1.loss_bbox: 0.1025, s1.loss_mask: 0.0959, s2.loss_cls: 0.0392, s2.acc: 94.7085, s2.loss_bbox: 0.0411, s2.loss_mask: 0.0431, loss: 1.1150, grad_norm: 6.4663\n",
      "2021-05-19 14:03:29,403 - mmdet - INFO - Saving checkpoint at 8 epochs\n"
     ]
    },
    {
     "name": "stdout",
     "output_type": "stream",
     "text": [
      "[>>>>>>>>>>>>>>>>>>>>>>>>>>>>>>] 655/655, 8.5 task/s, elapsed: 77s, ETA:     0s"
     ]
    },
    {
     "name": "stderr",
     "output_type": "stream",
     "text": [
      "2021-05-19 14:04:50,415 - mmdet - INFO - Evaluating bbox...\n"
     ]
    },
    {
     "name": "stdout",
     "output_type": "stream",
     "text": [
      "Loading and preparing results...\n",
      "DONE (t=0.81s)\n",
      "creating index...\n",
      "index created!\n",
      "Running per image evaluation...\n",
      "Evaluate annotation type *bbox*\n",
      "DONE (t=4.10s).\n",
      "Accumulating evaluation results...\n"
     ]
    },
    {
     "name": "stderr",
     "output_type": "stream",
     "text": [
      "2021-05-19 14:04:56,037 - mmdet - INFO - Evaluating segm...\n"
     ]
    },
    {
     "name": "stdout",
     "output_type": "stream",
     "text": [
      "DONE (t=0.69s).\n",
      "Average Precision  (AP) @[ IoU=0.50:0.95 | area=   all | maxDets=100 ] = 0.286\n",
      "Average Precision  (AP) @[ IoU=0.50      | area=   all | maxDets=1000 ] = 0.400\n",
      "Average Precision  (AP) @[ IoU=0.75      | area=   all | maxDets=1000 ] = 0.296\n",
      "Average Precision  (AP) @[ IoU=0.50:0.95 | area= small | maxDets=1000 ] = 0.053\n",
      "Average Precision  (AP) @[ IoU=0.50:0.95 | area=medium | maxDets=1000 ] = 0.269\n",
      "Average Precision  (AP) @[ IoU=0.50:0.95 | area= large | maxDets=1000 ] = 0.501\n",
      "Average Recall     (AR) @[ IoU=0.50:0.95 | area=   all | maxDets=100 ] = 0.441\n",
      "Average Recall     (AR) @[ IoU=0.50:0.95 | area=   all | maxDets=300 ] = 0.441\n",
      "Average Recall     (AR) @[ IoU=0.50:0.95 | area=   all | maxDets=1000 ] = 0.441\n",
      "Average Recall     (AR) @[ IoU=0.50:0.95 | area= small | maxDets=1000 ] = 0.158\n",
      "Average Recall     (AR) @[ IoU=0.50:0.95 | area=medium | maxDets=1000 ] = 0.414\n",
      "Average Recall     (AR) @[ IoU=0.50:0.95 | area= large | maxDets=1000 ] = 0.687\n",
      "Loading and preparing results...\n",
      "DONE (t=0.87s)\n",
      "creating index...\n",
      "index created!\n",
      "Running per image evaluation...\n",
      "Evaluate annotation type *segm*\n",
      "DONE (t=4.40s).\n",
      "Accumulating evaluation results...\n"
     ]
    },
    {
     "name": "stderr",
     "output_type": "stream",
     "text": [
      "2021-05-19 14:05:02,132 - mmdet - INFO - Epoch(val) [8][655]\tbbox_mAP: 0.2860, bbox_mAP_50: 0.4000, bbox_mAP_75: 0.2960, bbox_mAP_s: 0.0530, bbox_mAP_m: 0.2690, bbox_mAP_l: 0.5010, bbox_mAP_copypaste: 0.286 0.400 0.296 0.053 0.269 0.501, segm_mAP: 0.2670, segm_mAP_50: 0.3870, segm_mAP_75: 0.2810, segm_mAP_s: 0.0350, segm_mAP_m: 0.2420, segm_mAP_l: 0.4860, segm_mAP_copypaste: 0.267 0.387 0.281 0.035 0.242 0.486\n"
     ]
    },
    {
     "name": "stdout",
     "output_type": "stream",
     "text": [
      "DONE (t=0.69s).\n",
      "Average Precision  (AP) @[ IoU=0.50:0.95 | area=   all | maxDets=100 ] = 0.267\n",
      "Average Precision  (AP) @[ IoU=0.50      | area=   all | maxDets=1000 ] = 0.387\n",
      "Average Precision  (AP) @[ IoU=0.75      | area=   all | maxDets=1000 ] = 0.281\n",
      "Average Precision  (AP) @[ IoU=0.50:0.95 | area= small | maxDets=1000 ] = 0.035\n",
      "Average Precision  (AP) @[ IoU=0.50:0.95 | area=medium | maxDets=1000 ] = 0.242\n",
      "Average Precision  (AP) @[ IoU=0.50:0.95 | area= large | maxDets=1000 ] = 0.486\n",
      "Average Recall     (AR) @[ IoU=0.50:0.95 | area=   all | maxDets=100 ] = 0.410\n",
      "Average Recall     (AR) @[ IoU=0.50:0.95 | area=   all | maxDets=300 ] = 0.410\n",
      "Average Recall     (AR) @[ IoU=0.50:0.95 | area=   all | maxDets=1000 ] = 0.410\n",
      "Average Recall     (AR) @[ IoU=0.50:0.95 | area= small | maxDets=1000 ] = 0.120\n",
      "Average Recall     (AR) @[ IoU=0.50:0.95 | area=medium | maxDets=1000 ] = 0.368\n",
      "Average Recall     (AR) @[ IoU=0.50:0.95 | area= large | maxDets=1000 ] = 0.675\n"
     ]
    },
    {
     "name": "stderr",
     "output_type": "stream",
     "text": [
      "2021-05-19 14:05:43,768 - mmdet - INFO - Epoch [9][50/655]\tlr: 1.000e-05, eta: 0:33:02, time: 0.833, data_time: 0.067, memory: 20741, loss_rpn_cls: 0.0430, loss_rpn_bbox: 0.0265, s0.loss_cls: 0.1766, s0.acc: 94.2178, s0.loss_bbox: 0.2421, s0.loss_mask: 0.2019, s1.loss_cls: 0.0790, s1.acc: 94.8200, s1.loss_bbox: 0.1006, s1.loss_mask: 0.0904, s2.loss_cls: 0.0385, s2.acc: 95.0412, s2.loss_bbox: 0.0405, s2.loss_mask: 0.0407, loss: 1.0797, grad_norm: 5.7595\n",
      "2021-05-19 14:06:22,502 - mmdet - INFO - Epoch [9][100/655]\tlr: 1.000e-05, eta: 0:32:24, time: 0.775, data_time: 0.021, memory: 20741, loss_rpn_cls: 0.0378, loss_rpn_bbox: 0.0280, s0.loss_cls: 0.1673, s0.acc: 94.3760, s0.loss_bbox: 0.2393, s0.loss_mask: 0.2103, s1.loss_cls: 0.0742, s1.acc: 95.0531, s1.loss_bbox: 0.0981, s1.loss_mask: 0.0939, s2.loss_cls: 0.0355, s2.acc: 95.0234, s2.loss_bbox: 0.0383, s2.loss_mask: 0.0422, loss: 1.0649, grad_norm: 5.5291\n",
      "2021-05-19 14:07:00,755 - mmdet - INFO - Epoch [9][150/655]\tlr: 1.000e-05, eta: 0:31:45, time: 0.765, data_time: 0.018, memory: 20741, loss_rpn_cls: 0.0359, loss_rpn_bbox: 0.0255, s0.loss_cls: 0.1571, s0.acc: 94.7227, s0.loss_bbox: 0.2309, s0.loss_mask: 0.2005, s1.loss_cls: 0.0686, s1.acc: 95.4997, s1.loss_bbox: 0.0928, s1.loss_mask: 0.0885, s2.loss_cls: 0.0331, s2.acc: 95.6034, s2.loss_bbox: 0.0376, s2.loss_mask: 0.0404, loss: 1.0110, grad_norm: 5.3820\n",
      "2021-05-19 14:07:39,799 - mmdet - INFO - Epoch [9][200/655]\tlr: 1.000e-05, eta: 0:31:07, time: 0.781, data_time: 0.020, memory: 20741, loss_rpn_cls: 0.0435, loss_rpn_bbox: 0.0320, s0.loss_cls: 0.1812, s0.acc: 94.0332, s0.loss_bbox: 0.2503, s0.loss_mask: 0.2140, s1.loss_cls: 0.0799, s1.acc: 94.7586, s1.loss_bbox: 0.1019, s1.loss_mask: 0.0956, s2.loss_cls: 0.0386, s2.acc: 94.7871, s2.loss_bbox: 0.0411, s2.loss_mask: 0.0433, loss: 1.1214, grad_norm: 5.3722\n",
      "2021-05-19 14:08:18,258 - mmdet - INFO - Epoch [9][250/655]\tlr: 1.000e-05, eta: 0:30:28, time: 0.769, data_time: 0.018, memory: 20741, loss_rpn_cls: 0.0329, loss_rpn_bbox: 0.0254, s0.loss_cls: 0.1492, s0.acc: 95.0088, s0.loss_bbox: 0.2232, s0.loss_mask: 0.1946, s1.loss_cls: 0.0656, s1.acc: 95.6710, s1.loss_bbox: 0.0927, s1.loss_mask: 0.0847, s2.loss_cls: 0.0328, s2.acc: 95.6005, s2.loss_bbox: 0.0386, s2.loss_mask: 0.0391, loss: 0.9788, grad_norm: 5.2407\n",
      "2021-05-19 14:08:57,489 - mmdet - INFO - Epoch [9][300/655]\tlr: 1.000e-05, eta: 0:29:50, time: 0.785, data_time: 0.019, memory: 20741, loss_rpn_cls: 0.0413, loss_rpn_bbox: 0.0274, s0.loss_cls: 0.1783, s0.acc: 93.9893, s0.loss_bbox: 0.2582, s0.loss_mask: 0.2176, s1.loss_cls: 0.0791, s1.acc: 94.6604, s1.loss_bbox: 0.1063, s1.loss_mask: 0.0980, s2.loss_cls: 0.0376, s2.acc: 94.7942, s2.loss_bbox: 0.0424, s2.loss_mask: 0.0437, loss: 1.1300, grad_norm: 5.4254\n",
      "2021-05-19 14:09:36,117 - mmdet - INFO - Epoch [9][350/655]\tlr: 1.000e-05, eta: 0:29:11, time: 0.773, data_time: 0.018, memory: 20741, loss_rpn_cls: 0.0308, loss_rpn_bbox: 0.0256, s0.loss_cls: 0.1498, s0.acc: 94.9082, s0.loss_bbox: 0.2220, s0.loss_mask: 0.1869, s1.loss_cls: 0.0656, s1.acc: 95.6111, s1.loss_bbox: 0.0910, s1.loss_mask: 0.0850, s2.loss_cls: 0.0321, s2.acc: 95.6692, s2.loss_bbox: 0.0375, s2.loss_mask: 0.0393, loss: 0.9655, grad_norm: 5.1541\n",
      "2021-05-19 14:10:14,149 - mmdet - INFO - Epoch [9][400/655]\tlr: 1.000e-05, eta: 0:28:32, time: 0.761, data_time: 0.016, memory: 20741, loss_rpn_cls: 0.0294, loss_rpn_bbox: 0.0214, s0.loss_cls: 0.1474, s0.acc: 94.9961, s0.loss_bbox: 0.2115, s0.loss_mask: 0.1871, s1.loss_cls: 0.0644, s1.acc: 95.6222, s1.loss_bbox: 0.0883, s1.loss_mask: 0.0844, s2.loss_cls: 0.0317, s2.acc: 95.7093, s2.loss_bbox: 0.0364, s2.loss_mask: 0.0390, loss: 0.9409, grad_norm: 5.2711\n",
      "2021-05-19 14:10:53,038 - mmdet - INFO - Epoch [9][450/655]\tlr: 1.000e-05, eta: 0:27:54, time: 0.778, data_time: 0.020, memory: 20741, loss_rpn_cls: 0.0403, loss_rpn_bbox: 0.0261, s0.loss_cls: 0.1585, s0.acc: 94.4766, s0.loss_bbox: 0.2449, s0.loss_mask: 0.2115, s1.loss_cls: 0.0710, s1.acc: 94.9970, s1.loss_bbox: 0.0996, s1.loss_mask: 0.0928, s2.loss_cls: 0.0349, s2.acc: 95.0884, s2.loss_bbox: 0.0397, s2.loss_mask: 0.0418, loss: 1.0612, grad_norm: 5.6084\n",
      "2021-05-19 14:11:31,603 - mmdet - INFO - Epoch [9][500/655]\tlr: 1.000e-05, eta: 0:27:15, time: 0.771, data_time: 0.017, memory: 20741, loss_rpn_cls: 0.0311, loss_rpn_bbox: 0.0230, s0.loss_cls: 0.1445, s0.acc: 95.2852, s0.loss_bbox: 0.2239, s0.loss_mask: 0.1952, s1.loss_cls: 0.0631, s1.acc: 95.9133, s1.loss_bbox: 0.0913, s1.loss_mask: 0.0854, s2.loss_cls: 0.0307, s2.acc: 95.9567, s2.loss_bbox: 0.0366, s2.loss_mask: 0.0384, loss: 0.9632, grad_norm: 5.1067\n",
      "2021-05-19 14:12:10,891 - mmdet - INFO - Epoch [9][550/655]\tlr: 1.000e-05, eta: 0:26:37, time: 0.786, data_time: 0.019, memory: 20741, loss_rpn_cls: 0.0413, loss_rpn_bbox: 0.0283, s0.loss_cls: 0.1738, s0.acc: 94.1045, s0.loss_bbox: 0.2525, s0.loss_mask: 0.2110, s1.loss_cls: 0.0775, s1.acc: 94.7513, s1.loss_bbox: 0.1024, s1.loss_mask: 0.0944, s2.loss_cls: 0.0374, s2.acc: 94.9223, s2.loss_bbox: 0.0401, s2.loss_mask: 0.0431, loss: 1.1017, grad_norm: 5.6499\n",
      "2021-05-19 14:12:50,587 - mmdet - INFO - Epoch [9][600/655]\tlr: 1.000e-05, eta: 0:25:59, time: 0.794, data_time: 0.019, memory: 20741, loss_rpn_cls: 0.0332, loss_rpn_bbox: 0.0268, s0.loss_cls: 0.1588, s0.acc: 94.5918, s0.loss_bbox: 0.2540, s0.loss_mask: 0.1985, s1.loss_cls: 0.0706, s1.acc: 95.1774, s1.loss_bbox: 0.1053, s1.loss_mask: 0.0891, s2.loss_cls: 0.0341, s2.acc: 95.3428, s2.loss_bbox: 0.0415, s2.loss_mask: 0.0402, loss: 1.0520, grad_norm: 5.3822\n",
      "2021-05-19 14:13:29,222 - mmdet - INFO - Epoch [9][650/655]\tlr: 1.000e-05, eta: 0:25:20, time: 0.773, data_time: 0.019, memory: 20741, loss_rpn_cls: 0.0359, loss_rpn_bbox: 0.0281, s0.loss_cls: 0.1480, s0.acc: 94.8135, s0.loss_bbox: 0.2287, s0.loss_mask: 0.2029, s1.loss_cls: 0.0652, s1.acc: 95.3806, s1.loss_bbox: 0.0937, s1.loss_mask: 0.0888, s2.loss_cls: 0.0318, s2.acc: 95.5886, s2.loss_bbox: 0.0381, s2.loss_mask: 0.0402, loss: 1.0014, grad_norm: 5.4474\n",
      "2021-05-19 14:13:32,954 - mmdet - INFO - Saving checkpoint at 9 epochs\n"
     ]
    },
    {
     "name": "stdout",
     "output_type": "stream",
     "text": [
      "[>>>>>>>>>>>>>>>>>>>>>>>>>>>>>>] 655/655, 8.9 task/s, elapsed: 74s, ETA:     0s"
     ]
    },
    {
     "name": "stderr",
     "output_type": "stream",
     "text": [
      "2021-05-19 14:14:50,773 - mmdet - INFO - Evaluating bbox...\n"
     ]
    },
    {
     "name": "stdout",
     "output_type": "stream",
     "text": [
      "Loading and preparing results...\n",
      "DONE (t=0.08s)\n",
      "creating index...\n",
      "index created!\n",
      "Running per image evaluation...\n",
      "Evaluate annotation type *bbox*\n",
      "DONE (t=4.67s).\n",
      "Accumulating evaluation results...\n"
     ]
    },
    {
     "name": "stderr",
     "output_type": "stream",
     "text": [
      "2021-05-19 14:14:56,136 - mmdet - INFO - Evaluating segm...\n"
     ]
    },
    {
     "name": "stdout",
     "output_type": "stream",
     "text": [
      "DONE (t=0.60s).\n",
      "Average Precision  (AP) @[ IoU=0.50:0.95 | area=   all | maxDets=100 ] = 0.312\n",
      "Average Precision  (AP) @[ IoU=0.50      | area=   all | maxDets=1000 ] = 0.433\n",
      "Average Precision  (AP) @[ IoU=0.75      | area=   all | maxDets=1000 ] = 0.327\n",
      "Average Precision  (AP) @[ IoU=0.50:0.95 | area= small | maxDets=1000 ] = 0.059\n",
      "Average Precision  (AP) @[ IoU=0.50:0.95 | area=medium | maxDets=1000 ] = 0.290\n",
      "Average Precision  (AP) @[ IoU=0.50:0.95 | area= large | maxDets=1000 ] = 0.511\n",
      "Average Recall     (AR) @[ IoU=0.50:0.95 | area=   all | maxDets=100 ] = 0.440\n",
      "Average Recall     (AR) @[ IoU=0.50:0.95 | area=   all | maxDets=300 ] = 0.440\n",
      "Average Recall     (AR) @[ IoU=0.50:0.95 | area=   all | maxDets=1000 ] = 0.440\n",
      "Average Recall     (AR) @[ IoU=0.50:0.95 | area= small | maxDets=1000 ] = 0.147\n",
      "Average Recall     (AR) @[ IoU=0.50:0.95 | area=medium | maxDets=1000 ] = 0.429\n",
      "Average Recall     (AR) @[ IoU=0.50:0.95 | area= large | maxDets=1000 ] = 0.684\n",
      "Loading and preparing results...\n",
      "DONE (t=0.12s)\n",
      "creating index...\n",
      "index created!\n",
      "Running per image evaluation...\n",
      "Evaluate annotation type *segm*\n",
      "DONE (t=4.87s).\n",
      "Accumulating evaluation results...\n"
     ]
    },
    {
     "name": "stderr",
     "output_type": "stream",
     "text": [
      "2021-05-19 14:15:01,826 - mmdet - INFO - Epoch(val) [9][655]\tbbox_mAP: 0.3120, bbox_mAP_50: 0.4330, bbox_mAP_75: 0.3270, bbox_mAP_s: 0.0590, bbox_mAP_m: 0.2900, bbox_mAP_l: 0.5110, bbox_mAP_copypaste: 0.312 0.433 0.327 0.059 0.290 0.511, segm_mAP: 0.2920, segm_mAP_50: 0.4230, segm_mAP_75: 0.3000, segm_mAP_s: 0.0380, segm_mAP_m: 0.2570, segm_mAP_l: 0.4930, segm_mAP_copypaste: 0.292 0.423 0.300 0.038 0.257 0.493\n"
     ]
    },
    {
     "name": "stdout",
     "output_type": "stream",
     "text": [
      "DONE (t=0.60s).\n",
      "Average Precision  (AP) @[ IoU=0.50:0.95 | area=   all | maxDets=100 ] = 0.292\n",
      "Average Precision  (AP) @[ IoU=0.50      | area=   all | maxDets=1000 ] = 0.423\n",
      "Average Precision  (AP) @[ IoU=0.75      | area=   all | maxDets=1000 ] = 0.300\n",
      "Average Precision  (AP) @[ IoU=0.50:0.95 | area= small | maxDets=1000 ] = 0.038\n",
      "Average Precision  (AP) @[ IoU=0.50:0.95 | area=medium | maxDets=1000 ] = 0.257\n",
      "Average Precision  (AP) @[ IoU=0.50:0.95 | area= large | maxDets=1000 ] = 0.493\n",
      "Average Recall     (AR) @[ IoU=0.50:0.95 | area=   all | maxDets=100 ] = 0.408\n",
      "Average Recall     (AR) @[ IoU=0.50:0.95 | area=   all | maxDets=300 ] = 0.408\n",
      "Average Recall     (AR) @[ IoU=0.50:0.95 | area=   all | maxDets=1000 ] = 0.408\n",
      "Average Recall     (AR) @[ IoU=0.50:0.95 | area= small | maxDets=1000 ] = 0.111\n",
      "Average Recall     (AR) @[ IoU=0.50:0.95 | area=medium | maxDets=1000 ] = 0.377\n",
      "Average Recall     (AR) @[ IoU=0.50:0.95 | area= large | maxDets=1000 ] = 0.662\n"
     ]
    },
    {
     "name": "stderr",
     "output_type": "stream",
     "text": [
      "2021-05-19 14:15:42,926 - mmdet - INFO - Epoch [10][50/655]\tlr: 1.000e-05, eta: 0:24:37, time: 0.822, data_time: 0.065, memory: 20741, loss_rpn_cls: 0.0331, loss_rpn_bbox: 0.0232, s0.loss_cls: 0.1398, s0.acc: 95.1260, s0.loss_bbox: 0.2223, s0.loss_mask: 0.2016, s1.loss_cls: 0.0605, s1.acc: 95.8931, s1.loss_bbox: 0.0911, s1.loss_mask: 0.0890, s2.loss_cls: 0.0290, s2.acc: 96.1263, s2.loss_bbox: 0.0366, s2.loss_mask: 0.0398, loss: 0.9662, grad_norm: 5.2832\n",
      "2021-05-19 14:16:21,798 - mmdet - INFO - Epoch [10][100/655]\tlr: 1.000e-05, eta: 0:23:59, time: 0.777, data_time: 0.020, memory: 20741, loss_rpn_cls: 0.0349, loss_rpn_bbox: 0.0251, s0.loss_cls: 0.1435, s0.acc: 95.1104, s0.loss_bbox: 0.2219, s0.loss_mask: 0.2013, s1.loss_cls: 0.0614, s1.acc: 95.9289, s1.loss_bbox: 0.0903, s1.loss_mask: 0.0902, s2.loss_cls: 0.0298, s2.acc: 96.0028, s2.loss_bbox: 0.0368, s2.loss_mask: 0.0413, loss: 0.9764, grad_norm: 5.2236\n",
      "2021-05-19 14:17:00,656 - mmdet - INFO - Epoch [10][150/655]\tlr: 1.000e-05, eta: 0:23:20, time: 0.777, data_time: 0.020, memory: 20741, loss_rpn_cls: 0.0398, loss_rpn_bbox: 0.0286, s0.loss_cls: 0.1641, s0.acc: 94.3848, s0.loss_bbox: 0.2478, s0.loss_mask: 0.2086, s1.loss_cls: 0.0739, s1.acc: 94.9144, s1.loss_bbox: 0.1002, s1.loss_mask: 0.0917, s2.loss_cls: 0.0362, s2.acc: 95.0175, s2.loss_bbox: 0.0384, s2.loss_mask: 0.0407, loss: 1.0700, grad_norm: 5.3957\n",
      "2021-05-19 14:17:39,795 - mmdet - INFO - Epoch [10][200/655]\tlr: 1.000e-05, eta: 0:22:42, time: 0.783, data_time: 0.020, memory: 20741, loss_rpn_cls: 0.0327, loss_rpn_bbox: 0.0259, s0.loss_cls: 0.1604, s0.acc: 94.5918, s0.loss_bbox: 0.2392, s0.loss_mask: 0.1970, s1.loss_cls: 0.0688, s1.acc: 95.3500, s1.loss_bbox: 0.0981, s1.loss_mask: 0.0878, s2.loss_cls: 0.0328, s2.acc: 95.5672, s2.loss_bbox: 0.0393, s2.loss_mask: 0.0396, loss: 1.0215, grad_norm: 5.4216\n",
      "2021-05-19 14:18:18,329 - mmdet - INFO - Epoch [10][250/655]\tlr: 1.000e-05, eta: 0:22:03, time: 0.771, data_time: 0.020, memory: 20741, loss_rpn_cls: 0.0339, loss_rpn_bbox: 0.0275, s0.loss_cls: 0.1452, s0.acc: 94.9609, s0.loss_bbox: 0.2364, s0.loss_mask: 0.1990, s1.loss_cls: 0.0638, s1.acc: 95.6294, s1.loss_bbox: 0.0972, s1.loss_mask: 0.0885, s2.loss_cls: 0.0308, s2.acc: 95.6562, s2.loss_bbox: 0.0394, s2.loss_mask: 0.0412, loss: 1.0031, grad_norm: 5.0476\n",
      "2021-05-19 14:18:56,322 - mmdet - INFO - Epoch [10][300/655]\tlr: 1.000e-05, eta: 0:21:25, time: 0.760, data_time: 0.017, memory: 20741, loss_rpn_cls: 0.0259, loss_rpn_bbox: 0.0196, s0.loss_cls: 0.1260, s0.acc: 95.6113, s0.loss_bbox: 0.2048, s0.loss_mask: 0.1852, s1.loss_cls: 0.0539, s1.acc: 96.3178, s1.loss_bbox: 0.0840, s1.loss_mask: 0.0823, s2.loss_cls: 0.0264, s2.acc: 96.4103, s2.loss_bbox: 0.0344, s2.loss_mask: 0.0381, loss: 0.8806, grad_norm: 5.2533\n",
      "2021-05-19 14:19:35,784 - mmdet - INFO - Epoch [10][350/655]\tlr: 1.000e-05, eta: 0:20:46, time: 0.789, data_time: 0.021, memory: 20741, loss_rpn_cls: 0.0356, loss_rpn_bbox: 0.0279, s0.loss_cls: 0.1658, s0.acc: 94.5000, s0.loss_bbox: 0.2434, s0.loss_mask: 0.2110, s1.loss_cls: 0.0715, s1.acc: 95.3181, s1.loss_bbox: 0.1008, s1.loss_mask: 0.0927, s2.loss_cls: 0.0354, s2.acc: 95.4192, s2.loss_bbox: 0.0412, s2.loss_mask: 0.0420, loss: 1.0674, grad_norm: 5.4691\n",
      "2021-05-19 14:20:14,513 - mmdet - INFO - Epoch [10][400/655]\tlr: 1.000e-05, eta: 0:20:08, time: 0.775, data_time: 0.018, memory: 20741, loss_rpn_cls: 0.0271, loss_rpn_bbox: 0.0213, s0.loss_cls: 0.1371, s0.acc: 95.3906, s0.loss_bbox: 0.2145, s0.loss_mask: 0.1908, s1.loss_cls: 0.0584, s1.acc: 96.0651, s1.loss_bbox: 0.0884, s1.loss_mask: 0.0838, s2.loss_cls: 0.0291, s2.acc: 95.9538, s2.loss_bbox: 0.0366, s2.loss_mask: 0.0381, loss: 0.9252, grad_norm: 5.1948\n",
      "2021-05-19 14:20:53,154 - mmdet - INFO - Epoch [10][450/655]\tlr: 1.000e-05, eta: 0:19:29, time: 0.773, data_time: 0.018, memory: 20741, loss_rpn_cls: 0.0363, loss_rpn_bbox: 0.0244, s0.loss_cls: 0.1411, s0.acc: 95.1553, s0.loss_bbox: 0.2194, s0.loss_mask: 0.1903, s1.loss_cls: 0.0604, s1.acc: 95.8481, s1.loss_bbox: 0.0894, s1.loss_mask: 0.0822, s2.loss_cls: 0.0295, s2.acc: 95.9076, s2.loss_bbox: 0.0364, s2.loss_mask: 0.0371, loss: 0.9465, grad_norm: 5.3035\n",
      "2021-05-19 14:21:31,932 - mmdet - INFO - Epoch [10][500/655]\tlr: 1.000e-05, eta: 0:18:51, time: 0.776, data_time: 0.020, memory: 20741, loss_rpn_cls: 0.0377, loss_rpn_bbox: 0.0263, s0.loss_cls: 0.1641, s0.acc: 94.3564, s0.loss_bbox: 0.2363, s0.loss_mask: 0.1964, s1.loss_cls: 0.0730, s1.acc: 94.9508, s1.loss_bbox: 0.0991, s1.loss_mask: 0.0883, s2.loss_cls: 0.0344, s2.acc: 95.2029, s2.loss_bbox: 0.0388, s2.loss_mask: 0.0404, loss: 1.0349, grad_norm: 5.4648\n",
      "2021-05-19 14:22:10,096 - mmdet - INFO - Epoch [10][550/655]\tlr: 1.000e-05, eta: 0:18:12, time: 0.763, data_time: 0.018, memory: 20741, loss_rpn_cls: 0.0318, loss_rpn_bbox: 0.0231, s0.loss_cls: 0.1353, s0.acc: 95.3018, s0.loss_bbox: 0.2157, s0.loss_mask: 0.1922, s1.loss_cls: 0.0576, s1.acc: 96.0072, s1.loss_bbox: 0.0891, s1.loss_mask: 0.0848, s2.loss_cls: 0.0278, s2.acc: 96.1303, s2.loss_bbox: 0.0360, s2.loss_mask: 0.0384, loss: 0.9317, grad_norm: 5.2059\n",
      "2021-05-19 14:22:49,148 - mmdet - INFO - Epoch [10][600/655]\tlr: 1.000e-05, eta: 0:17:33, time: 0.781, data_time: 0.019, memory: 20741, loss_rpn_cls: 0.0402, loss_rpn_bbox: 0.0290, s0.loss_cls: 0.1678, s0.acc: 94.3662, s0.loss_bbox: 0.2532, s0.loss_mask: 0.2177, s1.loss_cls: 0.0720, s1.acc: 95.1994, s1.loss_bbox: 0.1021, s1.loss_mask: 0.0948, s2.loss_cls: 0.0352, s2.acc: 95.2451, s2.loss_bbox: 0.0408, s2.loss_mask: 0.0427, loss: 1.0955, grad_norm: 5.4168\n",
      "2021-05-19 14:23:27,583 - mmdet - INFO - Epoch [10][650/655]\tlr: 1.000e-05, eta: 0:16:55, time: 0.769, data_time: 0.019, memory: 20741, loss_rpn_cls: 0.0328, loss_rpn_bbox: 0.0245, s0.loss_cls: 0.1530, s0.acc: 94.7383, s0.loss_bbox: 0.2308, s0.loss_mask: 0.2033, s1.loss_cls: 0.0655, s1.acc: 95.5455, s1.loss_bbox: 0.0947, s1.loss_mask: 0.0904, s2.loss_cls: 0.0318, s2.acc: 95.6366, s2.loss_bbox: 0.0379, s2.loss_mask: 0.0406, loss: 1.0054, grad_norm: 5.3641\n",
      "2021-05-19 14:23:31,532 - mmdet - INFO - Saving checkpoint at 10 epochs\n"
     ]
    },
    {
     "name": "stdout",
     "output_type": "stream",
     "text": [
      "[>>>>>>>>>>>>>>>>>>>>>>>>>>>>>>] 655/655, 8.9 task/s, elapsed: 74s, ETA:     0s"
     ]
    },
    {
     "name": "stderr",
     "output_type": "stream",
     "text": [
      "2021-05-19 14:24:54,300 - mmdet - INFO - Evaluating bbox...\n"
     ]
    },
    {
     "name": "stdout",
     "output_type": "stream",
     "text": [
      "Loading and preparing results...\n",
      "DONE (t=0.78s)\n",
      "creating index...\n",
      "index created!\n",
      "Running per image evaluation...\n",
      "Evaluate annotation type *bbox*\n",
      "DONE (t=4.11s).\n",
      "Accumulating evaluation results...\n"
     ]
    },
    {
     "name": "stderr",
     "output_type": "stream",
     "text": [
      "2021-05-19 14:24:59,800 - mmdet - INFO - Evaluating segm...\n"
     ]
    },
    {
     "name": "stdout",
     "output_type": "stream",
     "text": [
      "DONE (t=0.60s).\n",
      "Average Precision  (AP) @[ IoU=0.50:0.95 | area=   all | maxDets=100 ] = 0.319\n",
      "Average Precision  (AP) @[ IoU=0.50      | area=   all | maxDets=1000 ] = 0.438\n",
      "Average Precision  (AP) @[ IoU=0.75      | area=   all | maxDets=1000 ] = 0.339\n",
      "Average Precision  (AP) @[ IoU=0.50:0.95 | area= small | maxDets=1000 ] = 0.059\n",
      "Average Precision  (AP) @[ IoU=0.50:0.95 | area=medium | maxDets=1000 ] = 0.294\n",
      "Average Precision  (AP) @[ IoU=0.50:0.95 | area= large | maxDets=1000 ] = 0.548\n",
      "Average Recall     (AR) @[ IoU=0.50:0.95 | area=   all | maxDets=100 ] = 0.443\n",
      "Average Recall     (AR) @[ IoU=0.50:0.95 | area=   all | maxDets=300 ] = 0.443\n",
      "Average Recall     (AR) @[ IoU=0.50:0.95 | area=   all | maxDets=1000 ] = 0.443\n",
      "Average Recall     (AR) @[ IoU=0.50:0.95 | area= small | maxDets=1000 ] = 0.153\n",
      "Average Recall     (AR) @[ IoU=0.50:0.95 | area=medium | maxDets=1000 ] = 0.427\n",
      "Average Recall     (AR) @[ IoU=0.50:0.95 | area= large | maxDets=1000 ] = 0.685\n",
      "Loading and preparing results...\n",
      "DONE (t=0.90s)\n",
      "creating index...\n",
      "index created!\n",
      "Running per image evaluation...\n",
      "Evaluate annotation type *segm*\n",
      "DONE (t=4.35s).\n",
      "Accumulating evaluation results...\n"
     ]
    },
    {
     "name": "stderr",
     "output_type": "stream",
     "text": [
      "2021-05-19 14:25:05,742 - mmdet - INFO - Epoch(val) [10][655]\tbbox_mAP: 0.3190, bbox_mAP_50: 0.4380, bbox_mAP_75: 0.3390, bbox_mAP_s: 0.0590, bbox_mAP_m: 0.2940, bbox_mAP_l: 0.5480, bbox_mAP_copypaste: 0.319 0.438 0.339 0.059 0.294 0.548, segm_mAP: 0.2980, segm_mAP_50: 0.4320, segm_mAP_75: 0.3070, segm_mAP_s: 0.0400, segm_mAP_m: 0.2640, segm_mAP_l: 0.5200, segm_mAP_copypaste: 0.298 0.432 0.307 0.040 0.264 0.520\n"
     ]
    },
    {
     "name": "stdout",
     "output_type": "stream",
     "text": [
      "DONE (t=0.59s).\n",
      "Average Precision  (AP) @[ IoU=0.50:0.95 | area=   all | maxDets=100 ] = 0.298\n",
      "Average Precision  (AP) @[ IoU=0.50      | area=   all | maxDets=1000 ] = 0.432\n",
      "Average Precision  (AP) @[ IoU=0.75      | area=   all | maxDets=1000 ] = 0.307\n",
      "Average Precision  (AP) @[ IoU=0.50:0.95 | area= small | maxDets=1000 ] = 0.040\n",
      "Average Precision  (AP) @[ IoU=0.50:0.95 | area=medium | maxDets=1000 ] = 0.264\n",
      "Average Precision  (AP) @[ IoU=0.50:0.95 | area= large | maxDets=1000 ] = 0.520\n",
      "Average Recall     (AR) @[ IoU=0.50:0.95 | area=   all | maxDets=100 ] = 0.412\n",
      "Average Recall     (AR) @[ IoU=0.50:0.95 | area=   all | maxDets=300 ] = 0.412\n",
      "Average Recall     (AR) @[ IoU=0.50:0.95 | area=   all | maxDets=1000 ] = 0.412\n",
      "Average Recall     (AR) @[ IoU=0.50:0.95 | area= small | maxDets=1000 ] = 0.114\n",
      "Average Recall     (AR) @[ IoU=0.50:0.95 | area=medium | maxDets=1000 ] = 0.381\n",
      "Average Recall     (AR) @[ IoU=0.50:0.95 | area= large | maxDets=1000 ] = 0.668\n"
     ]
    },
    {
     "name": "stderr",
     "output_type": "stream",
     "text": [
      "2021-05-19 14:25:47,320 - mmdet - INFO - Epoch [11][50/655]\tlr: 1.000e-05, eta: 0:16:12, time: 0.831, data_time: 0.068, memory: 20741, loss_rpn_cls: 0.0320, loss_rpn_bbox: 0.0247, s0.loss_cls: 0.1483, s0.acc: 94.9121, s0.loss_bbox: 0.2364, s0.loss_mask: 0.2039, s1.loss_cls: 0.0632, s1.acc: 95.6688, s1.loss_bbox: 0.0948, s1.loss_mask: 0.0870, s2.loss_cls: 0.0303, s2.acc: 95.7889, s2.loss_bbox: 0.0374, s2.loss_mask: 0.0393, loss: 0.9975, grad_norm: 5.0478\n",
      "2021-05-19 14:26:25,980 - mmdet - INFO - Epoch [11][100/655]\tlr: 1.000e-05, eta: 0:15:33, time: 0.773, data_time: 0.020, memory: 20741, loss_rpn_cls: 0.0352, loss_rpn_bbox: 0.0259, s0.loss_cls: 0.1474, s0.acc: 95.0186, s0.loss_bbox: 0.2270, s0.loss_mask: 0.1923, s1.loss_cls: 0.0628, s1.acc: 95.8122, s1.loss_bbox: 0.0937, s1.loss_mask: 0.0851, s2.loss_cls: 0.0300, s2.acc: 96.0061, s2.loss_bbox: 0.0375, s2.loss_mask: 0.0385, loss: 0.9753, grad_norm: 5.2921\n",
      "2021-05-19 14:27:04,624 - mmdet - INFO - Epoch [11][150/655]\tlr: 1.000e-05, eta: 0:14:55, time: 0.773, data_time: 0.019, memory: 20741, loss_rpn_cls: 0.0319, loss_rpn_bbox: 0.0258, s0.loss_cls: 0.1260, s0.acc: 95.5889, s0.loss_bbox: 0.2117, s0.loss_mask: 0.1860, s1.loss_cls: 0.0540, s1.acc: 96.2958, s1.loss_bbox: 0.0894, s1.loss_mask: 0.0830, s2.loss_cls: 0.0265, s2.acc: 96.2542, s2.loss_bbox: 0.0368, s2.loss_mask: 0.0381, loss: 0.9093, grad_norm: 5.3362\n",
      "2021-05-19 14:27:43,642 - mmdet - INFO - Epoch [11][200/655]\tlr: 1.000e-05, eta: 0:14:16, time: 0.780, data_time: 0.019, memory: 20741, loss_rpn_cls: 0.0332, loss_rpn_bbox: 0.0249, s0.loss_cls: 0.1489, s0.acc: 94.8047, s0.loss_bbox: 0.2404, s0.loss_mask: 0.2045, s1.loss_cls: 0.0657, s1.acc: 95.5166, s1.loss_bbox: 0.1001, s1.loss_mask: 0.0907, s2.loss_cls: 0.0321, s2.acc: 95.5499, s2.loss_bbox: 0.0403, s2.loss_mask: 0.0413, loss: 1.0221, grad_norm: 5.4723\n",
      "2021-05-19 14:28:22,694 - mmdet - INFO - Epoch [11][250/655]\tlr: 1.000e-05, eta: 0:13:38, time: 0.781, data_time: 0.019, memory: 20741, loss_rpn_cls: 0.0326, loss_rpn_bbox: 0.0256, s0.loss_cls: 0.1447, s0.acc: 95.0859, s0.loss_bbox: 0.2286, s0.loss_mask: 0.1952, s1.loss_cls: 0.0630, s1.acc: 95.7616, s1.loss_bbox: 0.0947, s1.loss_mask: 0.0869, s2.loss_cls: 0.0307, s2.acc: 95.9058, s2.loss_bbox: 0.0391, s2.loss_mask: 0.0398, loss: 0.9808, grad_norm: 5.3876\n",
      "2021-05-19 14:29:01,071 - mmdet - INFO - Epoch [11][300/655]\tlr: 1.000e-05, eta: 0:12:59, time: 0.768, data_time: 0.017, memory: 20741, loss_rpn_cls: 0.0283, loss_rpn_bbox: 0.0214, s0.loss_cls: 0.1341, s0.acc: 95.4746, s0.loss_bbox: 0.2123, s0.loss_mask: 0.1865, s1.loss_cls: 0.0569, s1.acc: 96.1430, s1.loss_bbox: 0.0877, s1.loss_mask: 0.0812, s2.loss_cls: 0.0275, s2.acc: 96.3608, s2.loss_bbox: 0.0358, s2.loss_mask: 0.0371, loss: 0.9088, grad_norm: 5.1497\n",
      "2021-05-19 14:29:39,574 - mmdet - INFO - Epoch [11][350/655]\tlr: 1.000e-05, eta: 0:12:21, time: 0.770, data_time: 0.018, memory: 20741, loss_rpn_cls: 0.0296, loss_rpn_bbox: 0.0246, s0.loss_cls: 0.1405, s0.acc: 95.1328, s0.loss_bbox: 0.2209, s0.loss_mask: 0.1957, s1.loss_cls: 0.0608, s1.acc: 95.7110, s1.loss_bbox: 0.0896, s1.loss_mask: 0.0861, s2.loss_cls: 0.0288, s2.acc: 95.8471, s2.loss_bbox: 0.0357, s2.loss_mask: 0.0388, loss: 0.9511, grad_norm: 5.6060\n",
      "2021-05-19 14:30:18,345 - mmdet - INFO - Epoch [11][400/655]\tlr: 1.000e-05, eta: 0:11:42, time: 0.775, data_time: 0.018, memory: 20741, loss_rpn_cls: 0.0345, loss_rpn_bbox: 0.0273, s0.loss_cls: 0.1454, s0.acc: 94.8945, s0.loss_bbox: 0.2346, s0.loss_mask: 0.1974, s1.loss_cls: 0.0614, s1.acc: 95.7800, s1.loss_bbox: 0.0959, s1.loss_mask: 0.0880, s2.loss_cls: 0.0301, s2.acc: 95.9103, s2.loss_bbox: 0.0378, s2.loss_mask: 0.0397, loss: 0.9922, grad_norm: 5.3719\n",
      "2021-05-19 14:30:57,299 - mmdet - INFO - Epoch [11][450/655]\tlr: 1.000e-05, eta: 0:11:03, time: 0.779, data_time: 0.018, memory: 20741, loss_rpn_cls: 0.0298, loss_rpn_bbox: 0.0222, s0.loss_cls: 0.1357, s0.acc: 95.4512, s0.loss_bbox: 0.2081, s0.loss_mask: 0.1832, s1.loss_cls: 0.0575, s1.acc: 96.1886, s1.loss_bbox: 0.0853, s1.loss_mask: 0.0829, s2.loss_cls: 0.0277, s2.acc: 96.2240, s2.loss_bbox: 0.0352, s2.loss_mask: 0.0384, loss: 0.9062, grad_norm: 5.1317\n",
      "2021-05-19 14:31:36,520 - mmdet - INFO - Epoch [11][500/655]\tlr: 1.000e-05, eta: 0:10:25, time: 0.784, data_time: 0.019, memory: 20741, loss_rpn_cls: 0.0325, loss_rpn_bbox: 0.0266, s0.loss_cls: 0.1463, s0.acc: 95.0977, s0.loss_bbox: 0.2287, s0.loss_mask: 0.2046, s1.loss_cls: 0.0612, s1.acc: 96.0048, s1.loss_bbox: 0.0940, s1.loss_mask: 0.0916, s2.loss_cls: 0.0297, s2.acc: 96.0639, s2.loss_bbox: 0.0377, s2.loss_mask: 0.0415, loss: 0.9943, grad_norm: 5.0802\n",
      "2021-05-19 14:32:15,507 - mmdet - INFO - Epoch [11][550/655]\tlr: 1.000e-05, eta: 0:09:46, time: 0.780, data_time: 0.020, memory: 20741, loss_rpn_cls: 0.0338, loss_rpn_bbox: 0.0266, s0.loss_cls: 0.1578, s0.acc: 94.6240, s0.loss_bbox: 0.2314, s0.loss_mask: 0.1972, s1.loss_cls: 0.0682, s1.acc: 95.4339, s1.loss_bbox: 0.0969, s1.loss_mask: 0.0879, s2.loss_cls: 0.0332, s2.acc: 95.4882, s2.loss_bbox: 0.0391, s2.loss_mask: 0.0401, loss: 1.0122, grad_norm: 5.0594\n",
      "2021-05-19 14:32:54,384 - mmdet - INFO - Epoch [11][600/655]\tlr: 1.000e-05, eta: 0:09:08, time: 0.778, data_time: 0.018, memory: 20741, loss_rpn_cls: 0.0317, loss_rpn_bbox: 0.0247, s0.loss_cls: 0.1416, s0.acc: 95.0781, s0.loss_bbox: 0.2337, s0.loss_mask: 0.1875, s1.loss_cls: 0.0605, s1.acc: 95.8745, s1.loss_bbox: 0.0964, s1.loss_mask: 0.0842, s2.loss_cls: 0.0294, s2.acc: 95.9285, s2.loss_bbox: 0.0383, s2.loss_mask: 0.0381, loss: 0.9660, grad_norm: 5.4499\n",
      "2021-05-19 14:33:33,787 - mmdet - INFO - Epoch [11][650/655]\tlr: 1.000e-05, eta: 0:08:29, time: 0.788, data_time: 0.019, memory: 20741, loss_rpn_cls: 0.0335, loss_rpn_bbox: 0.0261, s0.loss_cls: 0.1551, s0.acc: 94.7139, s0.loss_bbox: 0.2310, s0.loss_mask: 0.1921, s1.loss_cls: 0.0676, s1.acc: 95.4075, s1.loss_bbox: 0.0955, s1.loss_mask: 0.0872, s2.loss_cls: 0.0329, s2.acc: 95.4373, s2.loss_bbox: 0.0391, s2.loss_mask: 0.0399, loss: 0.9999, grad_norm: 5.8193\n",
      "2021-05-19 14:33:37,727 - mmdet - INFO - Saving checkpoint at 11 epochs\n"
     ]
    },
    {
     "name": "stdout",
     "output_type": "stream",
     "text": [
      "[>>>>>>>>>>>>>>>>>>>>>>>>>>>>>>] 655/655, 8.7 task/s, elapsed: 75s, ETA:     0s"
     ]
    },
    {
     "name": "stderr",
     "output_type": "stream",
     "text": [
      "2021-05-19 14:35:02,626 - mmdet - INFO - Evaluating bbox...\n"
     ]
    },
    {
     "name": "stdout",
     "output_type": "stream",
     "text": [
      "Loading and preparing results...\n",
      "DONE (t=0.08s)\n",
      "creating index...\n",
      "index created!\n",
      "Running per image evaluation...\n",
      "Evaluate annotation type *bbox*\n",
      "DONE (t=4.29s).\n",
      "Accumulating evaluation results...\n"
     ]
    },
    {
     "name": "stderr",
     "output_type": "stream",
     "text": [
      "2021-05-19 14:35:07,628 - mmdet - INFO - Evaluating segm...\n"
     ]
    },
    {
     "name": "stdout",
     "output_type": "stream",
     "text": [
      "DONE (t=0.61s).\n",
      "Average Precision  (AP) @[ IoU=0.50:0.95 | area=   all | maxDets=100 ] = 0.319\n",
      "Average Precision  (AP) @[ IoU=0.50      | area=   all | maxDets=1000 ] = 0.438\n",
      "Average Precision  (AP) @[ IoU=0.75      | area=   all | maxDets=1000 ] = 0.325\n",
      "Average Precision  (AP) @[ IoU=0.50:0.95 | area= small | maxDets=1000 ] = 0.058\n",
      "Average Precision  (AP) @[ IoU=0.50:0.95 | area=medium | maxDets=1000 ] = 0.294\n",
      "Average Precision  (AP) @[ IoU=0.50:0.95 | area= large | maxDets=1000 ] = 0.526\n",
      "Average Recall     (AR) @[ IoU=0.50:0.95 | area=   all | maxDets=100 ] = 0.437\n",
      "Average Recall     (AR) @[ IoU=0.50:0.95 | area=   all | maxDets=300 ] = 0.437\n",
      "Average Recall     (AR) @[ IoU=0.50:0.95 | area=   all | maxDets=1000 ] = 0.437\n",
      "Average Recall     (AR) @[ IoU=0.50:0.95 | area= small | maxDets=1000 ] = 0.151\n",
      "Average Recall     (AR) @[ IoU=0.50:0.95 | area=medium | maxDets=1000 ] = 0.419\n",
      "Average Recall     (AR) @[ IoU=0.50:0.95 | area= large | maxDets=1000 ] = 0.647\n",
      "Loading and preparing results...\n",
      "DONE (t=0.84s)\n",
      "creating index...\n",
      "index created!\n",
      "Running per image evaluation...\n",
      "Evaluate annotation type *segm*\n",
      "DONE (t=4.56s).\n",
      "Accumulating evaluation results...\n"
     ]
    },
    {
     "name": "stderr",
     "output_type": "stream",
     "text": [
      "2021-05-19 14:35:13,763 - mmdet - INFO - Epoch(val) [11][655]\tbbox_mAP: 0.3190, bbox_mAP_50: 0.4380, bbox_mAP_75: 0.3250, bbox_mAP_s: 0.0580, bbox_mAP_m: 0.2940, bbox_mAP_l: 0.5260, bbox_mAP_copypaste: 0.319 0.438 0.325 0.058 0.294 0.526, segm_mAP: 0.3020, segm_mAP_50: 0.4300, segm_mAP_75: 0.3270, segm_mAP_s: 0.0390, segm_mAP_m: 0.2620, segm_mAP_l: 0.5160, segm_mAP_copypaste: 0.302 0.430 0.327 0.039 0.262 0.516\n"
     ]
    },
    {
     "name": "stdout",
     "output_type": "stream",
     "text": [
      "DONE (t=0.62s).\n",
      "Average Precision  (AP) @[ IoU=0.50:0.95 | area=   all | maxDets=100 ] = 0.302\n",
      "Average Precision  (AP) @[ IoU=0.50      | area=   all | maxDets=1000 ] = 0.430\n",
      "Average Precision  (AP) @[ IoU=0.75      | area=   all | maxDets=1000 ] = 0.327\n",
      "Average Precision  (AP) @[ IoU=0.50:0.95 | area= small | maxDets=1000 ] = 0.039\n",
      "Average Precision  (AP) @[ IoU=0.50:0.95 | area=medium | maxDets=1000 ] = 0.262\n",
      "Average Precision  (AP) @[ IoU=0.50:0.95 | area= large | maxDets=1000 ] = 0.516\n",
      "Average Recall     (AR) @[ IoU=0.50:0.95 | area=   all | maxDets=100 ] = 0.410\n",
      "Average Recall     (AR) @[ IoU=0.50:0.95 | area=   all | maxDets=300 ] = 0.410\n",
      "Average Recall     (AR) @[ IoU=0.50:0.95 | area=   all | maxDets=1000 ] = 0.410\n",
      "Average Recall     (AR) @[ IoU=0.50:0.95 | area= small | maxDets=1000 ] = 0.113\n",
      "Average Recall     (AR) @[ IoU=0.50:0.95 | area=medium | maxDets=1000 ] = 0.372\n",
      "Average Recall     (AR) @[ IoU=0.50:0.95 | area= large | maxDets=1000 ] = 0.641\n"
     ]
    },
    {
     "name": "stderr",
     "output_type": "stream",
     "text": [
      "2021-05-19 14:35:55,548 - mmdet - INFO - Epoch [12][50/655]\tlr: 1.000e-06, eta: 0:07:47, time: 0.835, data_time: 0.067, memory: 20741, loss_rpn_cls: 0.0380, loss_rpn_bbox: 0.0275, s0.loss_cls: 0.1525, s0.acc: 94.6758, s0.loss_bbox: 0.2430, s0.loss_mask: 0.2093, s1.loss_cls: 0.0656, s1.acc: 95.4274, s1.loss_bbox: 0.0994, s1.loss_mask: 0.0920, s2.loss_cls: 0.0321, s2.acc: 95.6366, s2.loss_bbox: 0.0393, s2.loss_mask: 0.0421, loss: 1.0407, grad_norm: 5.5714\n",
      "2021-05-19 14:36:34,332 - mmdet - INFO - Epoch [12][100/655]\tlr: 1.000e-06, eta: 0:07:08, time: 0.776, data_time: 0.019, memory: 20741, loss_rpn_cls: 0.0285, loss_rpn_bbox: 0.0240, s0.loss_cls: 0.1312, s0.acc: 95.4131, s0.loss_bbox: 0.2151, s0.loss_mask: 0.1759, s1.loss_cls: 0.0557, s1.acc: 96.2276, s1.loss_bbox: 0.0871, s1.loss_mask: 0.0764, s2.loss_cls: 0.0276, s2.acc: 96.2593, s2.loss_bbox: 0.0359, s2.loss_mask: 0.0351, loss: 0.8925, grad_norm: 4.9187\n",
      "2021-05-19 14:37:13,246 - mmdet - INFO - Epoch [12][150/655]\tlr: 1.000e-06, eta: 0:06:30, time: 0.778, data_time: 0.019, memory: 20741, loss_rpn_cls: 0.0333, loss_rpn_bbox: 0.0272, s0.loss_cls: 0.1471, s0.acc: 94.8672, s0.loss_bbox: 0.2461, s0.loss_mask: 0.1977, s1.loss_cls: 0.0639, s1.acc: 95.5684, s1.loss_bbox: 0.1019, s1.loss_mask: 0.0879, s2.loss_cls: 0.0314, s2.acc: 95.5101, s2.loss_bbox: 0.0402, s2.loss_mask: 0.0396, loss: 1.0162, grad_norm: 5.2808\n",
      "2021-05-19 14:37:52,485 - mmdet - INFO - Epoch [12][200/655]\tlr: 1.000e-06, eta: 0:05:51, time: 0.785, data_time: 0.019, memory: 20741, loss_rpn_cls: 0.0360, loss_rpn_bbox: 0.0283, s0.loss_cls: 0.1497, s0.acc: 94.8486, s0.loss_bbox: 0.2348, s0.loss_mask: 0.1976, s1.loss_cls: 0.0628, s1.acc: 95.7663, s1.loss_bbox: 0.0977, s1.loss_mask: 0.0869, s2.loss_cls: 0.0305, s2.acc: 95.8782, s2.loss_bbox: 0.0408, s2.loss_mask: 0.0400, loss: 1.0050, grad_norm: 5.2765\n",
      "2021-05-19 14:38:30,235 - mmdet - INFO - Epoch [12][250/655]\tlr: 1.000e-06, eta: 0:05:12, time: 0.755, data_time: 0.016, memory: 20741, loss_rpn_cls: 0.0233, loss_rpn_bbox: 0.0200, s0.loss_cls: 0.1219, s0.acc: 95.7607, s0.loss_bbox: 0.2046, s0.loss_mask: 0.1773, s1.loss_cls: 0.0527, s1.acc: 96.3285, s1.loss_bbox: 0.0865, s1.loss_mask: 0.0791, s2.loss_cls: 0.0254, s2.acc: 96.4668, s2.loss_bbox: 0.0354, s2.loss_mask: 0.0362, loss: 0.8622, grad_norm: 5.0533\n",
      "2021-05-19 14:39:08,935 - mmdet - INFO - Epoch [12][300/655]\tlr: 1.000e-06, eta: 0:04:34, time: 0.774, data_time: 0.019, memory: 20741, loss_rpn_cls: 0.0294, loss_rpn_bbox: 0.0231, s0.loss_cls: 0.1400, s0.acc: 95.2510, s0.loss_bbox: 0.2228, s0.loss_mask: 0.1902, s1.loss_cls: 0.0587, s1.acc: 96.0177, s1.loss_bbox: 0.0910, s1.loss_mask: 0.0832, s2.loss_cls: 0.0285, s2.acc: 96.2017, s2.loss_bbox: 0.0379, s2.loss_mask: 0.0380, loss: 0.9427, grad_norm: 5.2051\n",
      "2021-05-19 14:39:47,264 - mmdet - INFO - Epoch [12][350/655]\tlr: 1.000e-06, eta: 0:03:55, time: 0.767, data_time: 0.018, memory: 20741, loss_rpn_cls: 0.0306, loss_rpn_bbox: 0.0245, s0.loss_cls: 0.1434, s0.acc: 95.0791, s0.loss_bbox: 0.2219, s0.loss_mask: 0.1888, s1.loss_cls: 0.0623, s1.acc: 95.7253, s1.loss_bbox: 0.0917, s1.loss_mask: 0.0833, s2.loss_cls: 0.0303, s2.acc: 95.8797, s2.loss_bbox: 0.0363, s2.loss_mask: 0.0376, loss: 0.9509, grad_norm: 5.3375\n",
      "2021-05-19 14:40:25,535 - mmdet - INFO - Epoch [12][400/655]\tlr: 1.000e-06, eta: 0:03:16, time: 0.765, data_time: 0.017, memory: 20741, loss_rpn_cls: 0.0287, loss_rpn_bbox: 0.0210, s0.loss_cls: 0.1260, s0.acc: 95.6475, s0.loss_bbox: 0.2072, s0.loss_mask: 0.1916, s1.loss_cls: 0.0532, s1.acc: 96.3785, s1.loss_bbox: 0.0859, s1.loss_mask: 0.0854, s2.loss_cls: 0.0254, s2.acc: 96.5734, s2.loss_bbox: 0.0353, s2.loss_mask: 0.0388, loss: 0.8985, grad_norm: 5.0620\n",
      "2021-05-19 14:41:04,611 - mmdet - INFO - Epoch [12][450/655]\tlr: 1.000e-06, eta: 0:02:38, time: 0.782, data_time: 0.019, memory: 20741, loss_rpn_cls: 0.0335, loss_rpn_bbox: 0.0239, s0.loss_cls: 0.1356, s0.acc: 95.3193, s0.loss_bbox: 0.2224, s0.loss_mask: 0.1918, s1.loss_cls: 0.0570, s1.acc: 96.1672, s1.loss_bbox: 0.0925, s1.loss_mask: 0.0840, s2.loss_cls: 0.0279, s2.acc: 96.2426, s2.loss_bbox: 0.0377, s2.loss_mask: 0.0380, loss: 0.9443, grad_norm: 5.1110\n",
      "2021-05-19 14:41:42,965 - mmdet - INFO - Epoch [12][500/655]\tlr: 1.000e-06, eta: 0:01:59, time: 0.767, data_time: 0.017, memory: 20741, loss_rpn_cls: 0.0266, loss_rpn_bbox: 0.0213, s0.loss_cls: 0.1285, s0.acc: 95.5371, s0.loss_bbox: 0.2210, s0.loss_mask: 0.1889, s1.loss_cls: 0.0537, s1.acc: 96.3287, s1.loss_bbox: 0.0909, s1.loss_mask: 0.0838, s2.loss_cls: 0.0265, s2.acc: 96.2052, s2.loss_bbox: 0.0371, s2.loss_mask: 0.0377, loss: 0.9161, grad_norm: 5.0290\n",
      "2021-05-19 14:42:21,574 - mmdet - INFO - Epoch [12][550/655]\tlr: 1.000e-06, eta: 0:01:21, time: 0.772, data_time: 0.020, memory: 20741, loss_rpn_cls: 0.0362, loss_rpn_bbox: 0.0262, s0.loss_cls: 0.1504, s0.acc: 94.8730, s0.loss_bbox: 0.2278, s0.loss_mask: 0.1971, s1.loss_cls: 0.0640, s1.acc: 95.6010, s1.loss_bbox: 0.0937, s1.loss_mask: 0.0887, s2.loss_cls: 0.0307, s2.acc: 95.7046, s2.loss_bbox: 0.0375, s2.loss_mask: 0.0403, loss: 0.9926, grad_norm: 5.1819\n",
      "2021-05-19 14:43:01,065 - mmdet - INFO - Epoch [12][600/655]\tlr: 1.000e-06, eta: 0:00:42, time: 0.790, data_time: 0.020, memory: 20741, loss_rpn_cls: 0.0411, loss_rpn_bbox: 0.0310, s0.loss_cls: 0.1669, s0.acc: 94.3643, s0.loss_bbox: 0.2617, s0.loss_mask: 0.2078, s1.loss_cls: 0.0704, s1.acc: 95.1032, s1.loss_bbox: 0.1069, s1.loss_mask: 0.0935, s2.loss_cls: 0.0342, s2.acc: 95.2990, s2.loss_bbox: 0.0421, s2.loss_mask: 0.0427, loss: 1.0983, grad_norm: 5.4093\n",
      "2021-05-19 14:43:38,635 - mmdet - INFO - Epoch [12][650/655]\tlr: 1.000e-06, eta: 0:00:03, time: 0.751, data_time: 0.018, memory: 20741, loss_rpn_cls: 0.0259, loss_rpn_bbox: 0.0214, s0.loss_cls: 0.1158, s0.acc: 95.9316, s0.loss_bbox: 0.1946, s0.loss_mask: 0.1836, s1.loss_cls: 0.0494, s1.acc: 96.6167, s1.loss_bbox: 0.0813, s1.loss_mask: 0.0821, s2.loss_cls: 0.0238, s2.acc: 96.7170, s2.loss_bbox: 0.0337, s2.loss_mask: 0.0380, loss: 0.8496, grad_norm: 4.8781\n",
      "2021-05-19 14:43:42,564 - mmdet - INFO - Saving checkpoint at 12 epochs\n"
     ]
    },
    {
     "name": "stdout",
     "output_type": "stream",
     "text": [
      "[>>>>>>>>>>>>>>>>>>>>>>>>>>>>>>] 655/655, 9.0 task/s, elapsed: 73s, ETA:     0s"
     ]
    },
    {
     "name": "stderr",
     "output_type": "stream",
     "text": [
      "2021-05-19 14:45:04,670 - mmdet - INFO - Evaluating bbox...\n"
     ]
    },
    {
     "name": "stdout",
     "output_type": "stream",
     "text": [
      "Loading and preparing results...\n",
      "DONE (t=0.07s)\n",
      "creating index...\n",
      "index created!\n",
      "Running per image evaluation...\n",
      "Evaluate annotation type *bbox*\n",
      "DONE (t=4.74s).\n",
      "Accumulating evaluation results...\n"
     ]
    },
    {
     "name": "stderr",
     "output_type": "stream",
     "text": [
      "2021-05-19 14:45:10,089 - mmdet - INFO - Evaluating segm...\n"
     ]
    },
    {
     "name": "stdout",
     "output_type": "stream",
     "text": [
      "DONE (t=0.59s).\n",
      "Average Precision  (AP) @[ IoU=0.50:0.95 | area=   all | maxDets=100 ] = 0.319\n",
      "Average Precision  (AP) @[ IoU=0.50      | area=   all | maxDets=1000 ] = 0.438\n",
      "Average Precision  (AP) @[ IoU=0.75      | area=   all | maxDets=1000 ] = 0.330\n",
      "Average Precision  (AP) @[ IoU=0.50:0.95 | area= small | maxDets=1000 ] = 0.059\n",
      "Average Precision  (AP) @[ IoU=0.50:0.95 | area=medium | maxDets=1000 ] = 0.295\n",
      "Average Precision  (AP) @[ IoU=0.50:0.95 | area= large | maxDets=1000 ] = 0.538\n",
      "Average Recall     (AR) @[ IoU=0.50:0.95 | area=   all | maxDets=100 ] = 0.438\n",
      "Average Recall     (AR) @[ IoU=0.50:0.95 | area=   all | maxDets=300 ] = 0.438\n",
      "Average Recall     (AR) @[ IoU=0.50:0.95 | area=   all | maxDets=1000 ] = 0.438\n",
      "Average Recall     (AR) @[ IoU=0.50:0.95 | area= small | maxDets=1000 ] = 0.153\n",
      "Average Recall     (AR) @[ IoU=0.50:0.95 | area=medium | maxDets=1000 ] = 0.421\n",
      "Average Recall     (AR) @[ IoU=0.50:0.95 | area= large | maxDets=1000 ] = 0.661\n",
      "Loading and preparing results...\n",
      "DONE (t=0.12s)\n",
      "creating index...\n",
      "index created!\n",
      "Running per image evaluation...\n",
      "Evaluate annotation type *segm*\n",
      "DONE (t=5.02s).\n",
      "Accumulating evaluation results...\n"
     ]
    },
    {
     "name": "stderr",
     "output_type": "stream",
     "text": [
      "2021-05-19 14:45:15,920 - mmdet - INFO - Epoch(val) [12][655]\tbbox_mAP: 0.3190, bbox_mAP_50: 0.4380, bbox_mAP_75: 0.3300, bbox_mAP_s: 0.0590, bbox_mAP_m: 0.2950, bbox_mAP_l: 0.5380, bbox_mAP_copypaste: 0.319 0.438 0.330 0.059 0.295 0.538, segm_mAP: 0.3040, segm_mAP_50: 0.4290, segm_mAP_75: 0.3270, segm_mAP_s: 0.0390, segm_mAP_m: 0.2660, segm_mAP_l: 0.5240, segm_mAP_copypaste: 0.304 0.429 0.327 0.039 0.266 0.524\n"
     ]
    },
    {
     "name": "stdout",
     "output_type": "stream",
     "text": [
      "DONE (t=0.58s).\n",
      "Average Precision  (AP) @[ IoU=0.50:0.95 | area=   all | maxDets=100 ] = 0.304\n",
      "Average Precision  (AP) @[ IoU=0.50      | area=   all | maxDets=1000 ] = 0.429\n",
      "Average Precision  (AP) @[ IoU=0.75      | area=   all | maxDets=1000 ] = 0.327\n",
      "Average Precision  (AP) @[ IoU=0.50:0.95 | area= small | maxDets=1000 ] = 0.039\n",
      "Average Precision  (AP) @[ IoU=0.50:0.95 | area=medium | maxDets=1000 ] = 0.266\n",
      "Average Precision  (AP) @[ IoU=0.50:0.95 | area= large | maxDets=1000 ] = 0.524\n",
      "Average Recall     (AR) @[ IoU=0.50:0.95 | area=   all | maxDets=100 ] = 0.414\n",
      "Average Recall     (AR) @[ IoU=0.50:0.95 | area=   all | maxDets=300 ] = 0.414\n",
      "Average Recall     (AR) @[ IoU=0.50:0.95 | area=   all | maxDets=1000 ] = 0.414\n",
      "Average Recall     (AR) @[ IoU=0.50:0.95 | area= small | maxDets=1000 ] = 0.113\n",
      "Average Recall     (AR) @[ IoU=0.50:0.95 | area=medium | maxDets=1000 ] = 0.380\n",
      "Average Recall     (AR) @[ IoU=0.50:0.95 | area= large | maxDets=1000 ] = 0.666\n"
     ]
    }
   ],
   "source": [
    "train_detector(model, datasets[0], cfg, distributed=False, validate=True)"
   ]
  },
  {
   "cell_type": "code",
   "execution_count": null,
   "metadata": {},
   "outputs": [],
   "source": []
  },
  {
   "cell_type": "code",
   "execution_count": null,
   "metadata": {},
   "outputs": [],
   "source": []
  }
 ],
 "metadata": {
  "kernelspec": {
   "display_name": "Python 3",
   "language": "python",
   "name": "python3"
  },
  "language_info": {
   "codemirror_mode": {
    "name": "ipython",
    "version": 3
   },
   "file_extension": ".py",
   "mimetype": "text/x-python",
   "name": "python",
   "nbconvert_exporter": "python",
   "pygments_lexer": "ipython3",
   "version": "3.7.7"
  },
  "pycharm": {
   "stem_cell": {
    "cell_type": "raw",
    "metadata": {
     "collapsed": false
    },
    "source": []
   }
  }
 },
 "nbformat": 4,
 "nbformat_minor": 4
}
